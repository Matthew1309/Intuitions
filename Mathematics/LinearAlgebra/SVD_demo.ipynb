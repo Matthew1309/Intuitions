{
 "cells": [
  {
   "cell_type": "markdown",
   "id": "b7de815a-db32-4e84-8daa-fbd673dea290",
   "metadata": {
    "tags": []
   },
   "source": [
    "# SVD_demo (why it works)\n",
    "I am making this in order to better understand the RPCA methodology of Seurat 2023's integration technique.\n",
    "\n",
    "### List of resources that have helped:\n",
    "1. https://towardsdatascience.com/svd-8c2f72e264f\n",
    "1. https://machinelearningmastery.com/singular-value-decomposition-for-machine-learning/#:~:text=The%20SVD%20is%20used%20widely,image%20compression%2C%20and%20denoising%20data.\n",
    "\n",
    "### Summary of demo:\n",
    "1. Generate 2 nearly identical datasets with resembling ground truths $A$ and $A2$.\n",
    "1. Perturb the two datasets with transformation matricies V and V2 to create $S = A*V$ and $S2 = A2 * V2$\n",
    "1. Plot S and S2 on a single axis to show misalignment\n",
    "1. Plot each dataset under the other's transformation matrix $A*V2$ and $A2*V$\n",
    "\n",
    "<img src=\"./SVD_demo_plan_small.jpg\"  width=\"300\" height=\"300\">\n",
    "\n",
    "\n",
    "### Generalization concept: \n",
    "This technique works because we assume our single cell datasets resemble some ground truth perturbed by its environment, aka $S$. Therefore we need to estimate their ground truth, and plot that in the transformation of the other. The technique SVD decomposes an input dataset into its estimated ground truth + transformations (usually PCA)."
   ]
  },
  {
   "cell_type": "code",
   "execution_count": 1,
   "id": "dac593ec-6c93-4841-922d-a783734808d7",
   "metadata": {
    "jupyter": {
     "source_hidden": true
    },
    "tags": []
   },
   "outputs": [],
   "source": [
    "import time\n",
    "from datetime import date\n",
    "import matplotlib.pyplot as plt\n",
    "import matplotlib\n",
    "import pandas as pd\n",
    "import numpy as np\n",
    "from math import e\n",
    "\n",
    "palette = [value for value in matplotlib.colors.TABLEAU_COLORS.values()]"
   ]
  },
  {
   "cell_type": "markdown",
   "id": "639fa7f8-2bbf-4906-8d9a-30a5b312ea48",
   "metadata": {
    "tags": []
   },
   "source": [
    "## Generating ground truth As"
   ]
  },
  {
   "cell_type": "code",
   "execution_count": 2,
   "id": "ddc478a8-f7ca-47b6-b909-f2a16ca86d69",
   "metadata": {
    "tags": []
   },
   "outputs": [],
   "source": [
    "A = pd.DataFrame({\"X\": np.concatenate((np.random.normal(10,1.0,5), np.random.normal(3,1.0,5))),\n",
    "                 \"Y\": np.concatenate((np.random.normal(10,1.0,5), np.random.normal(3,1.0,5)))})\n",
    "A2 = pd.DataFrame({\"X\": np.concatenate((np.random.normal(10,1.0,5), np.random.normal(3,1.0,5))),\n",
    "                 \"Y\": np.concatenate((np.random.normal(10,1.0,5), np.random.normal(3,1.0,5)))})\n",
    "\n",
    "df = pd.concat([A,A2], keys=['A', 'A2']).reset_index()"
   ]
  },
  {
   "cell_type": "code",
   "execution_count": 3,
   "id": "2c38688b-c9ee-490d-8668-83e1f5b7b0d7",
   "metadata": {
    "collapsed": true,
    "jupyter": {
     "outputs_hidden": true,
     "source_hidden": true
    },
    "tags": []
   },
   "outputs": [
    {
     "data": {
      "text/html": [
       "<div>\n",
       "<style scoped>\n",
       "    .dataframe tbody tr th:only-of-type {\n",
       "        vertical-align: middle;\n",
       "    }\n",
       "\n",
       "    .dataframe tbody tr th {\n",
       "        vertical-align: top;\n",
       "    }\n",
       "\n",
       "    .dataframe thead th {\n",
       "        text-align: right;\n",
       "    }\n",
       "</style>\n",
       "<table border=\"1\" class=\"dataframe\">\n",
       "  <thead>\n",
       "    <tr style=\"text-align: right;\">\n",
       "      <th></th>\n",
       "      <th>level_0</th>\n",
       "      <th>level_1</th>\n",
       "      <th>X</th>\n",
       "      <th>Y</th>\n",
       "    </tr>\n",
       "  </thead>\n",
       "  <tbody>\n",
       "    <tr>\n",
       "      <th>0</th>\n",
       "      <td>A</td>\n",
       "      <td>0</td>\n",
       "      <td>10.127154</td>\n",
       "      <td>10.241426</td>\n",
       "    </tr>\n",
       "    <tr>\n",
       "      <th>1</th>\n",
       "      <td>A</td>\n",
       "      <td>1</td>\n",
       "      <td>8.981623</td>\n",
       "      <td>10.802676</td>\n",
       "    </tr>\n",
       "    <tr>\n",
       "      <th>2</th>\n",
       "      <td>A</td>\n",
       "      <td>2</td>\n",
       "      <td>10.396205</td>\n",
       "      <td>9.740500</td>\n",
       "    </tr>\n",
       "    <tr>\n",
       "      <th>3</th>\n",
       "      <td>A</td>\n",
       "      <td>3</td>\n",
       "      <td>8.877421</td>\n",
       "      <td>10.341263</td>\n",
       "    </tr>\n",
       "    <tr>\n",
       "      <th>4</th>\n",
       "      <td>A</td>\n",
       "      <td>4</td>\n",
       "      <td>9.838468</td>\n",
       "      <td>9.021358</td>\n",
       "    </tr>\n",
       "  </tbody>\n",
       "</table>\n",
       "</div>"
      ],
      "text/plain": [
       "  level_0  level_1          X          Y\n",
       "0       A        0  10.127154  10.241426\n",
       "1       A        1   8.981623  10.802676\n",
       "2       A        2  10.396205   9.740500\n",
       "3       A        3   8.877421  10.341263\n",
       "4       A        4   9.838468   9.021358"
      ]
     },
     "metadata": {},
     "output_type": "display_data"
    }
   ],
   "source": [
    "display(df.head())"
   ]
  },
  {
   "cell_type": "code",
   "execution_count": 4,
   "id": "e88c3999-b9e9-48d7-b026-bbbed4a6bd77",
   "metadata": {
    "jupyter": {
     "source_hidden": true
    },
    "tags": []
   },
   "outputs": [
    {
     "data": {
      "image/png": "[encoded data removed]",
      "text/plain": [
       "<Figure size 432x288 with 1 Axes>"
      ]
     },
     "metadata": {
      "needs_background": "light"
     },
     "output_type": "display_data"
    },
    {
     "data": {
      "image/png": "[encoded data removed]",
      "text/plain": [
       "<Figure size 954x216 with 2 Axes>"
      ]
     },
     "metadata": {
      "needs_background": "light"
     },
     "output_type": "display_data"
    }
   ],
   "source": [
    "groups = df.groupby('level_0')\n",
    "for name, group in groups:\n",
    "    plt.plot(group.X, group.Y, marker='.', linestyle='', markersize=12, label=name)\n",
    "plt.legend()\n",
    "\n",
    "fig, axes = plt.subplots(nrows= 1, ncols=2, figsize=[13.25,3])\n",
    "x_min = np.min(df['X'])-2; y_min = np.min(df['Y'])-2\n",
    "x_max = np.max(df['X'])+2; y_max = np.max(df['Y'])+2\n",
    "for i, g in enumerate(groups):\n",
    "    name, group = g\n",
    "    axes[i].set_xlim(x_min, x_max)\n",
    "    axes[i].set_ylim(y_min, y_max)\n",
    "    axes[i].plot(group.X, group.Y, marker='.', linestyle='', markersize=12, c=palette[i])\n",
    "    axes[i].title.set_text(name)\n"
   ]
  },
  {
   "cell_type": "markdown",
   "id": "33fe3818-4324-4bbd-b7fa-e11575aab52d",
   "metadata": {
    "tags": []
   },
   "source": [
    "## Perturbing A with V to generate S\n",
    "This $S$ is what is normally presented to us during single cell analysis, we normally never see $A$. I am delibratly chosing nice V matrix manipulations to demonstrate that even data that seemingly comes from the same source can look very different after a linear pertubation. In this case, I will mildly stretch $A$, and I will rotate $A2$ by 90 degrees."
   ]
  },
  {
   "cell_type": "code",
   "execution_count": 5,
   "id": "754a7eef-d437-4141-b407-2cb1853117b7",
   "metadata": {
    "jupyter": {
     "source_hidden": true
    },
    "tags": []
   },
   "outputs": [],
   "source": [
    "# Defining my pertubation matricies\n",
    "V = np.array([[1.1,0],\n",
    "             [0,1.1]])\n",
    "V2 = np.array([[-1,0],\n",
    "                [0,1]])"
   ]
  },
  {
   "cell_type": "code",
   "execution_count": 6,
   "id": "a52a1468-eea9-4198-a386-9809936947cd",
   "metadata": {
    "jupyter": {
     "source_hidden": true
    },
    "tags": []
   },
   "outputs": [],
   "source": [
    "# Generating my perturbed data\n",
    "S = np.matmul(A,V); S.columns = ['X', 'Y']\n",
    "S2 = np.matmul(A2,V2); S2.columns = ['X', 'Y']"
   ]
  },
  {
   "cell_type": "code",
   "execution_count": 7,
   "id": "6979e75c-a552-4c86-9b40-cf1f56eb720d",
   "metadata": {
    "jupyter": {
     "source_hidden": true
    },
    "tags": []
   },
   "outputs": [
    {
     "data": {
      "image/png": "[encoded data removed]",
      "text/plain": [
       "<Figure size 432x288 with 1 Axes>"
      ]
     },
     "metadata": {
      "needs_background": "light"
     },
     "output_type": "display_data"
    },
    {
     "data": {
      "image/png": "[encoded data removed]",
      "text/plain": [
       "<Figure size 432x360 with 4 Axes>"
      ]
     },
     "metadata": {
      "needs_background": "light"
     },
     "output_type": "display_data"
    }
   ],
   "source": [
    "df = pd.concat([A,A2,S,S2], keys=['A', 'A2', \"S\", \"S2\"]).reset_index()\n",
    "groups = df.groupby('level_0')\n",
    "for name, group in groups:\n",
    "    plt.plot(group.X, group.Y, marker='.', linestyle='', markersize=12, label=name)\n",
    "plt.legend()\n",
    "\n",
    "fig, axes = plt.subplots(nrows= 2, ncols=2, figsize=[6,5])\n",
    "fig.tight_layout(pad=1.2)\n",
    "x_min = np.min(df['X'])-2; y_min = np.min(df['Y'])-2\n",
    "x_max = np.max(df['X'])+2; y_max = np.max(df['Y'])+2\n",
    "groups = df.groupby('level_0')\n",
    "for i, g in enumerate(groups):\n",
    "    x = i//2\n",
    "    y = i%2\n",
    "    name, group = g\n",
    "    axes[x,y].set_xlim(x_min, x_max)\n",
    "    axes[x,y].set_ylim(y_min, y_max)\n",
    "    axes[x,y].plot(group.X, group.Y, marker='.', linestyle='', markersize=12, c=palette[i])\n",
    "    axes[x,y].title.set_text(name)"
   ]
  },
  {
   "cell_type": "markdown",
   "id": "fe3104b2-f111-416a-b39c-a47fc430d4b1",
   "metadata": {},
   "source": [
    "## Applying reciprocal V mutations"
   ]
  },
  {
   "cell_type": "code",
   "execution_count": 8,
   "id": "43420b35-2a67-420a-832a-e6573675d08a",
   "metadata": {
    "jupyter": {
     "source_hidden": true
    },
    "tags": []
   },
   "outputs": [],
   "source": [
    "# Generating my perturbed data\n",
    "W = np.matmul(A,V2); W.columns = ['X', 'Y']\n",
    "W2 = np.matmul(A2,V); W2.columns = ['X', 'Y']"
   ]
  },
  {
   "cell_type": "code",
   "execution_count": 9,
   "id": "0f98cff4-e39d-4eab-b1d0-a1f09ba72be9",
   "metadata": {
    "jupyter": {
     "source_hidden": true
    },
    "tags": []
   },
   "outputs": [
    {
     "data": {
      "text/plain": [
       "<matplotlib.legend.Legend at 0x7f2ccf078f10>"
      ]
     },
     "execution_count": 9,
     "metadata": {},
     "output_type": "execute_result"
    },
    {
     "data": {
      "image/png": "[encoded data removed]",
      "text/plain": [
       "<Figure size 432x288 with 1 Axes>"
      ]
     },
     "metadata": {
      "needs_background": "light"
     },
     "output_type": "display_data"
    },
    {
     "data": {
      "image/png": "[encoded data removed]",
      "text/plain": [
       "<Figure size 432x216 with 2 Axes>"
      ]
     },
     "metadata": {
      "needs_background": "light"
     },
     "output_type": "display_data"
    }
   ],
   "source": [
    "df = pd.concat([A,A2,S,S2,W,W2], keys=['A', 'A2', \"S\", \"S2\", \"W\", \"W2\"]).reset_index()\n",
    "groups = df.groupby('level_0')\n",
    "for name, group in groups:\n",
    "    plt.plot(group.X, group.Y, marker='.', linestyle='', markersize=12, label=name)\n",
    "plt.legend()\n",
    "\n",
    "fig, axes = plt.subplots(nrows= 1, ncols=2, figsize=[6,3])\n",
    "fig.tight_layout(pad=1.2)\n",
    "axes[0].plot(df[df['level_0'] == 'W'].X, df[df['level_0'] == 'W'].Y, marker='.', linestyle='', label = 'A x V2',markersize=12, c=palette[4])\n",
    "axes[0].plot(df[df['level_0'] == 'S2'].X, df[df['level_0'] == 'S2'].Y, marker='.', linestyle='', label = 'A2 x V2',markersize=12, c=palette[3])\n",
    "axes[0].set_title(\"Transformed by V2\")\n",
    "axes[0].legend()\n",
    "axes[1].plot(df[df['level_0'] == 'W2'].X, df[df['level_0'] == 'W2'].Y, marker='.', linestyle='', label = 'A2 x V',markersize=12, c=palette[5])\n",
    "axes[1].plot(df[df['level_0'] == 'S'].X, df[df['level_0'] == 'S'].Y, marker='.', linestyle='', label = 'A x V',markersize=12, c=palette[2])\n",
    "axes[1].set_title(\"Transformed by V\")\n",
    "axes[1].legend()"
   ]
  },
  {
   "cell_type": "markdown",
   "id": "e94458de-e545-4f5c-842d-f11edbc0ed6f",
   "metadata": {},
   "source": [
    "## Demo conclusion\n",
    "As we can see, by mapping each ground-truth matrix onto the transformed landscape of their reciprocal dataset, we seem to regenerate the ground truth observation that the two datasets come from similar backgrounds.\n",
    "\n",
    "Try replicating this on your own, and see what happens if you change A2's X from `(np.random.normal(10,1.0,5)` -> `(np.random.normal(4,1.0,5)`. *hint* one of the clusters will ultimately overlap, but the other will not."
   ]
  },
  {
   "cell_type": "markdown",
   "id": "bd42161f-3be5-4686-8971-2606c155accb",
   "metadata": {},
   "source": [
    "# SVD_demo (application)\n",
    "I'm pretty sure \n",
    "* A = raw_count_matrix\n",
    "* V = PCA loadings\n",
    "* S = transformed_dim_reduced matrix"
   ]
  },
  {
   "cell_type": "code",
   "execution_count": 26,
   "id": "27b09019-7b0d-4231-b008-93fec5b3dfec",
   "metadata": {},
   "outputs": [
    {
     "name": "stdout",
     "output_type": "stream",
     "text": [
      "[NbConvertApp] Converting notebook ./SVD_demo.ipynb to html\n",
      "[NbConvertApp] Writing 643466 bytes to SVD_demo.html\n"
     ]
    }
   ],
   "source": [
    "!jupyter nbconvert --to html --no-input ./SVD_demo.ipynb"
   ]
  }
 ],
 "metadata": {
  "kernelspec": {
   "display_name": "Python 3.9.12 (stats)",
   "language": "python",
   "name": "stats"
  },
  "language_info": {
   "codemirror_mode": {
    "name": "ipython",
    "version": 3
   },
   "file_extension": ".py",
   "mimetype": "text/x-python",
   "name": "python",
   "nbconvert_exporter": "python",
   "pygments_lexer": "ipython3",
   "version": "3.9.12"
  }
 },
 "nbformat": 4,
 "nbformat_minor": 5
}
