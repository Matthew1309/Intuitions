{
 "cells": [
  {
   "cell_type": "markdown",
   "id": "1e5729c6-3512-420f-91fc-434bc6ebb616",
   "metadata": {},
   "source": [
    "# Evaporating water from a dish\n",
    "## Notebook Goals\n",
    "The goal of this exercise is to model how much moisture is in the air as a function of time. Ideally, this will give me an estimate of how long a dish of water needs to be in a box until a desired saturation is achieved. I have two approaches, and I like the second one more. I end up having a first order ODE analagous to compound interest, except I'm reaching a saturation and fall off point."
   ]
  },
  {
   "cell_type": "code",
   "execution_count": 1,
   "id": "e7858094-1bbc-4f47-8727-2f5f9e25b5f6",
   "metadata": {},
   "outputs": [],
   "source": [
    "import numpy as np\n",
    "import matplotlib.pyplot as plt\n",
    "import scipy as sp\n",
    "import sympy as smp\n",
    "from scipy.misc import derivative"
   ]
  },
  {
   "cell_type": "markdown",
   "id": "a664e7a6-62c6-4108-a0ef-9a0c4dd0118d",
   "metadata": {
    "jupyter": {
     "source_hidden": true
    },
    "tags": []
   },
   "source": [
    "## First approach"
   ]
  },
  {
   "cell_type": "code",
   "execution_count": 72,
   "id": "c6cff116-d58d-480e-9baf-79b3724f80ce",
   "metadata": {
    "jupyter": {
     "source_hidden": true
    },
    "tags": []
   },
   "outputs": [],
   "source": [
    "t = np.linspace(1e-3, 1, 100000)\n",
    "\n",
    "Ce = 1e-4 # ?\n",
    "T = 270 # K\n",
    "Sa = 20 # cm^2\n",
    "nvo = 1 # mols\n",
    "nt = 20 # mols\n",
    "def Re(nv, t, Ce, T, Sa, nt):\n",
    "    return Ce * ((T * Sa)+(nv/nt)*(1/T**2)) * t\n",
    "\n",
    "Cc = 1e-1\n",
    "def Rc(nv, t, Cc, T, Sa, nt):\n",
    "    return -((Cc * (nv/nt) * Sa)/T) * t\n",
    "\n",
    "def nv(nv, t, Ce, Cc, T, Sa, nt):\n",
    "    return(nv + Re(nv, t, Ce, T, Sa, nt) + Rc(nv, t, Cc, T, Sa, nt))"
   ]
  },
  {
   "cell_type": "code",
   "execution_count": 73,
   "id": "0071d173-5ab8-4cc3-9081-364d302abfd1",
   "metadata": {
    "jupyter": {
     "source_hidden": true
    },
    "tags": []
   },
   "outputs": [],
   "source": [
    "y = [nvo]\n",
    "for i, time_point in enumerate(t):\n",
    "    y.append(nv(y[i], time_point, Ce, Cc, T, Sa, nt))\n",
    "x = t\n",
    "x = np.insert(x, 0, 0)"
   ]
  },
  {
   "cell_type": "code",
   "execution_count": 74,
   "id": "08dafcdd-f8e8-4b6f-bb7f-712d677b8091",
   "metadata": {
    "collapsed": true,
    "jupyter": {
     "outputs_hidden": true,
     "source_hidden": true
    },
    "tags": []
   },
   "outputs": [
    {
     "data": {
      "text/plain": [
       "[<matplotlib.lines.Line2D at 0x217855e6610>]"
      ]
     },
     "execution_count": 74,
     "metadata": {},
     "output_type": "execute_result"
    },
    {
     "data": {
      "image/png": "[encoded data removed]",
      "text/plain": [
       "<Figure size 432x288 with 1 Axes>"
      ]
     },
     "metadata": {
      "needs_background": "light"
     },
     "output_type": "display_data"
    }
   ],
   "source": [
    "plt.plot(x,y)"
   ]
  },
  {
   "cell_type": "markdown",
   "id": "7284bffe-aef0-45ba-80bf-fbe71cbb1dfc",
   "metadata": {},
   "source": [
    "## Second approach <-\n",
    "Model: We have some $n_w$ amount of water at the surface of a bowl and $n_v$ amount of water in the air as vapor. I will be considering only the point of view of $n_v$, and therefore ask the questions:\n",
    "1. How does water get added to the vapor?\n",
    "1. How does water get subtracted from the vapor?\n",
    "\n",
    "Well at any given time $t$, I will assume that \n",
    "\n",
    "$$n_v(t) = n_{v0}.$$ \n",
    "\n",
    "In a tiny time step of $\\Delta t$ we can only gain vapor if some proportion of the water at the surface at the bowl $k n_w$ evaporated. Likewise, we can only lose vapor water if some proportion of $n_v$, $l n_v$, condensed back into the bowl. This would look like \n",
    "\n",
    "$$n_v(t+\\Delta t) = n_v(t) + \\Delta t(kn_w - ln_v(t)).$$\n",
    "\n",
    "Here, my fun assumption is that $kn_w$ is a constant I'll call $E$! $E$ represents the rate of liquid evaporting (as opposed to $k n_w\\Delta t$ which would be the number of water molecules that left the water surface in the span of $\\Delta t$) and it would not depend on time at all. Its only dependancies would be on the surface area ($S_A$), temperature ($T$), and some liquid specific volitility properties ($C$) --- $E = S_A T C$. $E \\in \\mathbb{R}$ and means the number of moles that leave due to evaporation.\n",
    "\n",
    "The $ln_v(t)$ term is a bit less solid in my mind. $n_v(t)$ is definetely a function of time, but the proportionality constant $l$ I'm a bit unsure of what it should depend on. My current rationale is that \n",
    "1. The hotter the temperature, the smaller $l$ should be $l \\propto \\frac{1}{T}$\n",
    "1. The more surface area of water, the more water will try to condense $l \\propto S_A$\n",
    "1. And some reliance on how volitile the liquid is $l \\propto \\frac{1}{C}$\n",
    "1. Lastly, because $l$ is a proportion, $0<l<1$.\n",
    "\n",
    "\n",
    "To summarize\n",
    "1. Initial condition $n_v(t) = n_{v0}$ mols of $H_2O$ in the air\n",
    "1. Change over time $\\frac{dn_v}{dt} = E-ln_v(t)$ mols/second"
   ]
  },
  {
   "cell_type": "code",
   "execution_count": 307,
   "id": "7fb164fb-4fb1-4776-981f-751eb4865a80",
   "metadata": {},
   "outputs": [
    {
     "data": {
      "text/plain": [
       "8640"
      ]
     },
     "execution_count": 307,
     "metadata": {},
     "output_type": "execute_result"
    }
   ],
   "source": [
    "360 * 24"
   ]
  },
  {
   "cell_type": "code",
   "execution_count": 319,
   "id": "11db2b1e-6831-49cb-9333-f72ab7baa755",
   "metadata": {},
   "outputs": [],
   "source": [
    "t = np.linspace(0, 8640, 10000)\n",
    "\n",
    "nv0 = 0\n",
    "nv = [nv0]\n",
    "l = 1e-3 # 0<l<1\n",
    "E = 1/100\n",
    "def dnvdt(nv, E, l):\n",
    "    return(E-l*nv)"
   ]
  },
  {
   "cell_type": "code",
   "execution_count": 320,
   "id": "bdb93867-42cd-4b07-b4af-0feeac923dc0",
   "metadata": {
    "tags": []
   },
   "outputs": [
    {
     "name": "stdout",
     "output_type": "stream",
     "text": [
      "Saturates at: 22.096609660966095 hr\n",
      "Satisfies at: 2.1986198619861983 hr\n"
     ]
    }
   ],
   "source": [
    "for i in range(1,len(t)):\n",
    "    time_point = t[i]\n",
    "    dnvdt_value = dnvdt(nv[i-1], E, l)\n",
    "    nv.append(nv[i-1] + dnvdt_value)\n",
    "    # print(f't: {time_point}\\nE: {E}\\nl: {l}\\ndnvdt_value: {dnvdt_value}')\n",
    "\n",
    "prop_sat = 0.6\n",
    "error_margin = 1e-3\n",
    "try:\n",
    "    print(f'Saturates at: {t[np.where(np.array(nv) >= ((E/l - error_margin)))[0][0]]/360} hr')\n",
    "except:\n",
    "    print(\"Doesn't saturate\")\n",
    "try:\n",
    "    print(f'Satisfies at: {t[np.where(np.array(nv) >= (prop_sat*(E/l - error_margin)))[0][0]]/360} hr')\n",
    "    time_till_satisfied = t[np.where(np.array(nv) >= (prop_sat*(E/l - error_margin)))[0][0]]/360\n",
    "except:\n",
    "    print(\"Doesn't satisfy\")"
   ]
  },
  {
   "cell_type": "code",
   "execution_count": 321,
   "id": "d209b13c-5233-4536-84c3-0541434c540d",
   "metadata": {
    "tags": []
   },
   "outputs": [
    {
     "data": {
      "text/plain": [
       "Text(4.198619861986199, 6.1, '(2.2,6.0) 60.0% sat')"
      ]
     },
     "execution_count": 321,
     "metadata": {},
     "output_type": "execute_result"
    },
    {
     "data": {
      "image/png": "[encoded data removed]",
      "text/plain": [
       "<Figure size 432x288 with 1 Axes>"
      ]
     },
     "metadata": {
      "needs_background": "light"
     },
     "output_type": "display_data"
    }
   ],
   "source": [
    "# time_till_satisfied = t[np.where(np.array(nv) >= (prop_sat*(E/l - error_margin)))[0][0]]\n",
    "\n",
    "plt.plot(t/360, nv)\n",
    "plt.ylabel(\"Water Vapor (mols)\")\n",
    "plt.xlabel(\"Time (hr)\")\n",
    "plt.axhline(E/l, color = 'red', dashes=[1,0,1])\n",
    "plt.axvline(time_till_satisfied, color='green', dashes=[1,0,1])\n",
    "plt.text(time_till_satisfied+2, (prop_sat * E/l)+0.1, f'({round(time_till_satisfied,2)},{round((prop_sat * E/l),2)}) {prop_sat*100}% sat', fontsize=9)"
   ]
  },
  {
   "cell_type": "markdown",
   "id": "906c26f0-8be6-4eed-a477-21a07db1e814",
   "metadata": {},
   "source": [
    "### Summary\n",
    "1. Saturation (max water in the atmosphere) occurs at $\\frac{E}{l}$\n",
    "1. Time of saturation can be found numerically by looking for when $n_v \\propto \\frac{E}{l}$ within a certain threshold\n",
    "1. Relative humidity would probably be calculated by $\\frac{ln_v}{E}$"
   ]
  },
  {
   "cell_type": "markdown",
   "id": "659a82ba-399e-43a4-8293-aef9a19a78a1",
   "metadata": {},
   "source": [
    "### Future directions\n",
    "1. It would be interesting to iron out all the units and eventually solve for a 'relative humidity' value because that is what is measurable. Should not be to difficult considering $\\frac{E}{l}$ turned out to be saturation.\n",
    "\n",
    "1. I should also symbolically solve the ODE. I shouldn't be too tough, just need to remember the formulas.\n",
    "\n",
    "1. It would be nice to practice sympy and turn all these functions into symbols. Who knows, maybe it could solve the ODE for me in python!\n",
    "\n",
    "1. I didn't read [Chen Zhang's Modeling and Simulation of Humidity Inside Sealed Boxes](https://www.researchgate.net/publication/232616036_Modeling_and_Simulation_of_Humidity_Inside_Sealed_Boxes) paper too carefully, but it might be beneficial to look over his work and look at the equations he cites."
   ]
  },
  {
   "cell_type": "code",
   "execution_count": null,
   "id": "ba4f9344-5be9-4495-a724-aced824243e7",
   "metadata": {},
   "outputs": [],
   "source": []
  }
 ],
 "metadata": {
  "kernelspec": {
   "display_name": "Python 3.9 (stats)",
   "language": "python",
   "name": "stats"
  },
  "language_info": {
   "codemirror_mode": {
    "name": "ipython",
    "version": 3
   },
   "file_extension": ".py",
   "mimetype": "text/x-python",
   "name": "python",
   "nbconvert_exporter": "python",
   "pygments_lexer": "ipython3",
   "version": "3.9.12"
  }
 },
 "nbformat": 4,
 "nbformat_minor": 5
}
