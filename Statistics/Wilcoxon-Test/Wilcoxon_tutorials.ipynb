{
 "cells": [
  {
   "cell_type": "markdown",
   "id": "878249fb-abcc-43bb-aad1-1573eb6482e4",
   "metadata": {
    "toc-hr-collapsed": true
   },
   "source": [
    "# Wilcoxon Rank Sum Test\n",
    "Here are some resources that may help with understanding this test:\n",
    "* The Wilcoxon Rank Sum Test, University of Virginia: https://data.library.virginia.edu/the-wilcoxon-rank-sum-test/\n",
    "* The Wilcoxon Rank-Sum Test, Univiersity of Auckland: https://www.stat.auckland.ac.nz/~wild/ChanceEnc/Ch10.wilcoxon.pdf\n",
    "* Wilcoxon-Test (Wilcoxon Signed Rank Test): https://www.youtube.com/watch?v=NZsL2eDQiDQ\n",
    "* How To... Perform a Wilcoxon Signed Rank Test (By Hand): https://www.youtube.com/watch?v=TqCg2tb4wJ0\n",
    "* How To... Perform the Mann-Whitney U Test (By Hand): https://www.youtube.com/watch?v=BT1FKd1Qzjw\n",
    "* Statistics 101: Nonparametric Methods, Mann-Whitney-Wilcoxon Rank Sum Test: https://www.youtube.com/watch?v=fEobVCV2TJE\n",
    "\n",
    "### Intuition\n",
    "The intuition behind this test is that we are trying to determine whether two distributions that have the same shape, but different spacial layout.\n",
    "\n",
    "### Assumptions\n",
    "1. The two samples are *are* dependent\n",
    "1. The two populations have equal variance or spread\n",
    "\n",
    "### Applications\n",
    "* Single cell RNAseq\n",
    "* When paired t-test is non-applicable\n",
    "independent of one another (yet some sources say the two samples"
   ]
  },
  {
   "cell_type": "markdown",
   "id": "3c6d03dd-ea92-40d4-b9d1-bff65ec4011a",
   "metadata": {
    "tags": [],
    "toc-hr-collapsed": true
   },
   "source": [
    "# Example 1: Wilcoxon on paired data"
   ]
  },
  {
   "cell_type": "markdown",
   "id": "42fa811d-6c3c-4bfc-b2e6-64014e0bbcf9",
   "metadata": {},
   "source": [
    "## Loading in data and looking at it\n",
    "We will be using Eugene O'Loughlin's example dataset from. How To... Perform a Wilcoxon Signed Rank Test (By Hand): https://www.youtube.com/watch?v=TqCg2tb4wJ0. The following data are measured aluminium content in different trees growing in a polluted area. We are asking the question \n",
    "> \"**Is there a significant difference in the metal content between August and November?**\""
   ]
  },
  {
   "cell_type": "code",
   "execution_count": 21,
   "id": "8aa2cdcc-82bb-4c90-bc22-13e36dd41f2c",
   "metadata": {},
   "outputs": [],
   "source": [
    "library(rstatix)\n",
    "library(ggpubr)\n",
    "library(pals)\n",
    "library(tidyr)\n",
    "library(plyr)\n",
    "library(dplyr)\n",
    "library(openxlsx)\n",
    "library(cowplot)\n",
    "library(reshape2)\n",
    "library(patchwork)\n",
    "library(ggplot2)\n",
    "library(Matrix)"
   ]
  },
  {
   "cell_type": "code",
   "execution_count": 2,
   "id": "578cf89f-bb84-4333-91f6-b42f21e2e05f",
   "metadata": {},
   "outputs": [
    {
     "data": {
      "text/html": [
       "<table class=\"dataframe\">\n",
       "<caption>A data.frame: 13 × 3</caption>\n",
       "<thead>\n",
       "\t<tr><th scope=col>Clone</th><th scope=col>August</th><th scope=col>November</th></tr>\n",
       "\t<tr><th scope=col>&lt;chr&gt;</th><th scope=col>&lt;dbl&gt;</th><th scope=col>&lt;dbl&gt;</th></tr>\n",
       "</thead>\n",
       "<tbody>\n",
       "\t<tr><td>Columbia River</td><td>18.3</td><td>12.7</td></tr>\n",
       "\t<tr><td>Fritzi Pauley </td><td>13.3</td><td>11.1</td></tr>\n",
       "\t<tr><td>Hazen Dans    </td><td>16.5</td><td>15.3</td></tr>\n",
       "\t<tr><td>Primo         </td><td>12.6</td><td>12.7</td></tr>\n",
       "\t<tr><td>Raspalse      </td><td> 9.5</td><td>10.5</td></tr>\n",
       "\t<tr><td>Hoog Vorst    </td><td>13.6</td><td>15.6</td></tr>\n",
       "\t<tr><td>Balsam Sare   </td><td> 8.1</td><td>11.2</td></tr>\n",
       "\t<tr><td>Gibecq        </td><td> 8.9</td><td>14.2</td></tr>\n",
       "\t<tr><td>Beau Poe      </td><td>10.0</td><td>16.2</td></tr>\n",
       "\t<tr><td>Unal          </td><td> 8.3</td><td>15.5</td></tr>\n",
       "\t<tr><td>Trichobel     </td><td> 7.9</td><td>19.9</td></tr>\n",
       "\t<tr><td>Gaver         </td><td> 8.1</td><td>20.4</td></tr>\n",
       "\t<tr><td>Wolterson     </td><td>13.4</td><td>36.8</td></tr>\n",
       "</tbody>\n",
       "</table>\n"
      ],
      "text/latex": [
       "A data.frame: 13 × 3\n",
       "\\begin{tabular}{lll}\n",
       " Clone & August & November\\\\\n",
       " <chr> & <dbl> & <dbl>\\\\\n",
       "\\hline\n",
       "\t Columbia River & 18.3 & 12.7\\\\\n",
       "\t Fritzi Pauley  & 13.3 & 11.1\\\\\n",
       "\t Hazen Dans     & 16.5 & 15.3\\\\\n",
       "\t Primo          & 12.6 & 12.7\\\\\n",
       "\t Raspalse       &  9.5 & 10.5\\\\\n",
       "\t Hoog Vorst     & 13.6 & 15.6\\\\\n",
       "\t Balsam Sare    &  8.1 & 11.2\\\\\n",
       "\t Gibecq         &  8.9 & 14.2\\\\\n",
       "\t Beau Poe       & 10.0 & 16.2\\\\\n",
       "\t Unal           &  8.3 & 15.5\\\\\n",
       "\t Trichobel      &  7.9 & 19.9\\\\\n",
       "\t Gaver          &  8.1 & 20.4\\\\\n",
       "\t Wolterson      & 13.4 & 36.8\\\\\n",
       "\\end{tabular}\n"
      ],
      "text/markdown": [
       "\n",
       "A data.frame: 13 × 3\n",
       "\n",
       "| Clone &lt;chr&gt; | August &lt;dbl&gt; | November &lt;dbl&gt; |\n",
       "|---|---|---|\n",
       "| Columbia River | 18.3 | 12.7 |\n",
       "| Fritzi Pauley  | 13.3 | 11.1 |\n",
       "| Hazen Dans     | 16.5 | 15.3 |\n",
       "| Primo          | 12.6 | 12.7 |\n",
       "| Raspalse       |  9.5 | 10.5 |\n",
       "| Hoog Vorst     | 13.6 | 15.6 |\n",
       "| Balsam Sare    |  8.1 | 11.2 |\n",
       "| Gibecq         |  8.9 | 14.2 |\n",
       "| Beau Poe       | 10.0 | 16.2 |\n",
       "| Unal           |  8.3 | 15.5 |\n",
       "| Trichobel      |  7.9 | 19.9 |\n",
       "| Gaver          |  8.1 | 20.4 |\n",
       "| Wolterson      | 13.4 | 36.8 |\n",
       "\n"
      ],
      "text/plain": [
       "   Clone          August November\n",
       "1  Columbia River 18.3   12.7    \n",
       "2  Fritzi Pauley  13.3   11.1    \n",
       "3  Hazen Dans     16.5   15.3    \n",
       "4  Primo          12.6   12.7    \n",
       "5  Raspalse        9.5   10.5    \n",
       "6  Hoog Vorst     13.6   15.6    \n",
       "7  Balsam Sare     8.1   11.2    \n",
       "8  Gibecq          8.9   14.2    \n",
       "9  Beau Poe       10.0   16.2    \n",
       "10 Unal            8.3   15.5    \n",
       "11 Trichobel       7.9   19.9    \n",
       "12 Gaver           8.1   20.4    \n",
       "13 Wolterson      13.4   36.8    "
      ]
     },
     "metadata": {},
     "output_type": "display_data"
    }
   ],
   "source": [
    "df <- data.frame('Clone' = c(\"Columbia River\", \"Fritzi Pauley\", \"Hazen Dans\", \"Primo\", \"Raspalse\", \"Hoog Vorst\", \"Balsam Sare\", \"Gibecq\", \"Beau Poe\", \"Unal\", \"Trichobel\", \"Gaver\", \"Wolterson\"),\n",
    "                 'August' = c(18.3, 13.3, 16.5, 12.6, 9.5, 13.6, 8.1, 8.9, 10.0, 8.3, 7.9, 8.1, 13.4),\n",
    "                 'November' = c(12.7, 11.1, 15.3, 12.7, 10.5, 15.6, 11.2, 14.2, 16.2, 15.5, 19.9, 20.4, 36.8))\n",
    "df"
   ]
  },
  {
   "cell_type": "code",
   "execution_count": 3,
   "id": "a23e64be-67fa-443b-b911-e906d6ba0cb6",
   "metadata": {},
   "outputs": [
    {
     "name": "stdout",
     "output_type": "stream",
     "text": [
      "[1] \"August summary:\"\n"
     ]
    },
    {
     "data": {
      "text/plain": [
       "   Min. 1st Qu.  Median    Mean 3rd Qu.    Max. \n",
       "   7.90    8.30   10.00   11.42   13.40   18.30 "
      ]
     },
     "metadata": {},
     "output_type": "display_data"
    },
    {
     "data": {
      "text/html": [
       "3.45160683502478"
      ],
      "text/latex": [
       "3.45160683502478"
      ],
      "text/markdown": [
       "3.45160683502478"
      ],
      "text/plain": [
       "[1] 3.451607"
      ]
     },
     "metadata": {},
     "output_type": "display_data"
    },
    {
     "name": "stdout",
     "output_type": "stream",
     "text": [
      "[1] \"November Summary:\"\n"
     ]
    },
    {
     "data": {
      "text/plain": [
       "   Min. 1st Qu.  Median    Mean 3rd Qu.    Max. \n",
       "  10.50   12.70   15.30   16.32   16.20   36.80 "
      ]
     },
     "metadata": {},
     "output_type": "display_data"
    },
    {
     "data": {
      "text/html": [
       "6.88704655541185"
      ],
      "text/latex": [
       "6.88704655541185"
      ],
      "text/markdown": [
       "6.88704655541185"
      ],
      "text/plain": [
       "[1] 6.887047"
      ]
     },
     "metadata": {},
     "output_type": "display_data"
    },
    {
     "data": {
      "image/png": "[encoded data removed]",
      "text/plain": [
       "Plot with title “Histogram of df$November”"
      ]
     },
     "metadata": {
      "image/png": {
       "height": 300,
       "width": 600
      }
     },
     "output_type": "display_data"
    }
   ],
   "source": [
    "options(repr.plot.width=10, repr.plot.height=5)\n",
    "#par(mfrow=c(1,3))\n",
    "layout(matrix(c(1,2,3,3), 2, 2, byrow = TRUE))\n",
    "hist(df$August, xlim = c(0,40))\n",
    "hist(df$November, xlim = c(0,40))\n",
    "plot(x = c(df$August, df$November), y = c(rep(1,13), rep(2,13)), \n",
    "     yaxt='n', ylim = c(0.9, 2.1), ylab='', xlim = c(0,40))\n",
    "axis(2, at = c(1,2), las=2, labels = c('August', \"November\"))\n",
    "print(\"August summary:\")\n",
    "summary(df$August)\n",
    "sd(df$August)\n",
    "print(\"November Summary:\")\n",
    "summary(df$November)\n",
    "sd(df$November)"
   ]
  },
  {
   "cell_type": "markdown",
   "id": "7ccd7777-b470-4e54-88de-397f24a7a23f",
   "metadata": {},
   "source": [
    "It looks like August may be normally distributed, but November doesn't."
   ]
  },
  {
   "cell_type": "markdown",
   "id": "02e14995-633c-49ac-8c3d-df6f3862139a",
   "metadata": {},
   "source": [
    "## Setting up our hypotheses\n",
    "M = median\n",
    "\n",
    "Our null hypothesis is that the median of August != median of November.\n",
    "\\$H_0: M_{Aug}=M_{Nov}\\$\n",
    "\n",
    "Our alternative hypothesis is that the two medians are equal to each other.\n",
    "\\$H_a: M_{Aug}\\neq M_{Nov}\\$\n",
    "\n",
    "We have `n = 13` samples and `alpha = 0.05`, these values come into play at the end of this when we are determining significance.\n",
    "\n",
    "Now to calculate our test statistic, we need to calculate 4 additional columns\n",
    "1. The signed difference between pairs of data\n",
    "1. Sign of the differences (+ or -)\n",
    "1. The absolute difference\n",
    "1. Finally the rank"
   ]
  },
  {
   "cell_type": "code",
   "execution_count": 4,
   "id": "ce4f3873-14b0-4e59-8691-bdbdc7573f75",
   "metadata": {},
   "outputs": [],
   "source": [
    "alpha = 0.05\n",
    "n = 13"
   ]
  },
  {
   "cell_type": "markdown",
   "id": "e31141d2-cab4-4447-8c14-7a1e366fc5d6",
   "metadata": {},
   "source": [
    "## Calculating differences and rank"
   ]
  },
  {
   "cell_type": "code",
   "execution_count": 5,
   "id": "32dc9177-eef0-4948-8bbd-81a537022d91",
   "metadata": {},
   "outputs": [
    {
     "data": {
      "text/html": [
       "<table class=\"dataframe\">\n",
       "<caption>A data.frame: 13 × 7</caption>\n",
       "<thead>\n",
       "\t<tr><th scope=col>Clone</th><th scope=col>August</th><th scope=col>November</th><th scope=col>diff</th><th scope=col>sign</th><th scope=col>abs_diff</th><th scope=col>rank</th></tr>\n",
       "\t<tr><th scope=col>&lt;chr&gt;</th><th scope=col>&lt;dbl&gt;</th><th scope=col>&lt;dbl&gt;</th><th scope=col>&lt;dbl&gt;</th><th scope=col>&lt;dbl&gt;</th><th scope=col>&lt;dbl&gt;</th><th scope=col>&lt;dbl&gt;</th></tr>\n",
       "</thead>\n",
       "<tbody>\n",
       "\t<tr><td>Columbia River</td><td>18.3</td><td>12.7</td><td>-5.6</td><td>-1</td><td> 5.6</td><td> 8</td></tr>\n",
       "\t<tr><td>Fritzi Pauley </td><td>13.3</td><td>11.1</td><td>-2.2</td><td>-1</td><td> 2.2</td><td> 5</td></tr>\n",
       "\t<tr><td>Hazen Dans    </td><td>16.5</td><td>15.3</td><td>-1.2</td><td>-1</td><td> 1.2</td><td> 3</td></tr>\n",
       "\t<tr><td>Primo         </td><td>12.6</td><td>12.7</td><td> 0.1</td><td> 1</td><td> 0.1</td><td> 1</td></tr>\n",
       "\t<tr><td>Raspalse      </td><td> 9.5</td><td>10.5</td><td> 1.0</td><td> 1</td><td> 1.0</td><td> 2</td></tr>\n",
       "\t<tr><td>Hoog Vorst    </td><td>13.6</td><td>15.6</td><td> 2.0</td><td> 1</td><td> 2.0</td><td> 4</td></tr>\n",
       "\t<tr><td>Balsam Sare   </td><td> 8.1</td><td>11.2</td><td> 3.1</td><td> 1</td><td> 3.1</td><td> 6</td></tr>\n",
       "\t<tr><td>Gibecq        </td><td> 8.9</td><td>14.2</td><td> 5.3</td><td> 1</td><td> 5.3</td><td> 7</td></tr>\n",
       "\t<tr><td>Beau Poe      </td><td>10.0</td><td>16.2</td><td> 6.2</td><td> 1</td><td> 6.2</td><td> 9</td></tr>\n",
       "\t<tr><td>Unal          </td><td> 8.3</td><td>15.5</td><td> 7.2</td><td> 1</td><td> 7.2</td><td>10</td></tr>\n",
       "\t<tr><td>Trichobel     </td><td> 7.9</td><td>19.9</td><td>12.0</td><td> 1</td><td>12.0</td><td>11</td></tr>\n",
       "\t<tr><td>Gaver         </td><td> 8.1</td><td>20.4</td><td>12.3</td><td> 1</td><td>12.3</td><td>12</td></tr>\n",
       "\t<tr><td>Wolterson     </td><td>13.4</td><td>36.8</td><td>23.4</td><td> 1</td><td>23.4</td><td>13</td></tr>\n",
       "</tbody>\n",
       "</table>\n"
      ],
      "text/latex": [
       "A data.frame: 13 × 7\n",
       "\\begin{tabular}{lllllll}\n",
       " Clone & August & November & diff & sign & abs\\_diff & rank\\\\\n",
       " <chr> & <dbl> & <dbl> & <dbl> & <dbl> & <dbl> & <dbl>\\\\\n",
       "\\hline\n",
       "\t Columbia River & 18.3 & 12.7 & -5.6 & -1 &  5.6 &  8\\\\\n",
       "\t Fritzi Pauley  & 13.3 & 11.1 & -2.2 & -1 &  2.2 &  5\\\\\n",
       "\t Hazen Dans     & 16.5 & 15.3 & -1.2 & -1 &  1.2 &  3\\\\\n",
       "\t Primo          & 12.6 & 12.7 &  0.1 &  1 &  0.1 &  1\\\\\n",
       "\t Raspalse       &  9.5 & 10.5 &  1.0 &  1 &  1.0 &  2\\\\\n",
       "\t Hoog Vorst     & 13.6 & 15.6 &  2.0 &  1 &  2.0 &  4\\\\\n",
       "\t Balsam Sare    &  8.1 & 11.2 &  3.1 &  1 &  3.1 &  6\\\\\n",
       "\t Gibecq         &  8.9 & 14.2 &  5.3 &  1 &  5.3 &  7\\\\\n",
       "\t Beau Poe       & 10.0 & 16.2 &  6.2 &  1 &  6.2 &  9\\\\\n",
       "\t Unal           &  8.3 & 15.5 &  7.2 &  1 &  7.2 & 10\\\\\n",
       "\t Trichobel      &  7.9 & 19.9 & 12.0 &  1 & 12.0 & 11\\\\\n",
       "\t Gaver          &  8.1 & 20.4 & 12.3 &  1 & 12.3 & 12\\\\\n",
       "\t Wolterson      & 13.4 & 36.8 & 23.4 &  1 & 23.4 & 13\\\\\n",
       "\\end{tabular}\n"
      ],
      "text/markdown": [
       "\n",
       "A data.frame: 13 × 7\n",
       "\n",
       "| Clone &lt;chr&gt; | August &lt;dbl&gt; | November &lt;dbl&gt; | diff &lt;dbl&gt; | sign &lt;dbl&gt; | abs_diff &lt;dbl&gt; | rank &lt;dbl&gt; |\n",
       "|---|---|---|---|---|---|---|\n",
       "| Columbia River | 18.3 | 12.7 | -5.6 | -1 |  5.6 |  8 |\n",
       "| Fritzi Pauley  | 13.3 | 11.1 | -2.2 | -1 |  2.2 |  5 |\n",
       "| Hazen Dans     | 16.5 | 15.3 | -1.2 | -1 |  1.2 |  3 |\n",
       "| Primo          | 12.6 | 12.7 |  0.1 |  1 |  0.1 |  1 |\n",
       "| Raspalse       |  9.5 | 10.5 |  1.0 |  1 |  1.0 |  2 |\n",
       "| Hoog Vorst     | 13.6 | 15.6 |  2.0 |  1 |  2.0 |  4 |\n",
       "| Balsam Sare    |  8.1 | 11.2 |  3.1 |  1 |  3.1 |  6 |\n",
       "| Gibecq         |  8.9 | 14.2 |  5.3 |  1 |  5.3 |  7 |\n",
       "| Beau Poe       | 10.0 | 16.2 |  6.2 |  1 |  6.2 |  9 |\n",
       "| Unal           |  8.3 | 15.5 |  7.2 |  1 |  7.2 | 10 |\n",
       "| Trichobel      |  7.9 | 19.9 | 12.0 |  1 | 12.0 | 11 |\n",
       "| Gaver          |  8.1 | 20.4 | 12.3 |  1 | 12.3 | 12 |\n",
       "| Wolterson      | 13.4 | 36.8 | 23.4 |  1 | 23.4 | 13 |\n",
       "\n"
      ],
      "text/plain": [
       "   Clone          August November diff sign abs_diff rank\n",
       "1  Columbia River 18.3   12.7     -5.6 -1    5.6      8  \n",
       "2  Fritzi Pauley  13.3   11.1     -2.2 -1    2.2      5  \n",
       "3  Hazen Dans     16.5   15.3     -1.2 -1    1.2      3  \n",
       "4  Primo          12.6   12.7      0.1  1    0.1      1  \n",
       "5  Raspalse        9.5   10.5      1.0  1    1.0      2  \n",
       "6  Hoog Vorst     13.6   15.6      2.0  1    2.0      4  \n",
       "7  Balsam Sare     8.1   11.2      3.1  1    3.1      6  \n",
       "8  Gibecq          8.9   14.2      5.3  1    5.3      7  \n",
       "9  Beau Poe       10.0   16.2      6.2  1    6.2      9  \n",
       "10 Unal            8.3   15.5      7.2  1    7.2     10  \n",
       "11 Trichobel       7.9   19.9     12.0  1   12.0     11  \n",
       "12 Gaver           8.1   20.4     12.3  1   12.3     12  \n",
       "13 Wolterson      13.4   36.8     23.4  1   23.4     13  "
      ]
     },
     "metadata": {},
     "output_type": "display_data"
    }
   ],
   "source": [
    "df$diff <- df$November - df$August\n",
    "df$sign <- sign(df$diff)\n",
    "df$abs_diff <- abs(df$diff)\n",
    "df$rank <- rank(df$abs_diff)\n",
    "df"
   ]
  },
  {
   "cell_type": "markdown",
   "id": "f3debef4-583a-434a-a128-ebe79656285e",
   "metadata": {},
   "source": [
    "When we look at this, the absolute difference is telling is if the tree has taken up more or less aluminum between the months of November and August. Looks like trees around the columbia river have actually *lost* alumninum content, while trees around the Wolterson river have gained a tremendous amount. Lastly, we rank the absolute differences. The ranking is important, because this is where the name of \"rank sum test\" comes into play, we will be summing all the positive ranks and all the negative ranks...why? I'm not sure. Note that R's rank will automatically handle ties for us and take the average of the rankings.\n",
    "\n",
    "Plotting the values that are over and under the aluminum levels, we see that that later ranks (greater differences) are all positive! This indicates that the November values are larger, and quite a bit larger than the August values."
   ]
  },
  {
   "cell_type": "code",
   "execution_count": 6,
   "id": "525ec308-74eb-4fbb-9a79-45db5c505bb1",
   "metadata": {},
   "outputs": [
    {
     "data": {
      "image/png": "[encoded data removed]",
      "text/plain": [
       "plot without title"
      ]
     },
     "metadata": {
      "image/png": {
       "height": 180,
       "width": 360
      }
     },
     "output_type": "display_data"
    }
   ],
   "source": [
    "options(repr.plot.width=6, repr.plot.height=3)\n",
    "plot(y = rep(1,13),x = df$rank, xaxt=\"n\", pch = ifelse(df$sign<0, 19, 21))\n",
    "axis(1, at = seq(1, 13, by = 1), las=2)"
   ]
  },
  {
   "cell_type": "markdown",
   "id": "37dd76f5-f874-4e14-a8af-f38cf224429e",
   "metadata": {},
   "source": [
    "## Calculating the Rank Sums \\$T_+\\$ and \\$T_-\\$"
   ]
  },
  {
   "cell_type": "code",
   "execution_count": 7,
   "id": "fbe8d006-498f-476a-86eb-6269cf097f2c",
   "metadata": {},
   "outputs": [
    {
     "data": {
      "text/html": [
       "'Tminus: 16'"
      ],
      "text/latex": [
       "'Tminus: 16'"
      ],
      "text/markdown": [
       "'Tminus: 16'"
      ],
      "text/plain": [
       "[1] \"Tminus: 16\""
      ]
     },
     "metadata": {},
     "output_type": "display_data"
    },
    {
     "data": {
      "text/html": [
       "'Tplus: 75'"
      ],
      "text/latex": [
       "'Tplus: 75'"
      ],
      "text/markdown": [
       "'Tplus: 75'"
      ],
      "text/plain": [
       "[1] \"Tplus: 75\""
      ]
     },
     "metadata": {},
     "output_type": "display_data"
    }
   ],
   "source": [
    "Tminus = sum(df$rank[df$sign < 0])\n",
    "Tplus = sum(df$rank[df$sign > 0])\n",
    "paste0(\"Tminus: \",Tminus)\n",
    "paste0(\"Tplus: \",Tplus)"
   ]
  },
  {
   "cell_type": "markdown",
   "id": "670a3356-0730-46dd-b180-4ee044de7e7a",
   "metadata": {},
   "source": [
    "W is the test statistic and it is just the smaller of these two values"
   ]
  },
  {
   "cell_type": "code",
   "execution_count": 8,
   "id": "87c90d8f-3df8-4570-a8d4-fb02358359c6",
   "metadata": {},
   "outputs": [
    {
     "data": {
      "text/html": [
       "'W: 16'"
      ],
      "text/latex": [
       "'W: 16'"
      ],
      "text/markdown": [
       "'W: 16'"
      ],
      "text/plain": [
       "[1] \"W: 16\""
      ]
     },
     "metadata": {},
     "output_type": "display_data"
    }
   ],
   "source": [
    "W = min(Tminus, Tplus)\n",
    "paste0(\"W: \", W)"
   ]
  },
  {
   "cell_type": "markdown",
   "id": "50bbe2dc-b2c8-496c-b156-043d2fc7283c",
   "metadata": {},
   "source": [
    "## Determine a critical value to determine significance\n",
    "We need to use a wilcoxon signed rank test table of critical values!\n",
    "In this case, with 13 samples and our two tailed alpha value of 0.05, we are comparing our W to the critical value of `17`. By the way, in several tutorials, the teachers bring up \\$\\frac{n(n+1)}{2}\\$ for some reason. Well if n = number of samples, this formula is just the sums of the series \\$1 + 2 + 3 + ... + n\\$! If we are doing this by hand, it may be prudent to do \\$T_+ + T_-= \\frac{n(n+1)}{2}\\$ to make sure we got the ranks right. This link https://stats.stackexchange.com/questions/486601/where-do-wilcoxon-signed-rank-critical-values-come-from-ie-how-are-they-compute might explain where the $W_{crit}$ comes from, but I don't fully understand their explaination. For now let us just assume \"fancy counting\" and use the table.\n",
    "\n",
    "> Because \\$W < W_{crit}\\$ we can, just like that, reject the null hypothesis $H_0$."
   ]
  },
  {
   "cell_type": "markdown",
   "id": "caa42b59-c29e-4d04-9ee0-1de42985174d",
   "metadata": {},
   "source": [
    "## Conclusion\n",
    "\n",
    "Because our W statistic was less than the critical value at a significance level of 0.05, we can confidently reject the null hypothesis that the median difference is 0 in favor of the alternative hypothesis."
   ]
  },
  {
   "cell_type": "code",
   "execution_count": null,
   "id": "0661581c-de24-40ce-9f05-aac8f1f2bf5c",
   "metadata": {},
   "outputs": [],
   "source": []
  },
  {
   "cell_type": "markdown",
   "id": "67b8de0e-43e0-4191-a70a-c37a62cb6ba1",
   "metadata": {
    "toc-hr-collapsed": true
   },
   "source": [
    "# Man Whitney U Test\n",
    "The purpose of this notebook is to understand this statistical test a bit better. It is Farshad's favorite single cell differential expression test, and I want to not only intuitively understand it, but be able to recreate/implement it.\n",
    "\n",
    "### Assumptions\n",
    "1. The two samples are *are* INdependent\n",
    "1. The two populations have equal variance or spread\n",
    "\n",
    "### Applications\n",
    "* Single cell RNAseq\n",
    "* When paired t-test is non-applicable"
   ]
  },
  {
   "cell_type": "markdown",
   "id": "f008ca3a-061f-4f17-a7ba-a76945a9b1ea",
   "metadata": {
    "toc-hr-collapsed": true
   },
   "source": [
    "# Example 2: Mann-Whitney U Test"
   ]
  },
  {
   "cell_type": "markdown",
   "id": "bea9e5e0-79af-4b1f-88c8-a65338abeb5c",
   "metadata": {},
   "source": [
    "## Loading in data and looking at it\n",
    "We will be using Eugene O'Loughlin's example dataset from. How To... Perform the Mann-Whitney U Test (By Hand): https://www.youtube.com/watch?v=BT1FKd1Qzjw. The following data comparing the results of Treatment A and Treatment B (I think these are survey rankings). Immediately we know this is unpaired because we have two different groups being tested, and what is neat is we don't need to have equal numbers of observations in each group---even though in this case we do. We are asking the question \n",
    "> \"**Is there a significant difference in the survey responses between Treatment A and Treatment B?**\""
   ]
  },
  {
   "cell_type": "code",
   "execution_count": 9,
   "id": "341fd930-cedb-4c55-9e80-d0d80a4fee04",
   "metadata": {},
   "outputs": [
    {
     "data": {
      "text/html": [
       "<table class=\"dataframe\">\n",
       "<caption>A data.frame: 6 × 2</caption>\n",
       "<thead>\n",
       "\t<tr><th scope=col>TreatmentA</th><th scope=col>TreatmentB</th></tr>\n",
       "\t<tr><th scope=col>&lt;dbl&gt;</th><th scope=col>&lt;dbl&gt;</th></tr>\n",
       "</thead>\n",
       "<tbody>\n",
       "\t<tr><td>3</td><td> 9</td></tr>\n",
       "\t<tr><td>4</td><td> 7</td></tr>\n",
       "\t<tr><td>2</td><td> 5</td></tr>\n",
       "\t<tr><td>6</td><td>10</td></tr>\n",
       "\t<tr><td>2</td><td> 6</td></tr>\n",
       "\t<tr><td>5</td><td> 8</td></tr>\n",
       "</tbody>\n",
       "</table>\n"
      ],
      "text/latex": [
       "A data.frame: 6 × 2\n",
       "\\begin{tabular}{ll}\n",
       " TreatmentA & TreatmentB\\\\\n",
       " <dbl> & <dbl>\\\\\n",
       "\\hline\n",
       "\t 3 &  9\\\\\n",
       "\t 4 &  7\\\\\n",
       "\t 2 &  5\\\\\n",
       "\t 6 & 10\\\\\n",
       "\t 2 &  6\\\\\n",
       "\t 5 &  8\\\\\n",
       "\\end{tabular}\n"
      ],
      "text/markdown": [
       "\n",
       "A data.frame: 6 × 2\n",
       "\n",
       "| TreatmentA &lt;dbl&gt; | TreatmentB &lt;dbl&gt; |\n",
       "|---|---|\n",
       "| 3 |  9 |\n",
       "| 4 |  7 |\n",
       "| 2 |  5 |\n",
       "| 6 | 10 |\n",
       "| 2 |  6 |\n",
       "| 5 |  8 |\n",
       "\n"
      ],
      "text/plain": [
       "  TreatmentA TreatmentB\n",
       "1 3           9        \n",
       "2 4           7        \n",
       "3 2           5        \n",
       "4 6          10        \n",
       "5 2           6        \n",
       "6 5           8        "
      ]
     },
     "metadata": {},
     "output_type": "display_data"
    }
   ],
   "source": [
    "df = data.frame(\"TreatmentA\" = c(3,4,2,6,2,5),\n",
    "                \"TreatmentB\" = c(9,7,5,10,6,8))\n",
    "n.a = length(df$TreatmentA)\n",
    "n.b = length(df$TreatmentB)\n",
    "df"
   ]
  },
  {
   "cell_type": "code",
   "execution_count": 10,
   "id": "8309b423-18f7-4d4c-b2a6-5363820a7d63",
   "metadata": {},
   "outputs": [
    {
     "name": "stdout",
     "output_type": "stream",
     "text": [
      "[1] \"TreatmentA summary:\"\n"
     ]
    },
    {
     "data": {
      "text/plain": [
       "   Min. 1st Qu.  Median    Mean 3rd Qu.    Max. \n",
       "  2.000   2.250   3.500   3.667   4.750   6.000 "
      ]
     },
     "metadata": {},
     "output_type": "display_data"
    },
    {
     "data": {
      "text/html": [
       "1.63299316185545"
      ],
      "text/latex": [
       "1.63299316185545"
      ],
      "text/markdown": [
       "1.63299316185545"
      ],
      "text/plain": [
       "[1] 1.632993"
      ]
     },
     "metadata": {},
     "output_type": "display_data"
    },
    {
     "name": "stdout",
     "output_type": "stream",
     "text": [
      "[1] \"TreatmentB Summary:\"\n"
     ]
    },
    {
     "data": {
      "text/plain": [
       "   Min. 1st Qu.  Median    Mean 3rd Qu.    Max. \n",
       "   5.00    6.25    7.50    7.50    8.75   10.00 "
      ]
     },
     "metadata": {},
     "output_type": "display_data"
    },
    {
     "data": {
      "text/html": [
       "1.87082869338697"
      ],
      "text/latex": [
       "1.87082869338697"
      ],
      "text/markdown": [
       "1.87082869338697"
      ],
      "text/plain": [
       "[1] 1.870829"
      ]
     },
     "metadata": {},
     "output_type": "display_data"
    },
    {
     "data": {
      "image/png": "[encoded data removed]",
      "text/plain": [
       "Plot with title “Histogram of df$TreatmentB”"
      ]
     },
     "metadata": {
      "image/png": {
       "height": 300,
       "width": 600
      }
     },
     "output_type": "display_data"
    }
   ],
   "source": [
    "options(repr.plot.width=10, repr.plot.height=5)\n",
    "#par(mfrow=c(1,3))\n",
    "layout(matrix(c(1,2,3,3), 2, 2, byrow = TRUE))\n",
    "hist(df$TreatmentA, xlim = c(0,10))\n",
    "hist(df$TreatmentB, xlim = c(0,10))\n",
    "plot(x = c(df$TreatmentA, df$TreatmentB), y = c(rep(2,6), rep(1,6)), \n",
    "     yaxt='n', ylim = c(0.9, 2.1), ylab='', xlim = c(0,10))\n",
    "axis(2, at = c(2,1), las=2, labels = c('TreatmentA', \"TreatmentB\"))\n",
    "print(\"TreatmentA summary:\")\n",
    "summary(df$TreatmentA)\n",
    "sd(df$TreatmentA)\n",
    "print(\"TreatmentB Summary:\")\n",
    "summary(df$TreatmentB)\n",
    "sd(df$TreatmentB)"
   ]
  },
  {
   "cell_type": "markdown",
   "id": "64cfe52d-9b0d-441e-8bad-53a762f76359",
   "metadata": {},
   "source": [
    "## Setting up our hypotheses\n",
    "Our null hypothesis, \\$H_0\\$, is that there is *NO* difference between the ranks of our two treatments.\n",
    "\n",
    "Our alternative hypothesis, \\$H_A\\$, is that there *IS* a difference between the ranks of our two treatments.\n",
    "\n",
    "This already differs from the Wilcoxon test in just the hypotheses we are testing. Interesting.\n",
    "\n",
    "We also need to define an alpha = 0.05 and we decide to use two-tailed, unpaired, independent Man-Whitney test."
   ]
  },
  {
   "cell_type": "markdown",
   "id": "bddb1f6a-5fc1-4745-b710-7e37b3320e98",
   "metadata": {},
   "source": [
    "## Combining the categories and ranking the scores"
   ]
  },
  {
   "cell_type": "code",
   "execution_count": 11,
   "id": "8dcee2da-e04a-4aa4-9224-9c5ba66153ea",
   "metadata": {},
   "outputs": [
    {
     "name": "stderr",
     "output_type": "stream",
     "text": [
      "No id variables; using all as measure variables\n",
      "\n"
     ]
    },
    {
     "data": {
      "text/html": [
       "<table class=\"dataframe\">\n",
       "<caption>A data.frame: 12 × 3</caption>\n",
       "<thead>\n",
       "\t<tr><th scope=col>Treatment</th><th scope=col>Score</th><th scope=col>Rank</th></tr>\n",
       "\t<tr><th scope=col>&lt;fct&gt;</th><th scope=col>&lt;dbl&gt;</th><th scope=col>&lt;dbl&gt;</th></tr>\n",
       "</thead>\n",
       "<tbody>\n",
       "\t<tr><td>TreatmentA</td><td> 3</td><td> 3.0</td></tr>\n",
       "\t<tr><td>TreatmentA</td><td> 4</td><td> 4.0</td></tr>\n",
       "\t<tr><td>TreatmentA</td><td> 2</td><td> 1.5</td></tr>\n",
       "\t<tr><td>TreatmentA</td><td> 6</td><td> 7.5</td></tr>\n",
       "\t<tr><td>TreatmentA</td><td> 2</td><td> 1.5</td></tr>\n",
       "\t<tr><td>TreatmentA</td><td> 5</td><td> 5.5</td></tr>\n",
       "\t<tr><td>TreatmentB</td><td> 9</td><td>11.0</td></tr>\n",
       "\t<tr><td>TreatmentB</td><td> 7</td><td> 9.0</td></tr>\n",
       "\t<tr><td>TreatmentB</td><td> 5</td><td> 5.5</td></tr>\n",
       "\t<tr><td>TreatmentB</td><td>10</td><td>12.0</td></tr>\n",
       "\t<tr><td>TreatmentB</td><td> 6</td><td> 7.5</td></tr>\n",
       "\t<tr><td>TreatmentB</td><td> 8</td><td>10.0</td></tr>\n",
       "</tbody>\n",
       "</table>\n"
      ],
      "text/latex": [
       "A data.frame: 12 × 3\n",
       "\\begin{tabular}{lll}\n",
       " Treatment & Score & Rank\\\\\n",
       " <fct> & <dbl> & <dbl>\\\\\n",
       "\\hline\n",
       "\t TreatmentA &  3 &  3.0\\\\\n",
       "\t TreatmentA &  4 &  4.0\\\\\n",
       "\t TreatmentA &  2 &  1.5\\\\\n",
       "\t TreatmentA &  6 &  7.5\\\\\n",
       "\t TreatmentA &  2 &  1.5\\\\\n",
       "\t TreatmentA &  5 &  5.5\\\\\n",
       "\t TreatmentB &  9 & 11.0\\\\\n",
       "\t TreatmentB &  7 &  9.0\\\\\n",
       "\t TreatmentB &  5 &  5.5\\\\\n",
       "\t TreatmentB & 10 & 12.0\\\\\n",
       "\t TreatmentB &  6 &  7.5\\\\\n",
       "\t TreatmentB &  8 & 10.0\\\\\n",
       "\\end{tabular}\n"
      ],
      "text/markdown": [
       "\n",
       "A data.frame: 12 × 3\n",
       "\n",
       "| Treatment &lt;fct&gt; | Score &lt;dbl&gt; | Rank &lt;dbl&gt; |\n",
       "|---|---|---|\n",
       "| TreatmentA |  3 |  3.0 |\n",
       "| TreatmentA |  4 |  4.0 |\n",
       "| TreatmentA |  2 |  1.5 |\n",
       "| TreatmentA |  6 |  7.5 |\n",
       "| TreatmentA |  2 |  1.5 |\n",
       "| TreatmentA |  5 |  5.5 |\n",
       "| TreatmentB |  9 | 11.0 |\n",
       "| TreatmentB |  7 |  9.0 |\n",
       "| TreatmentB |  5 |  5.5 |\n",
       "| TreatmentB | 10 | 12.0 |\n",
       "| TreatmentB |  6 |  7.5 |\n",
       "| TreatmentB |  8 | 10.0 |\n",
       "\n"
      ],
      "text/plain": [
       "   Treatment  Score Rank\n",
       "1  TreatmentA  3     3.0\n",
       "2  TreatmentA  4     4.0\n",
       "3  TreatmentA  2     1.5\n",
       "4  TreatmentA  6     7.5\n",
       "5  TreatmentA  2     1.5\n",
       "6  TreatmentA  5     5.5\n",
       "7  TreatmentB  9    11.0\n",
       "8  TreatmentB  7     9.0\n",
       "9  TreatmentB  5     5.5\n",
       "10 TreatmentB 10    12.0\n",
       "11 TreatmentB  6     7.5\n",
       "12 TreatmentB  8    10.0"
      ]
     },
     "metadata": {},
     "output_type": "display_data"
    }
   ],
   "source": [
    "dfRanked = melt(df)\n",
    "colnames(dfRanked) <- c('Treatment', 'Score')\n",
    "dfRanked$Rank <- rank(dfRanked$Score)\n",
    "dfRanked"
   ]
  },
  {
   "cell_type": "markdown",
   "id": "91119e07-0a90-4622-84d2-b3f8fce7f899",
   "metadata": {},
   "source": [
    "Here we will actually learn how to deal with ties! I explained it a bit above in the Wilcoxon test, but we get to see it in action here"
   ]
  },
  {
   "cell_type": "markdown",
   "id": "29305f4b-a30f-482a-89a9-626e6b6ab90b",
   "metadata": {},
   "source": [
    "## Sum the group ranks\n",
    "This is the rank sum for each of my two groups. We can use these to do the calculation for the U-statistic which is gonna give us a p-value."
   ]
  },
  {
   "cell_type": "code",
   "execution_count": 12,
   "id": "defd11f6-a301-4506-a5fd-17c3c1c360b5",
   "metadata": {},
   "outputs": [
    {
     "data": {
      "text/html": [
       "<style>\n",
       ".dl-inline {width: auto; margin:0; padding: 0}\n",
       ".dl-inline>dt, .dl-inline>dd {float: none; width: auto; display: inline-block}\n",
       ".dl-inline>dt::after {content: \":\\0020\"; padding-right: .5ex}\n",
       ".dl-inline>dt:not(:first-of-type) {padding-left: .5ex}\n",
       "</style><dl class=dl-inline><dt>TreatmentA</dt><dd>23</dd><dt>TreatmentB</dt><dd>55</dd></dl>\n"
      ],
      "text/latex": [
       "\\begin{description*}\n",
       "\\item[TreatmentA] 23\n",
       "\\item[TreatmentB] 55\n",
       "\\end{description*}\n"
      ],
      "text/markdown": [
       "TreatmentA\n",
       ":   23TreatmentB\n",
       ":   55\n",
       "\n"
      ],
      "text/plain": [
       "TreatmentA TreatmentB \n",
       "        23         55 "
      ]
     },
     "metadata": {},
     "output_type": "display_data"
    }
   ],
   "source": [
    "groupSum <- tapply(dfRanked$Rank, INDEX = dfRanked$Treatment, FUN = sum)\n",
    "groupSum"
   ]
  },
  {
   "cell_type": "markdown",
   "id": "80fa2dfe-734a-4d63-91c2-c50ef41ea49b",
   "metadata": {},
   "source": [
    "## Calculate the \\$U_{stat}\\$\n",
    "The formula is $$U_{stat} = RANKSUM - \\frac{n(n+1)}{2}$$ where n = number of samples in the group **NOT** summed (6 for either here). After calculation, we us the lower of the two values as our $U_{stat}$."
   ]
  },
  {
   "cell_type": "code",
   "execution_count": 13,
   "id": "70c91775-c811-4243-ba87-4171d7c87928",
   "metadata": {},
   "outputs": [
    {
     "data": {
      "text/html": [
       "'U stat of Treatment A: 2'"
      ],
      "text/latex": [
       "'U stat of Treatment A: 2'"
      ],
      "text/markdown": [
       "'U stat of Treatment A: 2'"
      ],
      "text/plain": [
       "[1] \"U stat of Treatment A: 2\""
      ]
     },
     "metadata": {},
     "output_type": "display_data"
    },
    {
     "data": {
      "text/html": [
       "'U stat of Treatment B: 34'"
      ],
      "text/latex": [
       "'U stat of Treatment B: 34'"
      ],
      "text/markdown": [
       "'U stat of Treatment B: 34'"
      ],
      "text/plain": [
       "[1] \"U stat of Treatment B: 34\""
      ]
     },
     "metadata": {},
     "output_type": "display_data"
    },
    {
     "data": {
      "text/html": [
       "'U stat: 2'"
      ],
      "text/latex": [
       "'U stat: 2'"
      ],
      "text/markdown": [
       "'U stat: 2'"
      ],
      "text/plain": [
       "[1] \"U stat: 2\""
      ]
     },
     "metadata": {},
     "output_type": "display_data"
    }
   ],
   "source": [
    "Ua = groupSum[\"TreatmentA\"] - (n.b * (n.b + 1))/2\n",
    "Ub = groupSum[\"TreatmentB\"] - (n.a * (n.a + 1))/2\n",
    "Ustat = min(Ua, Ub)\n",
    "paste0(\"U stat of Treatment A: \", Ua)\n",
    "paste0(\"U stat of Treatment B: \", Ub)\n",
    "paste0(\"U stat: \", Ustat)"
   ]
  },
  {
   "cell_type": "markdown",
   "id": "3d8f3f41-9f5f-44ab-b671-72f0c9b786c8",
   "metadata": {},
   "source": [
    "### Aside: why do we subtract the summed rank of the **other** treatment"
   ]
  },
  {
   "cell_type": "markdown",
   "id": "326b56b3-243e-4c93-8874-3d75a1288f47",
   "metadata": {},
   "source": [
    "Why are we subtracting max summed rank of one treatment from the apparent ranking of the other? I think it is because $\\frac{n(n+1)}{2}$ is the smallest rank a set of $n$ numbers can be! So if one group completely occupies that space, then obviously the null hypothesis **has to be rejected** because there is just no way for one group to completely occupy the lower ranks unless the ranks are different."
   ]
  },
  {
   "cell_type": "code",
   "execution_count": 14,
   "id": "c874708f-dad6-4cb9-8bca-8059690891ff",
   "metadata": {},
   "outputs": [
    {
     "data": {
      "text/html": [
       "10"
      ],
      "text/latex": [
       "10"
      ],
      "text/markdown": [
       "10"
      ],
      "text/plain": [
       "[1] 10"
      ]
     },
     "metadata": {},
     "output_type": "display_data"
    },
    {
     "data": {
      "text/html": [
       "26"
      ],
      "text/latex": [
       "26"
      ],
      "text/markdown": [
       "26"
      ],
      "text/plain": [
       "[1] 26"
      ]
     },
     "metadata": {},
     "output_type": "display_data"
    },
    {
     "data": {
      "text/html": [
       "0"
      ],
      "text/latex": [
       "0"
      ],
      "text/markdown": [
       "0"
      ],
      "text/plain": [
       "[1] 0"
      ]
     },
     "metadata": {},
     "output_type": "display_data"
    },
    {
     "data": {
      "text/html": [
       "16"
      ],
      "text/latex": [
       "16"
      ],
      "text/markdown": [
       "16"
      ],
      "text/plain": [
       "[1] 16"
      ]
     },
     "metadata": {},
     "output_type": "display_data"
    },
    {
     "data": {
      "text/html": [
       "10"
      ],
      "text/latex": [
       "10"
      ],
      "text/markdown": [
       "10"
      ],
      "text/plain": [
       "[1] 10"
      ]
     },
     "metadata": {},
     "output_type": "display_data"
    },
    {
     "data": {
      "text/html": [
       "35"
      ],
      "text/latex": [
       "35"
      ],
      "text/markdown": [
       "35"
      ],
      "text/plain": [
       "[1] 35"
      ]
     },
     "metadata": {},
     "output_type": "display_data"
    },
    {
     "data": {
      "text/html": [
       "-5"
      ],
      "text/latex": [
       "-5"
      ],
      "text/markdown": [
       "-5"
      ],
      "text/plain": [
       "[1] -5"
      ]
     },
     "metadata": {},
     "output_type": "display_data"
    },
    {
     "data": {
      "text/html": [
       "25"
      ],
      "text/latex": [
       "25"
      ],
      "text/markdown": [
       "25"
      ],
      "text/plain": [
       "[1] 25"
      ]
     },
     "metadata": {},
     "output_type": "display_data"
    }
   ],
   "source": [
    "# Well, if we had this\n",
    "testgroup1 = c(1,2,3,4)\n",
    "testgroup2 = c(5,6,7,8)\n",
    "testRank = rank(c(testgroup1, testgroup2))\n",
    "testRankSum1 = sum(c(1,2,3,4)); testRankSum1\n",
    "testRankSum2 = sum(c(5,6,7,8)); testRankSum2\n",
    "testRankSum1 - (4*5)/2\n",
    "testRankSum2 - (4*5)/2\n",
    "# Then I suppose if there is absolutely no overlap\n",
    "# we get one value as being zero...but now what if the group sizes are unequal.\n",
    "# Now, if we had this\n",
    "testgroup1 = c(1,2,3,4)\n",
    "testgroup2 = c(5,6,7,8,9)\n",
    "testRank = rank(c(testgroup1, testgroup2))\n",
    "testRankSum1 = sum(c(1,2,3,4)); testRankSum1\n",
    "testRankSum2 = sum(c(5,6,7,8,9)); testRankSum2\n",
    "testRankSum1 - (5*6)/2\n",
    "testRankSum2 - (4*5)/2\n",
    "# Well, now we are getting some shinanigans, \n",
    "# we can go into the negatives! "
   ]
  },
  {
   "cell_type": "markdown",
   "id": "ead91fe2-6721-408b-a5b1-3e9a7ab0db17",
   "metadata": {},
   "source": [
    "## Determine a critical value to determine significance\n",
    "Once again there are ables for this based on if we want to do one-tailed, two-tailed testing. The table depends on the n in group1 and n in group2, then based on the alpha we chose we get a critical value to compare against. In our case $U_{crit} = 5$."
   ]
  },
  {
   "attachments": {
    "9205b1b8-d92e-4da0-a929-a2bd7db130a3.png": {
     "image/png": "[encoded data removed]"
    }
   },
   "cell_type": "markdown",
   "id": "9176af93-abdc-4eac-9f22-ce1be9235b12",
   "metadata": {},
   "source": [
    "## Conclusion\n",
    "Because $U_{stat} \\leq U_{crit}$, we can reject the null hypothesis $H_0$, and determine that there is statistically significant difference between TreatmentA and TreatmentB at an alpha of 0.05.\n",
    "\n",
    "I also found this video which might be nice for its visuals\n",
    ">Statistics 101: Nonparametric Methods, Mann-Whitney-Wilcoxon Rank Sum Test: https://www.youtube.com/watch?v=fEobVCV2TJE\n",
    "\n",
    "3 situations for our distributions:\n",
    "\n",
    "![image.png](attachment:9205b1b8-d92e-4da0-a929-a2bd7db130a3.png)"
   ]
  },
  {
   "cell_type": "markdown",
   "id": "679a0297-bb86-4ecd-bc9b-7d75f0168326",
   "metadata": {},
   "source": [
    "### Aside: How would I monte-carlo this?\n",
    "Well, I would shuffle my data all together, choose with replacement a new group1 and a new group2, calculate the $groupSums_{monte}$ and $U_{statmonte}$, then at the end find the ratio of $\\frac{U_{statmonte} \\leq U_{stat}}{totalPerm}$."
   ]
  },
  {
   "cell_type": "code",
   "execution_count": 19,
   "id": "4d378e2e-ee9c-43c2-8b43-0001f618793c",
   "metadata": {
    "tags": []
   },
   "outputs": [],
   "source": [
    "df = data.frame(\"TreatmentA\" = c(3,4,2,6,2,5),\n",
    "                \"TreatmentB\" = c(9,7,5,10,6,8))\n",
    "m.trials <- 100\n",
    "list.of.Ustatmonte <- list()\n",
    "\n",
    "\n",
    "for(i in 1:m.trials){\n",
    "    rand.sample <- sample(1:length(c(df$TreatmentA, df$TreatmentB)), 6, replace = F)\n",
    "    df2 <- data.frame(\"TreatmentA\" = c(df$TreatmentA, df$TreatmentB)[rand.sample],\n",
    "                      \"TreatmentB\" = c(df$TreatmentA, df$TreatmentB)[-rand.sample])\n",
    "\n",
    "    suppressMessages(df2 <- melt(df2))\n",
    "    colnames(df2) <- c(\"Treatment\", \"Score\")\n",
    "    df2$Rank <- rank(df2$Score)\n",
    "    \n",
    "    rankSum <- tapply(df2$Rank, df2$Treatment, FUN=sum)\n",
    "    Ua = rankSum[\"TreatmentA\"] - (6 * (6 + 1))/2\n",
    "    Ub = rankSum[\"TreatmentB\"] - (6 * (6 + 1))/2\n",
    "    Ustatmonte <- min(Ua, Ub)\n",
    "    list.of.Ustatmonte[[i]] <- Ustatmonte\n",
    "}\n",
    "\n",
    "list.of.Ustatmonte <- unlist(list.of.Ustatmonte)"
   ]
  },
  {
   "cell_type": "code",
   "execution_count": 20,
   "id": "a8317488-72f6-4980-9fdc-c1f51ad2354f",
   "metadata": {},
   "outputs": [
    {
     "data": {
      "text/html": [
       "0.01"
      ],
      "text/latex": [
       "0.01"
      ],
      "text/markdown": [
       "0.01"
      ],
      "text/plain": [
       "[1] 0.01"
      ]
     },
     "metadata": {},
     "output_type": "display_data"
    },
    {
     "data": {
      "image/png": "[encoded data removed]",
      "text/plain": [
       "Plot with title “Histogram of list.of.Ustatmonte”"
      ]
     },
     "metadata": {
      "image/png": {
       "height": 300,
       "width": 600
      }
     },
     "output_type": "display_data"
    }
   ],
   "source": [
    "hist(list.of.Ustatmonte)\n",
    "sum(list.of.Ustatmonte < Ustat) / m.trials"
   ]
  },
  {
   "cell_type": "markdown",
   "id": "fd020a39-d9c3-49ba-92fc-573c4bff5ec9",
   "metadata": {},
   "source": [
    "It works :))))))))) I guess there is a <1% chance of getting the survey results we got by random chance alone! We can safely reject the null hypothesis and conclude there is a difference in ranks between the two Treatment groups."
   ]
  }
 ],
 "metadata": {
  "kernelspec": {
   "display_name": "R",
   "language": "R",
   "name": "ir"
  },
  "language_info": {
   "codemirror_mode": "r",
   "file_extension": ".r",
   "mimetype": "text/x-r-source",
   "name": "R",
   "pygments_lexer": "r",
   "version": "4.1.0"
  }
 },
 "nbformat": 4,
 "nbformat_minor": 5
}
