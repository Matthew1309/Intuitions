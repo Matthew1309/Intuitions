{
 "cells": [
  {
   "cell_type": "markdown",
   "id": "8f7c3315-ebb0-4603-92b4-47614556ef4e",
   "metadata": {},
   "source": [
    "# Model Selection\n",
    "\n",
    "We will be doing a very basic best subset selection using r-leaps"
   ]
  },
  {
   "cell_type": "code",
   "execution_count": 13,
   "id": "faae7d8e-6cfe-43b7-8c6b-2686d0a4275b",
   "metadata": {
    "tags": []
   },
   "outputs": [
    {
     "data": {
      "text/plain": [
       "     AtBat            Hits           HmRun            Runs       \n",
       " Min.   : 19.0   Min.   :  1.0   Min.   : 0.00   Min.   :  0.00  \n",
       " 1st Qu.:282.5   1st Qu.: 71.5   1st Qu.: 5.00   1st Qu.: 33.50  \n",
       " Median :413.0   Median :103.0   Median : 9.00   Median : 52.00  \n",
       " Mean   :403.6   Mean   :107.8   Mean   :11.62   Mean   : 54.75  \n",
       " 3rd Qu.:526.0   3rd Qu.:141.5   3rd Qu.:18.00   3rd Qu.: 73.00  \n",
       " Max.   :687.0   Max.   :238.0   Max.   :40.00   Max.   :130.00  \n",
       "      RBI             Walks            Years            CAtBat       \n",
       " Min.   :  0.00   Min.   :  0.00   Min.   : 1.000   Min.   :   19.0  \n",
       " 1st Qu.: 30.00   1st Qu.: 23.00   1st Qu.: 4.000   1st Qu.:  842.5  \n",
       " Median : 47.00   Median : 37.00   Median : 6.000   Median : 1931.0  \n",
       " Mean   : 51.49   Mean   : 41.11   Mean   : 7.312   Mean   : 2657.5  \n",
       " 3rd Qu.: 71.00   3rd Qu.: 57.00   3rd Qu.:10.000   3rd Qu.: 3890.5  \n",
       " Max.   :121.00   Max.   :105.00   Max.   :24.000   Max.   :14053.0  \n",
       "     CHits            CHmRun           CRuns             CRBI       \n",
       " Min.   :   4.0   Min.   :  0.00   Min.   :   2.0   Min.   :   3.0  \n",
       " 1st Qu.: 212.0   1st Qu.: 15.00   1st Qu.: 105.5   1st Qu.:  95.0  \n",
       " Median : 516.0   Median : 40.00   Median : 250.0   Median : 230.0  \n",
       " Mean   : 722.2   Mean   : 69.24   Mean   : 361.2   Mean   : 330.4  \n",
       " 3rd Qu.:1054.0   3rd Qu.: 92.50   3rd Qu.: 497.5   3rd Qu.: 424.5  \n",
       " Max.   :4256.0   Max.   :548.00   Max.   :2165.0   Max.   :1659.0  \n",
       "     CWalks       League  Division    PutOuts          Assists     \n",
       " Min.   :   1.0   A:139   E:129    Min.   :   0.0   Min.   :  0.0  \n",
       " 1st Qu.:  71.0   N:124   W:134    1st Qu.: 113.5   1st Qu.:  8.0  \n",
       " Median : 174.0                    Median : 224.0   Median : 45.0  \n",
       " Mean   : 260.3                    Mean   : 290.7   Mean   :118.8  \n",
       " 3rd Qu.: 328.5                    3rd Qu.: 322.5   3rd Qu.:192.0  \n",
       " Max.   :1566.0                    Max.   :1377.0   Max.   :492.0  \n",
       "     Errors           Salary       NewLeague\n",
       " Min.   : 0.000   Min.   :  67.5   A:141    \n",
       " 1st Qu.: 3.000   1st Qu.: 190.0   N:122    \n",
       " Median : 7.000   Median : 425.0            \n",
       " Mean   : 8.593   Mean   : 535.9            \n",
       " 3rd Qu.:13.000   3rd Qu.: 750.0            \n",
       " Max.   :32.000   Max.   :2460.0            "
      ]
     },
     "metadata": {},
     "output_type": "display_data"
    }
   ],
   "source": [
    "library(ISLR)\n",
    "library(leaps)\n",
    "summary(Hitters)"
   ]
  },
  {
   "cell_type": "markdown",
   "id": "c3778baa-0e37-4240-85c3-57cc9e899620",
   "metadata": {},
   "source": [
    "The data will need a little bit of formatting. We want to predict Salary, but looking at the summary of htters, we have 59 NAs! Lets just get rid of all rows with NAs, very nicely using ```na.omit()```. We can also check if there are any NAs left by using the ```is.na()``` function"
   ]
  },
  {
   "cell_type": "code",
   "execution_count": 2,
   "id": "c9ed102b-ae97-4c3f-8ec2-56d82502a9a5",
   "metadata": {},
   "outputs": [
    {
     "data": {
      "text/html": [
       "0"
      ],
      "text/latex": [
       "0"
      ],
      "text/markdown": [
       "0"
      ],
      "text/plain": [
       "[1] 0"
      ]
     },
     "metadata": {},
     "output_type": "display_data"
    },
    {
     "data": {
      "text/html": [
       "<style>\n",
       ".list-inline {list-style: none; margin:0; padding: 0}\n",
       ".list-inline>li {display: inline-block}\n",
       ".list-inline>li:not(:last-child)::after {content: \"\\00b7\"; padding: 0 .5ex}\n",
       "</style>\n",
       "<ol class=list-inline><li>263</li><li>20</li></ol>\n"
      ],
      "text/latex": [
       "\\begin{enumerate*}\n",
       "\\item 263\n",
       "\\item 20\n",
       "\\end{enumerate*}\n"
      ],
      "text/markdown": [
       "1. 263\n",
       "2. 20\n",
       "\n",
       "\n"
      ],
      "text/plain": [
       "[1] 263  20"
      ]
     },
     "metadata": {},
     "output_type": "display_data"
    }
   ],
   "source": [
    "Hitters <- na.omit(Hitters)\n",
    "with(Hitters, sum(is.na(Salary)))\n",
    "dim(Hitters)"
   ]
  },
  {
   "cell_type": "markdown",
   "id": "64a2f8ce-d350-423f-923d-060003dcc91f",
   "metadata": {},
   "source": [
    "# Best subset selection\n",
    "\n",
    "We learned that this technique looks through all possible cominations of predictors, and gives us the aboslute best combination. This is computationally expensive and shouldn't be done for more than 20 predictors. In this case it is appropriate (19 predictors). We have the package ```leaps``` that has pre-built functions for doing best subset selection. Lets take a look!\n"
   ]
  },
  {
   "cell_type": "code",
   "execution_count": 3,
   "id": "71af1b03-76d4-4069-b2c0-4debf12e166f",
   "metadata": {},
   "outputs": [
    {
     "data": {
      "text/plain": [
       "Subset selection object\n",
       "Call: regsubsets.formula(Salary ~ ., data = Hitters, nvmax = 19)\n",
       "19 Variables  (and intercept)\n",
       "           Forced in Forced out\n",
       "AtBat          FALSE      FALSE\n",
       "Hits           FALSE      FALSE\n",
       "HmRun          FALSE      FALSE\n",
       "Runs           FALSE      FALSE\n",
       "RBI            FALSE      FALSE\n",
       "Walks          FALSE      FALSE\n",
       "Years          FALSE      FALSE\n",
       "CAtBat         FALSE      FALSE\n",
       "CHits          FALSE      FALSE\n",
       "CHmRun         FALSE      FALSE\n",
       "CRuns          FALSE      FALSE\n",
       "CRBI           FALSE      FALSE\n",
       "CWalks         FALSE      FALSE\n",
       "LeagueN        FALSE      FALSE\n",
       "DivisionW      FALSE      FALSE\n",
       "PutOuts        FALSE      FALSE\n",
       "Assists        FALSE      FALSE\n",
       "Errors         FALSE      FALSE\n",
       "NewLeagueN     FALSE      FALSE\n",
       "1 subsets of each size up to 19\n",
       "Selection Algorithm: exhaustive\n",
       "          AtBat Hits HmRun Runs RBI Walks Years CAtBat CHits CHmRun CRuns CRBI\n",
       "1  ( 1 )  \" \"   \" \"  \" \"   \" \"  \" \" \" \"   \" \"   \" \"    \" \"   \" \"    \" \"   \"*\" \n",
       "2  ( 1 )  \" \"   \"*\"  \" \"   \" \"  \" \" \" \"   \" \"   \" \"    \" \"   \" \"    \" \"   \"*\" \n",
       "3  ( 1 )  \" \"   \"*\"  \" \"   \" \"  \" \" \" \"   \" \"   \" \"    \" \"   \" \"    \" \"   \"*\" \n",
       "4  ( 1 )  \" \"   \"*\"  \" \"   \" \"  \" \" \" \"   \" \"   \" \"    \" \"   \" \"    \" \"   \"*\" \n",
       "5  ( 1 )  \"*\"   \"*\"  \" \"   \" \"  \" \" \" \"   \" \"   \" \"    \" \"   \" \"    \" \"   \"*\" \n",
       "6  ( 1 )  \"*\"   \"*\"  \" \"   \" \"  \" \" \"*\"   \" \"   \" \"    \" \"   \" \"    \" \"   \"*\" \n",
       "7  ( 1 )  \" \"   \"*\"  \" \"   \" \"  \" \" \"*\"   \" \"   \"*\"    \"*\"   \"*\"    \" \"   \" \" \n",
       "8  ( 1 )  \"*\"   \"*\"  \" \"   \" \"  \" \" \"*\"   \" \"   \" \"    \" \"   \"*\"    \"*\"   \" \" \n",
       "9  ( 1 )  \"*\"   \"*\"  \" \"   \" \"  \" \" \"*\"   \" \"   \"*\"    \" \"   \" \"    \"*\"   \"*\" \n",
       "10  ( 1 ) \"*\"   \"*\"  \" \"   \" \"  \" \" \"*\"   \" \"   \"*\"    \" \"   \" \"    \"*\"   \"*\" \n",
       "11  ( 1 ) \"*\"   \"*\"  \" \"   \" \"  \" \" \"*\"   \" \"   \"*\"    \" \"   \" \"    \"*\"   \"*\" \n",
       "12  ( 1 ) \"*\"   \"*\"  \" \"   \"*\"  \" \" \"*\"   \" \"   \"*\"    \" \"   \" \"    \"*\"   \"*\" \n",
       "13  ( 1 ) \"*\"   \"*\"  \" \"   \"*\"  \" \" \"*\"   \" \"   \"*\"    \" \"   \" \"    \"*\"   \"*\" \n",
       "14  ( 1 ) \"*\"   \"*\"  \"*\"   \"*\"  \" \" \"*\"   \" \"   \"*\"    \" \"   \" \"    \"*\"   \"*\" \n",
       "15  ( 1 ) \"*\"   \"*\"  \"*\"   \"*\"  \" \" \"*\"   \" \"   \"*\"    \"*\"   \" \"    \"*\"   \"*\" \n",
       "16  ( 1 ) \"*\"   \"*\"  \"*\"   \"*\"  \"*\" \"*\"   \" \"   \"*\"    \"*\"   \" \"    \"*\"   \"*\" \n",
       "17  ( 1 ) \"*\"   \"*\"  \"*\"   \"*\"  \"*\" \"*\"   \" \"   \"*\"    \"*\"   \" \"    \"*\"   \"*\" \n",
       "18  ( 1 ) \"*\"   \"*\"  \"*\"   \"*\"  \"*\" \"*\"   \"*\"   \"*\"    \"*\"   \" \"    \"*\"   \"*\" \n",
       "19  ( 1 ) \"*\"   \"*\"  \"*\"   \"*\"  \"*\" \"*\"   \"*\"   \"*\"    \"*\"   \"*\"    \"*\"   \"*\" \n",
       "          CWalks LeagueN DivisionW PutOuts Assists Errors NewLeagueN\n",
       "1  ( 1 )  \" \"    \" \"     \" \"       \" \"     \" \"     \" \"    \" \"       \n",
       "2  ( 1 )  \" \"    \" \"     \" \"       \" \"     \" \"     \" \"    \" \"       \n",
       "3  ( 1 )  \" \"    \" \"     \" \"       \"*\"     \" \"     \" \"    \" \"       \n",
       "4  ( 1 )  \" \"    \" \"     \"*\"       \"*\"     \" \"     \" \"    \" \"       \n",
       "5  ( 1 )  \" \"    \" \"     \"*\"       \"*\"     \" \"     \" \"    \" \"       \n",
       "6  ( 1 )  \" \"    \" \"     \"*\"       \"*\"     \" \"     \" \"    \" \"       \n",
       "7  ( 1 )  \" \"    \" \"     \"*\"       \"*\"     \" \"     \" \"    \" \"       \n",
       "8  ( 1 )  \"*\"    \" \"     \"*\"       \"*\"     \" \"     \" \"    \" \"       \n",
       "9  ( 1 )  \"*\"    \" \"     \"*\"       \"*\"     \" \"     \" \"    \" \"       \n",
       "10  ( 1 ) \"*\"    \" \"     \"*\"       \"*\"     \"*\"     \" \"    \" \"       \n",
       "11  ( 1 ) \"*\"    \"*\"     \"*\"       \"*\"     \"*\"     \" \"    \" \"       \n",
       "12  ( 1 ) \"*\"    \"*\"     \"*\"       \"*\"     \"*\"     \" \"    \" \"       \n",
       "13  ( 1 ) \"*\"    \"*\"     \"*\"       \"*\"     \"*\"     \"*\"    \" \"       \n",
       "14  ( 1 ) \"*\"    \"*\"     \"*\"       \"*\"     \"*\"     \"*\"    \" \"       \n",
       "15  ( 1 ) \"*\"    \"*\"     \"*\"       \"*\"     \"*\"     \"*\"    \" \"       \n",
       "16  ( 1 ) \"*\"    \"*\"     \"*\"       \"*\"     \"*\"     \"*\"    \" \"       \n",
       "17  ( 1 ) \"*\"    \"*\"     \"*\"       \"*\"     \"*\"     \"*\"    \"*\"       \n",
       "18  ( 1 ) \"*\"    \"*\"     \"*\"       \"*\"     \"*\"     \"*\"    \"*\"       \n",
       "19  ( 1 ) \"*\"    \"*\"     \"*\"       \"*\"     \"*\"     \"*\"    \"*\"       "
      ]
     },
     "metadata": {},
     "output_type": "display_data"
    }
   ],
   "source": [
    "regfit.full <- regsubsets(Salary~., data=Hitters, nvmax = 19)\n",
    "regfit.full.summary <- summary(regfit.full); regfit.full.summary"
   ]
  },
  {
   "cell_type": "markdown",
   "id": "42b2a201-46a3-4300-b65f-77cd282d362c",
   "metadata": {},
   "source": [
    "We can look at the names of the regfit.full output. Turns out it gives us a lot of useful information for making a decision about which model performs the best."
   ]
  },
  {
   "cell_type": "code",
   "execution_count": 4,
   "id": "2e5d27fe-15d4-4118-bff3-07fd452d4a36",
   "metadata": {},
   "outputs": [
    {
     "data": {
      "text/html": [
       "<style>\n",
       ".list-inline {list-style: none; margin:0; padding: 0}\n",
       ".list-inline>li {display: inline-block}\n",
       ".list-inline>li:not(:last-child)::after {content: \"\\00b7\"; padding: 0 .5ex}\n",
       "</style>\n",
       "<ol class=list-inline><li>'which'</li><li>'rsq'</li><li>'rss'</li><li>'adjr2'</li><li>'cp'</li><li>'bic'</li><li>'outmat'</li><li>'obj'</li></ol>\n"
      ],
      "text/latex": [
       "\\begin{enumerate*}\n",
       "\\item 'which'\n",
       "\\item 'rsq'\n",
       "\\item 'rss'\n",
       "\\item 'adjr2'\n",
       "\\item 'cp'\n",
       "\\item 'bic'\n",
       "\\item 'outmat'\n",
       "\\item 'obj'\n",
       "\\end{enumerate*}\n"
      ],
      "text/markdown": [
       "1. 'which'\n",
       "2. 'rsq'\n",
       "3. 'rss'\n",
       "4. 'adjr2'\n",
       "5. 'cp'\n",
       "6. 'bic'\n",
       "7. 'outmat'\n",
       "8. 'obj'\n",
       "\n",
       "\n"
      ],
      "text/plain": [
       "[1] \"which\"  \"rsq\"    \"rss\"    \"adjr2\"  \"cp\"     \"bic\"    \"outmat\" \"obj\"   "
      ]
     },
     "metadata": {},
     "output_type": "display_data"
    },
    {
     "data": {
      "text/html": [
       "<style>\n",
       ".list-inline {list-style: none; margin:0; padding: 0}\n",
       ".list-inline>li {display: inline-block}\n",
       ".list-inline>li:not(:last-child)::after {content: \"\\00b7\"; padding: 0 .5ex}\n",
       "</style>\n",
       "<ol class=list-inline><li>0.318850280578499</li><li>0.420802390670369</li><li>0.445075316286119</li><li>0.467273423214861</li><li>0.480897071527011</li><li>0.497200054797098</li><li>0.500784873641778</li><li>0.513708257477458</li><li>0.51805715937398</li><li>0.522260623597179</li><li>0.522570578730917</li><li>0.521724458646507</li><li>0.5206736454971</li><li>0.519543086092702</li><li>0.517866147524149</li><li>0.516221853907086</li><li>0.514446423331</li><li>0.512609692022866</li><li>0.510626978687586</li></ol>\n"
      ],
      "text/latex": [
       "\\begin{enumerate*}\n",
       "\\item 0.318850280578499\n",
       "\\item 0.420802390670369\n",
       "\\item 0.445075316286119\n",
       "\\item 0.467273423214861\n",
       "\\item 0.480897071527011\n",
       "\\item 0.497200054797098\n",
       "\\item 0.500784873641778\n",
       "\\item 0.513708257477458\n",
       "\\item 0.51805715937398\n",
       "\\item 0.522260623597179\n",
       "\\item 0.522570578730917\n",
       "\\item 0.521724458646507\n",
       "\\item 0.5206736454971\n",
       "\\item 0.519543086092702\n",
       "\\item 0.517866147524149\n",
       "\\item 0.516221853907086\n",
       "\\item 0.514446423331\n",
       "\\item 0.512609692022866\n",
       "\\item 0.510626978687586\n",
       "\\end{enumerate*}\n"
      ],
      "text/markdown": [
       "1. 0.318850280578499\n",
       "2. 0.420802390670369\n",
       "3. 0.445075316286119\n",
       "4. 0.467273423214861\n",
       "5. 0.480897071527011\n",
       "6. 0.497200054797098\n",
       "7. 0.500784873641778\n",
       "8. 0.513708257477458\n",
       "9. 0.51805715937398\n",
       "10. 0.522260623597179\n",
       "11. 0.522570578730917\n",
       "12. 0.521724458646507\n",
       "13. 0.5206736454971\n",
       "14. 0.519543086092702\n",
       "15. 0.517866147524149\n",
       "16. 0.516221853907086\n",
       "17. 0.514446423331\n",
       "18. 0.512609692022866\n",
       "19. 0.510626978687586\n",
       "\n",
       "\n"
      ],
      "text/plain": [
       " [1] 0.3188503 0.4208024 0.4450753 0.4672734 0.4808971 0.4972001 0.5007849\n",
       " [8] 0.5137083 0.5180572 0.5222606 0.5225706 0.5217245 0.5206736 0.5195431\n",
       "[15] 0.5178661 0.5162219 0.5144464 0.5126097 0.5106270"
      ]
     },
     "metadata": {},
     "output_type": "display_data"
    }
   ],
   "source": [
    "names(regfit.full.summary)\n",
    "regfit.full.summary[['adjr2']]"
   ]
  },
  {
   "cell_type": "markdown",
   "id": "69d787d9-a735-46a9-9258-4bedb49f9b6f",
   "metadata": {},
   "source": [
    "Lets take the model that minimizes the adjusted error measure of Cp. First we can plot this, then we can even make a mark of the lowest value"
   ]
  },
  {
   "cell_type": "code",
   "execution_count": 5,
   "id": "817f7212-6583-449c-97ea-f08766cb4e0e",
   "metadata": {},
   "outputs": [
    {
     "data": {
      "text/html": [
       "10"
      ],
      "text/latex": [
       "10"
      ],
      "text/markdown": [
       "10"
      ],
      "text/plain": [
       "[1] 10"
      ]
     },
     "metadata": {},
     "output_type": "display_data"
    },
    {
     "data": {
      "image/png": "[encoded data removed]",
      "text/plain": [
       "plot without title"
      ]
     },
     "metadata": {
      "image/png": {
       "height": 420,
       "width": 420
      }
     },
     "output_type": "display_data"
    }
   ],
   "source": [
    "plot(regfit.full.summary$cp, xlab='Number of Variables', ylab='Cp')\n",
    "which.min(regfit.full.summary$cp)\n",
    "points(which.min(regfit.full.summary$cp), regfit.full.summary$cp[which.min(regfit.full.summary$cp)], col='red', pch=20 )"
   ]
  },
  {
   "cell_type": "markdown",
   "id": "419a48db-03b2-4ebe-a74e-556e1dc60e3b",
   "metadata": {},
   "source": [
    "Regsubsets also has its own plot function, although it is a bit tough to read. When we plot for ```Cp``` we get a black and white checker board. The top of the plot (tested for adjr2 and Cp) will always show the best subset of variables to use for prediction. The White means VARIABLES ARE OUT, while the Black mean the VARIABLES ARE USED. We can look at the bottom half of this plot and see that the general trend is that bad models use all/a lot of the variables, and almost none of the variables. The good models intelligently pick variables that improve predictive power."
   ]
  },
  {
   "cell_type": "code",
   "execution_count": 9,
   "id": "7a6fc0e4-c4dd-46a0-8f4d-8b7b1e2dc663",
   "metadata": {},
   "outputs": [
    {
     "data": {
      "image/png": "[encoded data removed]",
      "text/plain": [
       "plot without title"
      ]
     },
     "metadata": {
      "image/png": {
       "height": 420,
       "width": 420
      }
     },
     "output_type": "display_data"
    }
   ],
   "source": [
    "plot(regfit.full, scale='Cp')"
   ]
  },
  {
   "cell_type": "markdown",
   "id": "e7b2e584-8322-4a48-8793-06ff01b8b172",
   "metadata": {},
   "source": [
    "We can pull out the coefficients from our regfit using a simple call to the ```coef``` function and pass it which model we would like."
   ]
  },
  {
   "cell_type": "code",
   "execution_count": 12,
   "id": "1956d2c2-0cb5-402d-aba3-c277bd0e628f",
   "metadata": {},
   "outputs": [
    {
     "name": "stdout",
     "output_type": "stream",
     "text": [
      " (Intercept)        AtBat         Hits        Walks       CAtBat        CRuns \n",
      " 162.5354420   -2.1686501    6.9180175    5.7732246   -0.1300798    1.4082490 \n",
      "        CRBI       CWalks    DivisionW      PutOuts      Assists \n",
      "   0.7743122   -0.8308264 -112.3800575    0.2973726    0.2831680 \n"
     ]
    }
   ],
   "source": [
    "print(coef(regfit.full, id=10))"
   ]
  },
  {
   "cell_type": "code",
   "execution_count": null,
   "id": "2521e077-2cf4-4f30-9591-8eafc0d02069",
   "metadata": {},
   "outputs": [],
   "source": []
  },
  {
   "cell_type": "code",
   "execution_count": null,
   "id": "8c4d97f6-7cef-4cc1-af00-237ab48d5ee9",
   "metadata": {},
   "outputs": [],
   "source": []
  }
 ],
 "metadata": {
  "kernelspec": {
   "display_name": "R",
   "language": "R",
   "name": "ir"
  },
  "language_info": {
   "codemirror_mode": "r",
   "file_extension": ".r",
   "mimetype": "text/x-r-source",
   "name": "R",
   "pygments_lexer": "r",
   "version": "4.1.0"
  }
 },
 "nbformat": 4,
 "nbformat_minor": 5
}
