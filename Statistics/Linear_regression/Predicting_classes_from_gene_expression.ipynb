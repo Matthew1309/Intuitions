{
 "cells": [
  {
   "cell_type": "markdown",
   "id": "fa50aac2-d1d9-4e5b-b21e-f4e46dec09b7",
   "metadata": {
    "tags": []
   },
   "source": [
    "# Building a classifier\n",
    "\n",
    "I am building a Lasso classifier to hopefully help with the \"cleaner\" function I am thinking of building. This dataset is pulled from ```GSE76118``` dataset. I have curated it to only contain the cells from endothelial cells, atrial CMs, and ventricular CMs. My identified class names are accessable via the ```Celltype$ident``` call."
   ]
  },
  {
   "cell_type": "code",
   "execution_count": 1,
   "id": "be86bf5b-71a0-4a1b-ba40-0679787d0de4",
   "metadata": {
    "tags": []
   },
   "outputs": [
    {
     "name": "stderr",
     "output_type": "stream",
     "text": [
      "Warning message:\n",
      "“package ‘plyr’ was built under R version 4.1.2”\n",
      "Warning message:\n",
      "“package ‘dplyr’ was built under R version 4.1.3”\n",
      "\n",
      "Attaching package: ‘dplyr’\n",
      "\n",
      "\n",
      "The following objects are masked from ‘package:plyr’:\n",
      "\n",
      "    arrange, count, desc, failwith, id, mutate, rename, summarise,\n",
      "    summarize\n",
      "\n",
      "\n",
      "The following objects are masked from ‘package:stats’:\n",
      "\n",
      "    filter, lag\n",
      "\n",
      "\n",
      "The following objects are masked from ‘package:base’:\n",
      "\n",
      "    intersect, setdiff, setequal, union\n",
      "\n",
      "\n",
      "Loading required package: Matrix\n",
      "\n",
      "Warning message:\n",
      "“package ‘Matrix’ was built under R version 4.1.2”\n",
      "Loaded glmnet 4.1-2\n",
      "\n",
      "Warning message:\n",
      "“package ‘data.table’ was built under R version 4.1.1”\n",
      "\n",
      "Attaching package: ‘data.table’\n",
      "\n",
      "\n",
      "The following objects are masked from ‘package:dplyr’:\n",
      "\n",
      "    between, first, last\n",
      "\n",
      "\n"
     ]
    },
    {
     "data": {
      "text/html": [
       "<style>\n",
       ".list-inline {list-style: none; margin:0; padding: 0}\n",
       ".list-inline>li {display: inline-block}\n",
       ".list-inline>li:not(:last-child)::after {content: \"\\00b7\"; padding: 0 .5ex}\n",
       "</style>\n",
       "<ol class=list-inline><li>1525</li><li>29466</li></ol>\n"
      ],
      "text/latex": [
       "\\begin{enumerate*}\n",
       "\\item 1525\n",
       "\\item 29466\n",
       "\\end{enumerate*}\n"
      ],
      "text/markdown": [
       "1. 1525\n",
       "2. 29466\n",
       "\n",
       "\n"
      ],
      "text/plain": [
       "[1]  1525 29466"
      ]
     },
     "metadata": {},
     "output_type": "display_data"
    }
   ],
   "source": [
    "library(leaps)\n",
    "library(plyr)\n",
    "library(dplyr)\n",
    "library(glmnet)\n",
    "library(data.table)\n",
    "`%!in%` <- Negate(`%in%`)\n",
    "\n",
    "setwd(\"/mnt/c/Users/mkozubov/OneDrive - Tenaya Therapeutics/Desktop/Intuitions/Statistics/Linear_regression/\")\n",
    "\n",
    "Celltype <- fread('./data/example_dataset_for_classficiation.csv', \n",
    "                 data.table = FALSE, \n",
    "                 check.names = FALSE, \n",
    "                 stringsAsFactors = FALSE, \n",
    "                 header = TRUE, \n",
    "                 sep = \",\")\n",
    "# Fixing rownames\n",
    "rownames(Celltype) <- Celltype[,1]\n",
    "Celltype$V1 <- NULL\n",
    "\n",
    "# I am going to get rid of the Gm genes because I feel they pollute my results\n",
    "Celltype <- subset(Celltype, colnames(Celltype) %!in% colnames(Celltype)[grepl(\"^Gm[1-9]{4,9}\", colnames(Celltype))])#Celltype[,-grepl(\"^Gm[1-9]{4,9}\", colnames(Celltype))]\n",
    "\n",
    "dim(Celltype)"
   ]
  },
  {
   "cell_type": "code",
   "execution_count": null,
   "id": "a655e77f-5142-431c-aed2-391fa556dd9e",
   "metadata": {},
   "outputs": [],
   "source": []
  }
 ],
 "metadata": {
  "kernelspec": {
   "display_name": "R",
   "language": "R",
   "name": "ir"
  },
  "language_info": {
   "codemirror_mode": "r",
   "file_extension": ".r",
   "mimetype": "text/x-r-source",
   "name": "R",
   "pygments_lexer": "r",
   "version": "4.1.0"
  }
 },
 "nbformat": 4,
 "nbformat_minor": 5
}
