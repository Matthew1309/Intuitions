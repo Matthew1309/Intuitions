{
 "cells": [
  {
   "cell_type": "markdown",
   "id": "d4423885-b80a-4201-b1d0-b078a03b808e",
   "metadata": {},
   "source": [
    "# Bootstrap Agenda\n",
    "* Very powerful tool in statistics. Lets us see the sampling distribution of our population. Easy was to do stats when sampling is difficult. \n",
    "* In this tutorial we will look at the best combination of two investments to maximize profits."
   ]
  },
  {
   "cell_type": "markdown",
   "id": "7a0e4acb-6710-4b8e-8372-7d36700a8517",
   "metadata": {},
   "source": [
    "# Calculating our optimal investment metric\n",
    "\n",
    "if we have a scenerio with two choices to put our money into, the optimal amount to put into stock 1 ($\\alpha$) and stock 2 ($1-\\alpha$) is given by the following formula\n",
    "\n",
    "$\\alpha = \\frac{Var(y) - Cov(x,y)}{Var(x) + Var(y) - 2Cov(x,y)}$\n",
    "\n",
    "We use bootstrap because we do not know Var(y) and Var(x)! This lets us estimate our SE(x) and mean(x) via the $\\hat {SE}$ and $\\hat \\mu$."
   ]
  },
  {
   "cell_type": "code",
   "execution_count": 4,
   "id": "c2bc2d4f-6451-41b1-b511-2b474ecdbe01",
   "metadata": {},
   "outputs": [],
   "source": [
    "library(MASS)\n",
    "library(ISLR)\n",
    "library(boot)"
   ]
  },
  {
   "cell_type": "code",
   "execution_count": 30,
   "id": "5bc899a3-2498-48eb-ad77-5bad7ebd41d0",
   "metadata": {},
   "outputs": [
    {
     "data": {
      "image/png": "[encoded data removed]",
      "text/plain": [
       "Plot with title “Histogram of Portfolio$Y”"
      ]
     },
     "metadata": {},
     "output_type": "display_data"
    },
    {
     "data": {
      "text/html": [
       "\n",
       "<table width=\"100%\" summary=\"page for Portfolio {ISLR}\"><tr><td>Portfolio {ISLR}</td><td style=\"text-align: right;\">R Documentation</td></tr></table>\n",
       "\n",
       "<h2>Portfolio Data\n",
       "\n",
       "</h2>\n",
       "\n",
       "<h3>Description</h3>\n",
       "\n",
       "<p>A simple simulated data set containing 100 returns for each\n",
       "of two assets, X and Y. The data is used to estimate the optimal\n",
       "fraction to invest in each asset to minimize investment risk of the\n",
       "combined portfolio. One can then use the Bootstrap to estimate the\n",
       "standard error of this estimate.\n",
       "\n",
       "</p>\n",
       "\n",
       "\n",
       "<h3>Usage</h3>\n",
       "\n",
       "<pre>Portfolio</pre>\n",
       "\n",
       "\n",
       "<h3>Format</h3>\n",
       "\n",
       "<p>A data frame with 100 observations on the following 2 variables.\n",
       "</p>\n",
       "\n",
       "<dl>\n",
       "<dt><code>X</code></dt><dd><p>Returns for Asset X</p>\n",
       "</dd>\n",
       "<dt><code>Y</code></dt><dd><p>Returns for Asset Y</p>\n",
       "</dd>\n",
       "</dl>\n",
       "\n",
       "\n",
       "\n",
       "<h3>Source</h3>\n",
       "\n",
       "<p>Simulated data\n",
       "\n",
       "</p>\n",
       "\n",
       "\n",
       "<h3>References</h3>\n",
       "\n",
       "<p>James, G., Witten, D., Hastie, T., and Tibshirani, R. (2013)\n",
       "<em>An Introduction to Statistical Learning with applications in R</em>,\n",
       "<a href=\"www.StatLearning.com\">www.StatLearning.com</a>,\n",
       "Springer-Verlag, New York\n",
       "</p>\n",
       "\n",
       "\n",
       "<h3>Examples</h3>\n",
       "\n",
       "<pre>\n",
       "summary(Portfolio)\n",
       "attach(Portfolio)\n",
       "plot(X,Y)\n",
       "</pre>\n",
       "\n",
       "<hr /><div style=\"text-align: center;\">[Package <em>ISLR</em> version 1.2 ]</div>"
      ],
      "text/latex": [
       "\\inputencoding{utf8}\n",
       "\\HeaderA{Portfolio}{Portfolio Data}{Portfolio}\n",
       "\\keyword{datasets}{Portfolio}\n",
       "%\n",
       "\\begin{Description}\\relax\n",
       "A simple simulated data set containing 100 returns for each\n",
       "of two assets, X and Y. The data is used to estimate the optimal\n",
       "fraction to invest in each asset to minimize investment risk of the\n",
       "combined portfolio. One can then use the Bootstrap to estimate the\n",
       "standard error of this estimate.\n",
       "\n",
       "\\end{Description}\n",
       "%\n",
       "\\begin{Usage}\n",
       "\\begin{verbatim}\n",
       "Portfolio\n",
       "\\end{verbatim}\n",
       "\\end{Usage}\n",
       "%\n",
       "\\begin{Format}\n",
       "A data frame with 100 observations on the following 2 variables.\n",
       "\\begin{description}\n",
       "\n",
       "\\item[\\code{X}] Returns for Asset X\n",
       "\\item[\\code{Y}] Returns for Asset Y\n",
       "\n",
       "\\end{description}\n",
       "\n",
       "\\end{Format}\n",
       "%\n",
       "\\begin{Source}\\relax\n",
       "Simulated data\n",
       "\n",
       "\\end{Source}\n",
       "%\n",
       "\\begin{References}\\relax\n",
       "James, G., Witten, D., Hastie, T., and Tibshirani, R. (2013)\n",
       "\\emph{An Introduction to Statistical Learning with applications in R},\n",
       "\\url{www.StatLearning.com},\n",
       "Springer-Verlag, New York\n",
       "\\end{References}\n",
       "%\n",
       "\\begin{Examples}\n",
       "\\begin{ExampleCode}\n",
       "summary(Portfolio)\n",
       "attach(Portfolio)\n",
       "plot(X,Y)\n",
       "\\end{ExampleCode}\n",
       "\\end{Examples}"
      ],
      "text/plain": [
       "Portfolio                 package:ISLR                 R Documentation\n",
       "\n",
       "_\bP_\bo_\br_\bt_\bf_\bo_\bl_\bi_\bo _\bD_\ba_\bt_\ba\n",
       "\n",
       "_\bD_\be_\bs_\bc_\br_\bi_\bp_\bt_\bi_\bo_\bn:\n",
       "\n",
       "     A simple simulated data set containing 100 returns for each of two\n",
       "     assets, X and Y. The data is used to estimate the optimal fraction\n",
       "     to invest in each asset to minimize investment risk of the\n",
       "     combined portfolio. One can then use the Bootstrap to estimate the\n",
       "     standard error of this estimate.\n",
       "\n",
       "_\bU_\bs_\ba_\bg_\be:\n",
       "\n",
       "     Portfolio\n",
       "     \n",
       "_\bF_\bo_\br_\bm_\ba_\bt:\n",
       "\n",
       "     A data frame with 100 observations on the following 2 variables.\n",
       "\n",
       "     ‘X’ Returns for Asset X\n",
       "\n",
       "     ‘Y’ Returns for Asset Y\n",
       "\n",
       "_\bS_\bo_\bu_\br_\bc_\be:\n",
       "\n",
       "     Simulated data\n",
       "\n",
       "_\bR_\be_\bf_\be_\br_\be_\bn_\bc_\be_\bs:\n",
       "\n",
       "     James, G., Witten, D., Hastie, T., and Tibshirani, R. (2013) _An\n",
       "     Introduction to Statistical Learning with applications in R_,\n",
       "     <URL: www.StatLearning.com>, Springer-Verlag, New York\n",
       "\n",
       "_\bE_\bx_\ba_\bm_\bp_\bl_\be_\bs:\n",
       "\n",
       "     summary(Portfolio)\n",
       "     attach(Portfolio)\n",
       "     plot(X,Y)\n",
       "     "
      ]
     },
     "metadata": {},
     "output_type": "display_data"
    }
   ],
   "source": [
    "options(repr.plot.height = 4, repr.plot.width=9)\n",
    "help(Portfolio)\n",
    "par(mfrow=c(1,2))\n",
    "hist(Portfolio$X)\n",
    "hist(Portfolio$Y)"
   ]
  },
  {
   "cell_type": "code",
   "execution_count": 6,
   "id": "240c5895-e022-461d-b4a8-80496b758eb8",
   "metadata": {},
   "outputs": [],
   "source": [
    "alpha=function(x,y){\n",
    "    vx = var(x)\n",
    "    vy = var(y)\n",
    "    cxy = cov(x,y)\n",
    "    (vy-cxy)/(vx+vy-2*cxy)\n",
    "}"
   ]
  },
  {
   "cell_type": "code",
   "execution_count": 11,
   "id": "b018cf90-87ca-45da-a442-9478f5e8c3f1",
   "metadata": {},
   "outputs": [
    {
     "data": {
      "text/html": [
       "0.57583207459283"
      ],
      "text/latex": [
       "0.57583207459283"
      ],
      "text/markdown": [
       "0.57583207459283"
      ],
      "text/plain": [
       "[1] 0.5758321"
      ]
     },
     "metadata": {},
     "output_type": "display_data"
    }
   ],
   "source": [
    "alpha(Portfolio$X, Portfolio$Y)"
   ]
  },
  {
   "cell_type": "markdown",
   "id": "ca48bda6-766b-4457-81dd-899329ef9ea4",
   "metadata": {},
   "source": [
    "Okay this 0.575 number is our $\\hat \\mu$, or an estimate of the true population mean from a sample, but how confident are we that this is the true population mean? We could get 1000 more samples from the population, compute their means to get ${SE}$, but that is expensive. The alternaitive is to treat our ```Portfolio``` sample as our population, and sample from it *new datasets* to estimate a $\\hat {SE}$"
   ]
  },
  {
   "cell_type": "code",
   "execution_count": 12,
   "id": "e4960d71-a9c1-49ae-a7f5-ce3673347525",
   "metadata": {},
   "outputs": [
    {
     "data": {
      "text/html": [
       "0.57583207459283"
      ],
      "text/latex": [
       "0.57583207459283"
      ],
      "text/markdown": [
       "0.57583207459283"
      ],
      "text/plain": [
       "[1] 0.5758321"
      ]
     },
     "metadata": {},
     "output_type": "display_data"
    }
   ],
   "source": [
    "# Helper function to calculate alpha for a given DF\n",
    "alpha.fn <- function(query.df, index){\n",
    "    with(query.df[index,], alpha(X,Y))\n",
    "}\n",
    "\n",
    "# Test of function\n",
    "alpha.fn(Portfolio, 1:100)"
   ]
  },
  {
   "cell_type": "markdown",
   "id": "0082738e-853c-4f5a-9927-a6d08785ccb2",
   "metadata": {},
   "source": [
    "So we have a function that can compute our alpha, apparently there is just a handy dandy built in function called ```boot``` that takes the\n",
    "1. dataframe\n",
    "2. function\n",
    "3. number of times to run"
   ]
  },
  {
   "cell_type": "code",
   "execution_count": 23,
   "id": "9d769864-7fa1-4821-90b6-655ec3733f67",
   "metadata": {},
   "outputs": [
    {
     "data": {
      "text/plain": [
       "\n",
       "ORDINARY NONPARAMETRIC BOOTSTRAP\n",
       "\n",
       "\n",
       "Call:\n",
       "boot(data = Portfolio, statistic = alpha.fn, R = 10000)\n",
       "\n",
       "\n",
       "Bootstrap Statistics :\n",
       "     original      bias    std. error\n",
       "t1* 0.5758321 0.002262244  0.09272436"
      ]
     },
     "metadata": {},
     "output_type": "display_data"
    },
    {
     "data": {
      "image/png": "[encoded data removed]",
      "text/plain": [
       "Plot with title “Histogram of t”"
      ]
     },
     "metadata": {},
     "output_type": "display_data"
    }
   ],
   "source": [
    "options(repr.plot.height = 3, repr.plot.width = 10)\n",
    "set.seed(41)\n",
    "boot.out <- boot(Portfolio, alpha.fn, R=10000)\n",
    "boot.out\n",
    "plot(boot.out)"
   ]
  },
  {
   "cell_type": "markdown",
   "id": "a8766975-b3e3-478d-b458-836874f9b11b",
   "metadata": {},
   "source": [
    "# Conclusion\n",
    "\n",
    "This method is very handy if you want a standard error measurement that is very tough to aquire from the population, or mathematically derive."
   ]
  }
 ],
 "metadata": {
  "kernelspec": {
   "display_name": "R",
   "language": "R",
   "name": "ir"
  },
  "language_info": {
   "codemirror_mode": "r",
   "file_extension": ".r",
   "mimetype": "text/x-r-source",
   "name": "R",
   "pygments_lexer": "r",
   "version": "3.6.3"
  }
 },
 "nbformat": 4,
 "nbformat_minor": 5
}
