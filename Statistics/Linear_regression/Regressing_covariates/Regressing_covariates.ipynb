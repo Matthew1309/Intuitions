{
 "cells": [
  {
   "cell_type": "markdown",
   "id": "d663e183-d7d3-4d2d-8134-429c9c9a9c2a",
   "metadata": {},
   "source": [
    "# Regressing out covariates\n",
    "Today on 3/16/2023 I had a hell of a day at work trying to figure out Seurat's `vars.to.regress` in the `ScaleData` function. Here is my epithany post on github [ScaleData with do.center=F got the same result as do.center=T #5503](https://github.com/satijalab/seurat/issues/5503#issuecomment-1472938523).\n",
    "\n",
    "Well, what I realized is \n",
    "* What regressing out a variable means\n",
    "* What residuals are and what they are used for in this context\n",
    "* What would be an analogous toy dataset.\n",
    "\n",
    "**Here is my toy dataset:** Imagine ordered a breed of mouse called the *long hair mouse (LHM)* from a breeder. We want to test whether this mouse really has longer hair or not from normal WT mice. So we get 20 LHM mice and 20 WT mice and measure their furs."
   ]
  },
  {
   "cell_type": "code",
   "execution_count": 59,
   "id": "77891bc9-e911-4c11-89cf-d6144393f2f2",
   "metadata": {},
   "outputs": [],
   "source": [
    "import matplotlib.pyplot as plt\n",
    "import pandas as pd\n",
    "import numpy as np\n",
    "import seaborn as sns\n",
    "from scipy.stats import ttest_ind as ttest"
   ]
  },
  {
   "cell_type": "markdown",
   "id": "8c693292-2f4a-4b02-a64c-5a9c3d3575e9",
   "metadata": {},
   "source": [
    "### Examining the data"
   ]
  },
  {
   "cell_type": "code",
   "execution_count": 137,
   "id": "7b0872f5-49ed-4a30-9ff7-bab4d3dad4fd",
   "metadata": {},
   "outputs": [
    {
     "data": {
      "text/html": [
       "<div>\n",
       "<style scoped>\n",
       "    .dataframe tbody tr th:only-of-type {\n",
       "        vertical-align: middle;\n",
       "    }\n",
       "\n",
       "    .dataframe tbody tr th {\n",
       "        vertical-align: top;\n",
       "    }\n",
       "\n",
       "    .dataframe thead th {\n",
       "        text-align: right;\n",
       "    }\n",
       "</style>\n",
       "<table border=\"1\" class=\"dataframe\">\n",
       "  <thead>\n",
       "    <tr style=\"text-align: right;\">\n",
       "      <th></th>\n",
       "      <th>hair_length</th>\n",
       "      <th>breed</th>\n",
       "    </tr>\n",
       "  </thead>\n",
       "  <tbody>\n",
       "    <tr>\n",
       "      <th>0</th>\n",
       "      <td>4.057766</td>\n",
       "      <td>WT</td>\n",
       "    </tr>\n",
       "    <tr>\n",
       "      <th>1</th>\n",
       "      <td>3.922743</td>\n",
       "      <td>WT</td>\n",
       "    </tr>\n",
       "    <tr>\n",
       "      <th>2</th>\n",
       "      <td>4.082894</td>\n",
       "      <td>WT</td>\n",
       "    </tr>\n",
       "    <tr>\n",
       "      <th>3</th>\n",
       "      <td>3.787958</td>\n",
       "      <td>WT</td>\n",
       "    </tr>\n",
       "    <tr>\n",
       "      <th>4</th>\n",
       "      <td>4.240086</td>\n",
       "      <td>WT</td>\n",
       "    </tr>\n",
       "  </tbody>\n",
       "</table>\n",
       "</div>"
      ],
      "text/plain": [
       "   hair_length breed\n",
       "0     4.057766    WT\n",
       "1     3.922743    WT\n",
       "2     4.082894    WT\n",
       "3     3.787958    WT\n",
       "4     4.240086    WT"
      ]
     },
     "execution_count": 137,
     "metadata": {},
     "output_type": "execute_result"
    }
   ],
   "source": [
    "df = pd.read_csv('toy_mouse_example.csv')\n",
    "df.loc[:,['hair_length','breed']].head()"
   ]
  },
  {
   "cell_type": "code",
   "execution_count": 138,
   "id": "c21013d5-7ea4-414d-91ca-f21822a34d30",
   "metadata": {},
   "outputs": [
    {
     "data": {
      "text/html": [
       "<div>\n",
       "<style scoped>\n",
       "    .dataframe tbody tr th:only-of-type {\n",
       "        vertical-align: middle;\n",
       "    }\n",
       "\n",
       "    .dataframe tbody tr th {\n",
       "        vertical-align: top;\n",
       "    }\n",
       "\n",
       "    .dataframe thead th {\n",
       "        text-align: right;\n",
       "    }\n",
       "</style>\n",
       "<table border=\"1\" class=\"dataframe\">\n",
       "  <thead>\n",
       "    <tr style=\"text-align: right;\">\n",
       "      <th></th>\n",
       "      <th>count</th>\n",
       "      <th>mean</th>\n",
       "      <th>std</th>\n",
       "      <th>min</th>\n",
       "      <th>25%</th>\n",
       "      <th>50%</th>\n",
       "      <th>75%</th>\n",
       "      <th>max</th>\n",
       "    </tr>\n",
       "    <tr>\n",
       "      <th>breed</th>\n",
       "      <th></th>\n",
       "      <th></th>\n",
       "      <th></th>\n",
       "      <th></th>\n",
       "      <th></th>\n",
       "      <th></th>\n",
       "      <th></th>\n",
       "      <th></th>\n",
       "    </tr>\n",
       "  </thead>\n",
       "  <tbody>\n",
       "    <tr>\n",
       "      <th>LHM</th>\n",
       "      <td>20.0</td>\n",
       "      <td>3.992750</td>\n",
       "      <td>0.193719</td>\n",
       "      <td>3.548892</td>\n",
       "      <td>3.875978</td>\n",
       "      <td>4.005588</td>\n",
       "      <td>4.083404</td>\n",
       "      <td>4.310995</td>\n",
       "    </tr>\n",
       "    <tr>\n",
       "      <th>WT</th>\n",
       "      <td>20.0</td>\n",
       "      <td>4.015731</td>\n",
       "      <td>0.202340</td>\n",
       "      <td>3.640154</td>\n",
       "      <td>3.871712</td>\n",
       "      <td>4.052519</td>\n",
       "      <td>4.100297</td>\n",
       "      <td>4.464038</td>\n",
       "    </tr>\n",
       "  </tbody>\n",
       "</table>\n",
       "</div>"
      ],
      "text/plain": [
       "       count      mean       std       min       25%       50%       75%  \\\n",
       "breed                                                                      \n",
       "LHM     20.0  3.992750  0.193719  3.548892  3.875978  4.005588  4.083404   \n",
       "WT      20.0  4.015731  0.202340  3.640154  3.871712  4.052519  4.100297   \n",
       "\n",
       "            max  \n",
       "breed            \n",
       "LHM    4.310995  \n",
       "WT     4.464038  "
      ]
     },
     "execution_count": 138,
     "metadata": {},
     "output_type": "execute_result"
    }
   ],
   "source": [
    "df.groupby('breed').hair_length.describe()"
   ]
  },
  {
   "cell_type": "markdown",
   "id": "d8c33795-c1c6-45f6-8898-ca4d2553d311",
   "metadata": {},
   "source": [
    "Huh, the two breeds don't look too different! Both have a mean around 4 and a STD of about 0.2... Maybe we got ripped off, lets plot and do a T-test\n",
    "\n",
    "### Testing my LHM vs WT"
   ]
  },
  {
   "cell_type": "code",
   "execution_count": 139,
   "id": "527f715c-a7fe-49d1-bc95-5982148c977b",
   "metadata": {},
   "outputs": [
    {
     "data": {
      "text/plain": [
       "<AxesSubplot:xlabel='hair_length', ylabel='Density'>"
      ]
     },
     "execution_count": 139,
     "metadata": {},
     "output_type": "execute_result"
    },
    {
     "data": {
      "image/png": "[encoded data removed]",
      "text/plain": [
       "<Figure size 432x288 with 1 Axes>"
      ]
     },
     "metadata": {
      "needs_background": "light"
     },
     "output_type": "display_data"
    }
   ],
   "source": [
    "sns.histplot(data = df[['hair_length', 'breed']], x = 'hair_length', hue = 'breed', \n",
    "             fill=True, stat=\"density\", common_norm=False, kde=True)"
   ]
  },
  {
   "cell_type": "code",
   "execution_count": 235,
   "id": "bee25dc2-1d94-4117-bc4a-0269ebf1f259",
   "metadata": {},
   "outputs": [
    {
     "data": {
      "text/plain": [
       "<matplotlib.legend.Legend at 0x7fbaf608c5e0>"
      ]
     },
     "execution_count": 235,
     "metadata": {},
     "output_type": "execute_result"
    },
    {
     "data": {
      "image/png": "[encoded data removed]",
      "text/plain": [
       "<Figure size 432x288 with 1 Axes>"
      ]
     },
     "metadata": {
      "needs_background": "light"
     },
     "output_type": "display_data"
    }
   ],
   "source": [
    "plt.plot([1 for i in range(20)], df['hair_length'][df.breed == 'WT'], linewidth = 0, marker = '.', c='blue', label ='WT')\n",
    "plt.plot([2 for i in range(20)], df['hair_length'][df.breed == 'LHM'], linewidth = 0, marker = '.', c='red', label = 'LHM')\n",
    "plt.xlabel(\"Mouse Breed\")\n",
    "plt.ylabel(\"Mouse Hair Length\")\n",
    "plt.legend()"
   ]
  },
  {
   "cell_type": "code",
   "execution_count": 140,
   "id": "c7721824-6761-4a30-9c60-f6c2e0f2a9b1",
   "metadata": {},
   "outputs": [
    {
     "data": {
      "text/plain": [
       "Ttest_indResult(statistic=0.366904352574, pvalue=0.7157256746927099)"
      ]
     },
     "execution_count": 140,
     "metadata": {},
     "output_type": "execute_result"
    }
   ],
   "source": [
    "ttest(df[\"hair_length\"][df.breed == 'WT'], \n",
    "      df[\"hair_length\"][df.breed == 'LHM'])"
   ]
  },
  {
   "cell_type": "markdown",
   "id": "32e1768c-4274-4d9e-8d48-28d0078911d3",
   "metadata": {},
   "source": [
    "Visually looking at the data there doesn't seem to be a huge difference in distribution, and conducting a test yields an insignificant p-value. Therefore we don't have enough evidence to reject the null hypothesis that my two mouse populations are the same. \n",
    "\n",
    "SMH WE GOT RIPPED OFF!!! Is what I would say, but I know a little secret! Turns out my mouse breeder recorded the ages of the mice and provided us with some extra meta data. Let us see if there is a difference between the hair lengths of different aged mice."
   ]
  },
  {
   "cell_type": "code",
   "execution_count": 141,
   "id": "29e59263-b16b-4903-b35d-17b35ff1b6c0",
   "metadata": {},
   "outputs": [
    {
     "data": {
      "text/html": [
       "<div>\n",
       "<style scoped>\n",
       "    .dataframe tbody tr th:only-of-type {\n",
       "        vertical-align: middle;\n",
       "    }\n",
       "\n",
       "    .dataframe tbody tr th {\n",
       "        vertical-align: top;\n",
       "    }\n",
       "\n",
       "    .dataframe thead th {\n",
       "        text-align: right;\n",
       "    }\n",
       "</style>\n",
       "<table border=\"1\" class=\"dataframe\">\n",
       "  <thead>\n",
       "    <tr style=\"text-align: right;\">\n",
       "      <th></th>\n",
       "      <th>age</th>\n",
       "      <th>hair_length</th>\n",
       "      <th>breed</th>\n",
       "    </tr>\n",
       "  </thead>\n",
       "  <tbody>\n",
       "    <tr>\n",
       "      <th>0</th>\n",
       "      <td>2.025478</td>\n",
       "      <td>4.057766</td>\n",
       "      <td>WT</td>\n",
       "    </tr>\n",
       "    <tr>\n",
       "      <th>1</th>\n",
       "      <td>2.034290</td>\n",
       "      <td>3.922743</td>\n",
       "      <td>WT</td>\n",
       "    </tr>\n",
       "    <tr>\n",
       "      <th>2</th>\n",
       "      <td>2.022872</td>\n",
       "      <td>4.082894</td>\n",
       "      <td>WT</td>\n",
       "    </tr>\n",
       "    <tr>\n",
       "      <th>3</th>\n",
       "      <td>1.852754</td>\n",
       "      <td>3.787958</td>\n",
       "      <td>WT</td>\n",
       "    </tr>\n",
       "    <tr>\n",
       "      <th>4</th>\n",
       "      <td>2.081706</td>\n",
       "      <td>4.240086</td>\n",
       "      <td>WT</td>\n",
       "    </tr>\n",
       "  </tbody>\n",
       "</table>\n",
       "</div>"
      ],
      "text/plain": [
       "        age  hair_length breed\n",
       "0  2.025478     4.057766    WT\n",
       "1  2.034290     3.922743    WT\n",
       "2  2.022872     4.082894    WT\n",
       "3  1.852754     3.787958    WT\n",
       "4  2.081706     4.240086    WT"
      ]
     },
     "execution_count": 141,
     "metadata": {},
     "output_type": "execute_result"
    }
   ],
   "source": [
    "df.head()"
   ]
  },
  {
   "cell_type": "code",
   "execution_count": 219,
   "id": "495c3d30-a46e-4bbb-81d1-baa59da6369a",
   "metadata": {},
   "outputs": [
    {
     "data": {
      "text/plain": [
       "<AxesSubplot:xlabel='age', ylabel='Count'>"
      ]
     },
     "execution_count": 219,
     "metadata": {},
     "output_type": "execute_result"
    },
    {
     "data": {
      "image/png": "[encoded data removed]",
      "text/plain": [
       "<Figure size 432x288 with 1 Axes>"
      ]
     },
     "metadata": {
      "needs_background": "light"
     },
     "output_type": "display_data"
    }
   ],
   "source": [
    "sns.histplot(df, x = 'age', hue = 'breed', palette = ['blue', 'red'])"
   ]
  },
  {
   "cell_type": "code",
   "execution_count": 236,
   "id": "588bf0ac-7cce-48e3-b8b8-21137efac7cd",
   "metadata": {},
   "outputs": [
    {
     "data": {
      "text/plain": [
       "<matplotlib.legend.Legend at 0x7fbaf5fe8f40>"
      ]
     },
     "execution_count": 236,
     "metadata": {},
     "output_type": "execute_result"
    },
    {
     "data": {
      "image/png": "[encoded data removed]",
      "text/plain": [
       "<Figure size 432x288 with 1 Axes>"
      ]
     },
     "metadata": {
      "needs_background": "light"
     },
     "output_type": "display_data"
    }
   ],
   "source": [
    "plt.plot(df['breed'][df.breed == 'WT'], df['age'][df.breed == 'WT'], linewidth = 0, marker = '.', c='blue', label='WT')\n",
    "plt.plot(df['breed'][df.breed == 'LHM'], df['age'][df.breed == 'LHM'], linewidth = 0, marker = '.', c='red', label='LHM')\n",
    "plt.xlabel(\"Mouse Breed\")\n",
    "plt.ylabel(\"Mouse Age\")\n",
    "plt.legend()"
   ]
  },
  {
   "cell_type": "markdown",
   "id": "df476704-65b0-4d36-8261-2545cd0be2ce",
   "metadata": {},
   "source": [
    "Huh, looking at the ages of my two mouse breeds, there seems to be a very strong association between age and breed. The breeder seems to have sent us normal mice that are about a year older than the LHM. Maybe that extra year meant that the mice had more time to grow more hair. There is hope for our mouse breeder's reputation! Lets plot the hair length against age to see if they are associated."
   ]
  },
  {
   "cell_type": "code",
   "execution_count": 159,
   "id": "67756ab1-08b8-4ec9-8802-29329ac27353",
   "metadata": {},
   "outputs": [
    {
     "data": {
      "text/plain": [
       "<matplotlib.legend.Legend at 0x7fbaf83ac3d0>"
      ]
     },
     "execution_count": 159,
     "metadata": {},
     "output_type": "execute_result"
    },
    {
     "data": {
      "image/png": "[encoded data removed]",
      "text/plain": [
       "<Figure size 432x288 with 1 Axes>"
      ]
     },
     "metadata": {
      "needs_background": "light"
     },
     "output_type": "display_data"
    }
   ],
   "source": [
    "plt.scatter(df.age[df.breed == 'WT'], df.hair_length[df.breed == 'WT'], \n",
    "            c = 'blue', label = 'WT')\n",
    "plt.scatter(df.age[df.breed == 'LHM'], df.hair_length[df.breed == 'LHM'], \n",
    "            c = 'red', label = 'LHM')\n",
    "plt.xlim(0,2.5)\n",
    "plt.ylim(0,5)\n",
    "plt.xlabel(\"Mouse Age\")\n",
    "plt.ylabel(\"Mouse Hair Length\")\n",
    "plt.legend()"
   ]
  },
  {
   "cell_type": "markdown",
   "id": "f923192b-d75b-421d-9a26-3f3e8ce442cb",
   "metadata": {},
   "source": [
    "Sure enough, there seem to be associations. Here comes the actual regression.\n",
    "\n",
    "### Regressing the effect of age\n",
    "When we regress away a variable, what we are actually doing is generating a good guess of what our outcome variable Y (in this case that is hair_length) *should be* at a given age in each of the groups we want to remove. \n",
    "\n",
    "$HairLength = B_1Age + B2$\n",
    "\n",
    "Now I'm not sure if what I'm about to do is technically the best generalized method, but I'm going to fit this model to only one 'reference' group, in this case the WT condition, and the residuals between this fit and my points should contain the corrected information. \n",
    "\n",
    "$Residual = Actual - Predicted$\n",
    "\n",
    "$Corrected = Actual - Batch Effect$\n",
    "\n",
    "Eyeballing the graph above, my guess would be that the blue dots create a line with a slope of about 1.4 hair_lengths / year with a y-intercept of about 0.75. This would be my predictions for how long a mouses hair should be for a given age, and we use the formula above to calculate our corrected (residual) value."
   ]
  },
  {
   "cell_type": "code",
   "execution_count": 252,
   "id": "cb48eb1e-40a1-44e3-ac26-041f185647d0",
   "metadata": {},
   "outputs": [],
   "source": [
    "ref_group = 'WT'\n",
    "a, b = np.polyfit(df.age[df.breed == ref_group], df.hair_length[df.breed == ref_group], 1)\n",
    "# a, b = np.polyfit(df.age, df.hair_length,1)"
   ]
  },
  {
   "cell_type": "code",
   "execution_count": 253,
   "id": "581c05b1-81b1-41af-a16b-51113b716e27",
   "metadata": {},
   "outputs": [
    {
     "data": {
      "text/plain": [
       "Text(0.2, 4, 'b = 0.49')"
      ]
     },
     "execution_count": 253,
     "metadata": {},
     "output_type": "execute_result"
    },
    {
     "data": {
      "image/png": "[encoded data removed]",
      "text/plain": [
       "<Figure size 432x288 with 1 Axes>"
      ]
     },
     "metadata": {
      "needs_background": "light"
     },
     "output_type": "display_data"
    }
   ],
   "source": [
    "plt.scatter(df.age[df.breed == 'WT'], df.hair_length[df.breed == 'WT'], \n",
    "            c = 'blue', label = 'WT')\n",
    "plt.scatter(df.age[df.breed == 'LHM'], df.hair_length[df.breed == 'LHM'], \n",
    "            c = 'red', label = 'LHM')\n",
    "plt.xlim(0,2.5)\n",
    "plt.ylim(0,5)\n",
    "\n",
    "x = np.linspace(start=0,stop=2.5,num=10)\n",
    "y = a*x + b\n",
    "plt.plot(x,y, c = 'green', label = 'fit')\n",
    "plt.text(0.2,4.5, f'a = {round(a,2)}')\n",
    "plt.text(0.2,4, f'b = {round(b,2)}')"
   ]
  },
  {
   "cell_type": "code",
   "execution_count": 254,
   "id": "68c3d3d4-8abf-4942-ad62-19ad62acdf66",
   "metadata": {},
   "outputs": [],
   "source": [
    "hair_residuals = df.hair_length - (a * df.age + b)\n",
    "df[\"hair_residuals\"] = hair_residuals\n",
    "df.hair_residuals = hair_residuals"
   ]
  },
  {
   "cell_type": "code",
   "execution_count": 255,
   "id": "a9de999f-06eb-4a24-ba28-7241a90b7ff7",
   "metadata": {},
   "outputs": [
    {
     "data": {
      "text/plain": [
       "<matplotlib.legend.Legend at 0x7fbaf5a52c40>"
      ]
     },
     "execution_count": 255,
     "metadata": {},
     "output_type": "execute_result"
    },
    {
     "data": {
      "image/png": "[encoded data removed]",
      "text/plain": [
       "<Figure size 432x288 with 1 Axes>"
      ]
     },
     "metadata": {
      "needs_background": "light"
     },
     "output_type": "display_data"
    }
   ],
   "source": [
    "plt.scatter(df.breed[df.breed == 'WT'], df[\"hair_residuals\"][df.breed == 'WT'], c = 'blue', label = 'WT')\n",
    "plt.scatter(df.breed[df.breed == 'LHM'], df[\"hair_residuals\"][df.breed == 'LHM'], c = 'red', label = 'LHM')\n",
    "plt.xlabel(\"Mouse Breed\")\n",
    "plt.ylabel(\"Mouse Hair Residuals\")\n",
    "plt.legend()"
   ]
  },
  {
   "cell_type": "code",
   "execution_count": 256,
   "id": "7181dbee-950c-4ff0-af5b-6de325ae818e",
   "metadata": {},
   "outputs": [
    {
     "data": {
      "text/plain": [
       "<AxesSubplot:xlabel='hair_residuals', ylabel='Density'>"
      ]
     },
     "execution_count": 256,
     "metadata": {},
     "output_type": "execute_result"
    },
    {
     "data": {
      "image/png": "[encoded data removed]",
      "text/plain": [
       "<Figure size 432x288 with 1 Axes>"
      ]
     },
     "metadata": {
      "needs_background": "light"
     },
     "output_type": "display_data"
    }
   ],
   "source": [
    "sns.histplot(data = df, x = 'hair_residuals', hue = 'breed', \n",
    "             fill=True, stat=\"density\", common_norm=False, kde=True, palette=['blue', 'red'])"
   ]
  },
  {
   "cell_type": "markdown",
   "id": "b0bb0d3d-aed8-4873-9f85-2262413c9d20",
   "metadata": {},
   "source": [
    "Fitting to one of the age groups as a frame of reference shows us that indeed when we remove the effects of age, the LHM have 2x the amount of hair as the WT mice. Let us re-do the statistical test on this new point of view and see if there is a statistically significant result."
   ]
  },
  {
   "cell_type": "code",
   "execution_count": 257,
   "id": "3f2885d8-264e-4f21-ae88-5a85cd2e9c28",
   "metadata": {},
   "outputs": [
    {
     "data": {
      "text/plain": [
       "Ttest_indResult(statistic=-52.511863367362594, pvalue=4.417577721245282e-37)"
      ]
     },
     "execution_count": 257,
     "metadata": {},
     "output_type": "execute_result"
    }
   ],
   "source": [
    "ttest(df[\"hair_residuals\"][df.breed == 'WT'], df[\"hair_residuals\"][df.breed == 'LHM'])"
   ]
  },
  {
   "cell_type": "markdown",
   "id": "ac418041-a3dc-4fd5-8df5-0801afc9778c",
   "metadata": {},
   "source": [
    "### Conclusion\n",
    "When we have two sets of data, we want to make our samples as similar to each other as possible. Obviously we cannot account for all variation, but if we know some differences will exist we should take them into account and statistically deal with them. With this regression technique, we effectively removed the confounding effect of age and the result we get seems readily interpretable.\n",
    "\n",
    "My interpretation is that LHM have about 2 hair units above the expected hair of a WT mouse of the same age. This regressing out technique didn't give me information on rates of hair growth (the line fit did, but I'm not really directly absorbing that info). It is however directly telling me that a LHM will have.\n",
    "\n",
    "### Feedback\n",
    "1. Farshad says that people generally don't make a reference group to fit on, they fit on the whole data and that is supposed to work. My data doesn't act that way though and fitting on all the data not just a reference group produces garbage. Need to figure out how cases like mine are handled. I need to revisit [Children smoking dataset 2.11 Confounding: Statistically Checking And Adjusting For It In R](https://www.youtube.com/watch?v=f_i6NPUA8wM) on youtube."
   ]
  },
  {
   "cell_type": "markdown",
   "id": "14fd90a4-2af3-4510-9e59-8ce92298cf45",
   "metadata": {},
   "source": [
    "# Making my toy_mouse_example.csv"
   ]
  },
  {
   "cell_type": "code",
   "execution_count": 129,
   "id": "6cbf4b76-b0d5-42a7-8dd1-490d43e49aaf",
   "metadata": {},
   "outputs": [],
   "source": [
    "# Age vs Hair length plots\n",
    "def hair_length(age, rate_of_growth):\n",
    "    return(age * rate_of_growth)"
   ]
  },
  {
   "cell_type": "code",
   "execution_count": 133,
   "id": "33a22985-0bdf-4714-b9a3-1cbcfb373961",
   "metadata": {},
   "outputs": [],
   "source": [
    "ages_WT = np.random.normal(loc=2, scale = 0.1, size = 20)\n",
    "ages_LHM = np.random.normal(loc=1, scale = 0.05, size = 20)\n",
    "hair_length_WT_wiggle = np.random.normal(loc=0, scale = 0.1, size = 20)\n",
    "hair_length_WT = np.apply_along_axis(hair_length, axis = 0, arr = ages_WT, rate_of_growth = 2) + hair_length_WT_wiggle\n",
    "hair_length_LHM_wiggle = np.random.normal(loc=0, scale = 0.1, size = 20)\n",
    "hair_length_LHM = np.apply_along_axis(hair_length, axis = 0, arr = ages_LHM, rate_of_growth = 4) + hair_length_LHM_wiggle"
   ]
  },
  {
   "cell_type": "code",
   "execution_count": 238,
   "id": "1f23e23f-aeb4-48d1-81d7-a6cf51efe4d3",
   "metadata": {},
   "outputs": [
    {
     "data": {
      "text/plain": [
       "<matplotlib.legend.Legend at 0x7fbaf5cee250>"
      ]
     },
     "execution_count": 238,
     "metadata": {},
     "output_type": "execute_result"
    },
    {
     "data": {
      "image/png": "[encoded data removed]",
      "text/plain": [
       "<Figure size 432x288 with 1 Axes>"
      ]
     },
     "metadata": {
      "needs_background": "light"
     },
     "output_type": "display_data"
    }
   ],
   "source": [
    "plt.plot(ages_WT, hair_length_WT, c = 'blue', marker = '.', linewidth = 0, label = 'WT')\n",
    "plt.plot(ages_LHM, hair_length_LHM, c = 'red', marker = '.', linewidth = 0, label = 'LHM')\n",
    "plt.xlabel(\"Mouse Age\")\n",
    "plt.ylabel(\"Mouse Hair Length\")\n",
    "plt.legend()"
   ]
  },
  {
   "cell_type": "code",
   "execution_count": 135,
   "id": "e3788d89-787f-4875-b07c-918911388019",
   "metadata": {},
   "outputs": [],
   "source": [
    "df = pd.DataFrame({'age': np.concatenate([ages_WT,ages_LHM]), 'hair_length': np.concatenate([hair_length_WT,hair_length_LHM]), 'breed': ['WT']*20 + ['LHM']*20})"
   ]
  },
  {
   "cell_type": "code",
   "execution_count": 136,
   "id": "3c9f9ae8-2534-4368-8273-a0e62b719e90",
   "metadata": {},
   "outputs": [],
   "source": [
    "# df.to_csv(\"toy_mouse_example.csv\", index=False)"
   ]
  }
 ],
 "metadata": {
  "kernelspec": {
   "display_name": "Python 3.9.12 (stats)",
   "language": "python",
   "name": "stats"
  },
  "language_info": {
   "codemirror_mode": {
    "name": "ipython",
    "version": 3
   },
   "file_extension": ".py",
   "mimetype": "text/x-python",
   "name": "python",
   "nbconvert_exporter": "python",
   "pygments_lexer": "ipython3",
   "version": "3.9.12"
  }
 },
 "nbformat": 4,
 "nbformat_minor": 5
}
