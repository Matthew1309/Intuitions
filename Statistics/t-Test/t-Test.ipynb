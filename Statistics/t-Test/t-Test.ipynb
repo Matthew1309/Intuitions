{
 "cells": [
  {
   "cell_type": "markdown",
   "id": "99ef4b5c-f3a4-46be-9904-e13405ccaee8",
   "metadata": {},
   "source": [
    "# Prologue\n",
    "Made with help of https://www.datanovia.com/en/blog/how-to-perform-multiple-t-test-in-r-for-different-variables/ with inline running of code like in Rstudio using ```CTRL+SHIFT+ENTER``` enabled by https://stackoverflow.com/questions/56460834/how-to-run-a-single-line-or-selected-code-in-a-jupyter-notebook-or-jupyterlab-ce\n",
    "\n",
    "# Demo of basic stats\n",
    "In this tutorial I will be teaching you how to apply the **Two sample t-test** to a real life dataset I ran into at work. The purpose of this statistical technique is to compare means between two groups. The assumptions are that your data is normally distributed, the values are continous not cateogrial, and the variance is roughly equal.\n",
    "\n",
    "The golden question we are trying to answer during this tutorial will be\n",
    "> Are the cells proportions in Control mice or Treatment mice significantly different?\n",
    "\n",
    "### Here are just some necessary packages"
   ]
  },
  {
   "cell_type": "code",
   "execution_count": 1,
   "id": "71cc5e57-448f-429b-836b-0af49dfa7263",
   "metadata": {
    "collapsed": true,
    "jupyter": {
     "outputs_hidden": true
    },
    "tags": []
   },
   "outputs": [
    {
     "name": "stderr",
     "output_type": "stream",
     "text": [
      "\n",
      "Attaching package: ‘rstatix’\n",
      "\n",
      "The following object is masked from ‘package:stats’:\n",
      "\n",
      "    filter\n",
      "\n",
      "Loading required package: ggplot2\n",
      "\n",
      "Attaching package: ‘plyr’\n",
      "\n",
      "The following object is masked from ‘package:ggpubr’:\n",
      "\n",
      "    mutate\n",
      "\n",
      "The following objects are masked from ‘package:rstatix’:\n",
      "\n",
      "    desc, mutate\n",
      "\n",
      "\n",
      "Attaching package: ‘dplyr’\n",
      "\n",
      "The following objects are masked from ‘package:plyr’:\n",
      "\n",
      "    arrange, count, desc, failwith, id, mutate, rename, summarise,\n",
      "    summarize\n",
      "\n",
      "The following objects are masked from ‘package:stats’:\n",
      "\n",
      "    filter, lag\n",
      "\n",
      "The following objects are masked from ‘package:base’:\n",
      "\n",
      "    intersect, setdiff, setequal, union\n",
      "\n",
      "\n",
      "Attaching package: ‘cowplot’\n",
      "\n",
      "The following object is masked from ‘package:ggpubr’:\n",
      "\n",
      "    get_legend\n",
      "\n",
      "\n",
      "Attaching package: ‘reshape2’\n",
      "\n",
      "The following object is masked from ‘package:tidyr’:\n",
      "\n",
      "    smiths\n",
      "\n"
     ]
    },
    {
     "ename": "ERROR",
     "evalue": "Error in library(patchwork): there is no package called ‘patchwork’\n",
     "output_type": "error",
     "traceback": [
      "Error in library(patchwork): there is no package called ‘patchwork’\nTraceback:\n",
      "1. library(patchwork)"
     ]
    }
   ],
   "source": [
    "library(rstatix)\n",
    "library(ggpubr)\n",
    "library(pals)\n",
    "library(tidyr)\n",
    "library(plyr)\n",
    "library(dplyr)\n",
    "library(openxlsx)\n",
    "library(cowplot)\n",
    "library(reshape2)\n",
    "library(patchwork)\n",
    "library(ggplot2)\n",
    "library(Matrix)"
   ]
  },
  {
   "cell_type": "markdown",
   "id": "7385f64d-dd07-4fd4-bb3a-338bf1d7d043",
   "metadata": {},
   "source": [
    "### Step 1 read in the data"
   ]
  },
  {
   "cell_type": "code",
   "execution_count": 29,
   "id": "448175ce-8c97-4651-a6f6-6f4676e2c588",
   "metadata": {
    "tags": []
   },
   "outputs": [
    {
     "name": "stdout",
     "output_type": "stream",
     "text": [
      "[1] \"The data looks like this. The important columns are CM, EC, PC.SMC, FB, Epi, and BC. They stand for our celltypes like CM=cardiomyocytes (heart muscle cells)\"\n"
     ]
    },
    {
     "data": {
      "text/html": [
       "<table>\n",
       "<thead><tr><th scope=col>Mixture</th><th scope=col>CM</th><th scope=col>EC</th><th scope=col>PC.SMC</th><th scope=col>FB</th><th scope=col>Epi</th><th scope=col>BC</th><th scope=col>P.value</th><th scope=col>Correlation</th><th scope=col>RMSE</th><th scope=col>Absolute.score..sig.score.</th><th scope=col>ID</th></tr></thead>\n",
       "<tbody>\n",
       "\t<tr><td>Trimmed_2504_S4</td><td>452.7622       </td><td>121.1442       </td><td>22.84093       </td><td> 48.68887      </td><td> 69.33015      </td><td>38.58329       </td><td>0              </td><td>0.8691461      </td><td>0.4955567      </td><td> 753.3496      </td><td>V2504          </td></tr>\n",
       "\t<tr><td>Trimmed_2507_S5</td><td>300.9424       </td><td>188.0735       </td><td>25.28128       </td><td> 58.73485      </td><td> 66.03680      </td><td>38.39605       </td><td>0              </td><td>0.8569723      </td><td>0.5185446      </td><td> 677.4649      </td><td>V2507          </td></tr>\n",
       "\t<tr><td>Trimmed_2508_S6</td><td>729.0330       </td><td>201.0742       </td><td>38.22115       </td><td>120.52627      </td><td>101.53954      </td><td>53.55776       </td><td>0              </td><td>0.8518270      </td><td>0.5246397      </td><td>1243.9519      </td><td>V2508          </td></tr>\n",
       "\t<tr><td>Trimmed_2509_S7</td><td>347.4602       </td><td>217.7420       </td><td>27.27930       </td><td> 65.13272      </td><td> 68.63991      </td><td>37.77995       </td><td>0              </td><td>0.8579870      </td><td>0.5164089      </td><td> 764.0341      </td><td>V2509          </td></tr>\n",
       "\t<tr><td>Trimmed_2510_S8</td><td>314.8530       </td><td>204.0644       </td><td>44.52279       </td><td> 58.24048      </td><td> 62.22223      </td><td>33.48388       </td><td>0              </td><td>0.8447885      </td><td>0.5371849      </td><td> 717.3868      </td><td>V2510          </td></tr>\n",
       "</tbody>\n",
       "</table>\n"
      ],
      "text/latex": [
       "\\begin{tabular}{r|llllllllllll}\n",
       " Mixture & CM & EC & PC.SMC & FB & Epi & BC & P.value & Correlation & RMSE & Absolute.score..sig.score. & ID\\\\\n",
       "\\hline\n",
       "\t Trimmed\\_2504\\_S4 & 452.7622            & 121.1442            & 22.84093            &  48.68887           &  69.33015           & 38.58329            & 0                   & 0.8691461           & 0.4955567           &  753.3496           & V2504              \\\\\n",
       "\t Trimmed\\_2507\\_S5 & 300.9424            & 188.0735            & 25.28128            &  58.73485           &  66.03680           & 38.39605            & 0                   & 0.8569723           & 0.5185446           &  677.4649           & V2507              \\\\\n",
       "\t Trimmed\\_2508\\_S6 & 729.0330            & 201.0742            & 38.22115            & 120.52627           & 101.53954           & 53.55776            & 0                   & 0.8518270           & 0.5246397           & 1243.9519           & V2508              \\\\\n",
       "\t Trimmed\\_2509\\_S7 & 347.4602            & 217.7420            & 27.27930            &  65.13272           &  68.63991           & 37.77995            & 0                   & 0.8579870           & 0.5164089           &  764.0341           & V2509              \\\\\n",
       "\t Trimmed\\_2510\\_S8 & 314.8530            & 204.0644            & 44.52279            &  58.24048           &  62.22223           & 33.48388            & 0                   & 0.8447885           & 0.5371849           &  717.3868           & V2510              \\\\\n",
       "\\end{tabular}\n"
      ],
      "text/markdown": [
       "\n",
       "| Mixture | CM | EC | PC.SMC | FB | Epi | BC | P.value | Correlation | RMSE | Absolute.score..sig.score. | ID |\n",
       "|---|---|---|---|---|---|---|---|---|---|---|---|\n",
       "| Trimmed_2504_S4 | 452.7622        | 121.1442        | 22.84093        |  48.68887       |  69.33015       | 38.58329        | 0               | 0.8691461       | 0.4955567       |  753.3496       | V2504           |\n",
       "| Trimmed_2507_S5 | 300.9424        | 188.0735        | 25.28128        |  58.73485       |  66.03680       | 38.39605        | 0               | 0.8569723       | 0.5185446       |  677.4649       | V2507           |\n",
       "| Trimmed_2508_S6 | 729.0330        | 201.0742        | 38.22115        | 120.52627       | 101.53954       | 53.55776        | 0               | 0.8518270       | 0.5246397       | 1243.9519       | V2508           |\n",
       "| Trimmed_2509_S7 | 347.4602        | 217.7420        | 27.27930        |  65.13272       |  68.63991       | 37.77995        | 0               | 0.8579870       | 0.5164089       |  764.0341       | V2509           |\n",
       "| Trimmed_2510_S8 | 314.8530        | 204.0644        | 44.52279        |  58.24048       |  62.22223       | 33.48388        | 0               | 0.8447885       | 0.5371849       |  717.3868       | V2510           |\n",
       "\n"
      ],
      "text/plain": [
       "  Mixture         CM       EC       PC.SMC   FB        Epi       BC      \n",
       "1 Trimmed_2504_S4 452.7622 121.1442 22.84093  48.68887  69.33015 38.58329\n",
       "2 Trimmed_2507_S5 300.9424 188.0735 25.28128  58.73485  66.03680 38.39605\n",
       "3 Trimmed_2508_S6 729.0330 201.0742 38.22115 120.52627 101.53954 53.55776\n",
       "4 Trimmed_2509_S7 347.4602 217.7420 27.27930  65.13272  68.63991 37.77995\n",
       "5 Trimmed_2510_S8 314.8530 204.0644 44.52279  58.24048  62.22223 33.48388\n",
       "  P.value Correlation RMSE      Absolute.score..sig.score. ID   \n",
       "1 0       0.8691461   0.4955567  753.3496                  V2504\n",
       "2 0       0.8569723   0.5185446  677.4649                  V2507\n",
       "3 0       0.8518270   0.5246397 1243.9519                  V2508\n",
       "4 0       0.8579870   0.5164089  764.0341                  V2509\n",
       "5 0       0.8447885   0.5371849  717.3868                  V2510"
      ]
     },
     "metadata": {},
     "output_type": "display_data"
    }
   ],
   "source": [
    "# Here we set the path for saving figures we make\n",
    "path.peng.cibersort <- paste0(\"./figures\")\n",
    "\n",
    "# Now we read in the results of running Cibersortx on \n",
    "# some bulk RNASeq data. The ID column is locked inside\n",
    "# of csx$Mixture, so we need to split it out.\n",
    "\n",
    "# The shape of the data is experiment x cell.type.info\n",
    "csx <- read.table(file='./data/CIBERSORTx_Job16_Results.csv', sep=',', header=T)\n",
    "csx$ID <- sapply(strsplit(as.character(csx$Mixture), \"_\"), FUN=function(x) {paste0(\"V\",x[2])})\n",
    "\n",
    "print(\"The data looks like this. The important columns are CM, EC, PC.SMC, FB, Epi, and BC. They stand for our celltypes like CM=cardiomyocytes (heart muscle cells)\")\n",
    "csx[1:5,]"
   ]
  },
  {
   "cell_type": "code",
   "execution_count": 30,
   "id": "af6fd9d6-3b7b-4870-8bcc-8c6c8807563d",
   "metadata": {},
   "outputs": [
    {
     "name": "stdout",
     "output_type": "stream",
     "text": [
      "[1] \"Here is some extra meta data. The only important value we care to use here is exp.assay. \\nThat tells us whether this particular mouse was in the control group, or the other treatment groups. \\nOtherwise it is basically in the same shape as my other data\"\n"
     ]
    },
    {
     "data": {
      "text/html": [
       "<table>\n",
       "<thead><tr><th scope=col>exp.assay</th><th scope=col>ID</th><th scope=col>Nppb</th><th scope=col>Col3a1</th></tr></thead>\n",
       "<tbody>\n",
       "\t<tr><td>Control  </td><td>V2501    </td><td>1.2999340</td><td>0.9000799</td></tr>\n",
       "\t<tr><td>Control  </td><td>V2502    </td><td>0.7323207</td><td>0.5339927</td></tr>\n",
       "\t<tr><td>Control  </td><td>V2503    </td><td>1.3504726</td><td>1.7643171</td></tr>\n",
       "\t<tr><td>Control  </td><td>V2504    </td><td>0.7107017</td><td>1.1455777</td></tr>\n",
       "\t<tr><td>Control  </td><td>V2507    </td><td>1.3474831</td><td>0.8229885</td></tr>\n",
       "\t<tr><td>Control  </td><td>V2508    </td><td>1.0170109</td><td>0.7681348</td></tr>\n",
       "</tbody>\n",
       "</table>\n"
      ],
      "text/latex": [
       "\\begin{tabular}{r|llll}\n",
       " exp.assay & ID & Nppb & Col3a1\\\\\n",
       "\\hline\n",
       "\t Control   & V2501     & 1.2999340 & 0.9000799\\\\\n",
       "\t Control   & V2502     & 0.7323207 & 0.5339927\\\\\n",
       "\t Control   & V2503     & 1.3504726 & 1.7643171\\\\\n",
       "\t Control   & V2504     & 0.7107017 & 1.1455777\\\\\n",
       "\t Control   & V2507     & 1.3474831 & 0.8229885\\\\\n",
       "\t Control   & V2508     & 1.0170109 & 0.7681348\\\\\n",
       "\\end{tabular}\n"
      ],
      "text/markdown": [
       "\n",
       "| exp.assay | ID | Nppb | Col3a1 |\n",
       "|---|---|---|---|\n",
       "| Control   | V2501     | 1.2999340 | 0.9000799 |\n",
       "| Control   | V2502     | 0.7323207 | 0.5339927 |\n",
       "| Control   | V2503     | 1.3504726 | 1.7643171 |\n",
       "| Control   | V2504     | 0.7107017 | 1.1455777 |\n",
       "| Control   | V2507     | 1.3474831 | 0.8229885 |\n",
       "| Control   | V2508     | 1.0170109 | 0.7681348 |\n",
       "\n"
      ],
      "text/plain": [
       "  exp.assay ID    Nppb      Col3a1   \n",
       "1 Control   V2501 1.2999340 0.9000799\n",
       "2 Control   V2502 0.7323207 0.5339927\n",
       "3 Control   V2503 1.3504726 1.7643171\n",
       "4 Control   V2504 0.7107017 1.1455777\n",
       "5 Control   V2507 1.3474831 0.8229885\n",
       "6 Control   V2508 1.0170109 0.7681348"
      ]
     },
     "metadata": {},
     "output_type": "display_data"
    }
   ],
   "source": [
    "# Here is some meta data about the samples. \n",
    "# The most useful thing is information about\n",
    "# whether samples are control or treatment.\n",
    "# Shape of data: experiment x group.\n",
    "bulk.meta <- read.xlsx('./data/D21-09_RNA-Seq.xlsx', colNames = T)\n",
    "bulk.meta <- plyr::rename(bulk.meta, replace=c(\"X1\"=\"exp.assay\"))\n",
    "bulk.meta$`Heart.Bulk.RNA-seq` <- NULL\n",
    "\n",
    "print(\"Here is some extra meta data. The only important value we care to use here is exp.assay. \n",
    "That tells us whether this particular mouse was in the control group, or the other treatment groups. \n",
    "Otherwise it is basically in the same shape as my other data\")\n",
    "head(bulk.meta)"
   ]
  },
  {
   "cell_type": "code",
   "execution_count": 31,
   "id": "905600cb-48a4-468c-8007-ca57aac8cb49",
   "metadata": {},
   "outputs": [
    {
     "data": {
      "text/html": [
       "<table>\n",
       "<thead><tr><th></th><th scope=col>Mixture</th><th scope=col>CM</th><th scope=col>EC</th><th scope=col>PC.SMC</th><th scope=col>FB</th><th scope=col>Epi</th><th scope=col>BC</th><th scope=col>P.value</th><th scope=col>Correlation</th><th scope=col>RMSE</th><th scope=col>Absolute.score..sig.score.</th><th scope=col>ID</th><th scope=col>exp.assay</th><th scope=col>Nppb</th><th scope=col>Col3a1</th></tr></thead>\n",
       "<tbody>\n",
       "\t<tr><th scope=row>4</th><td>Trimmed_2504_S4</td><td>452.7622       </td><td>121.1442       </td><td>22.84093       </td><td> 48.68887      </td><td> 69.33015      </td><td>38.58329       </td><td>0              </td><td>0.8691461      </td><td>0.4955567      </td><td> 753.3496      </td><td>V2504          </td><td>Control        </td><td>0.7107017      </td><td>1.1455777      </td></tr>\n",
       "\t<tr><th scope=row>5</th><td>Trimmed_2507_S5</td><td>300.9424       </td><td>188.0735       </td><td>25.28128       </td><td> 58.73485      </td><td> 66.03680      </td><td>38.39605       </td><td>0              </td><td>0.8569723      </td><td>0.5185446      </td><td> 677.4649      </td><td>V2507          </td><td>Control        </td><td>1.3474831      </td><td>0.8229885      </td></tr>\n",
       "\t<tr><th scope=row>6</th><td>Trimmed_2508_S6</td><td>729.0330       </td><td>201.0742       </td><td>38.22115       </td><td>120.52627      </td><td>101.53954      </td><td>53.55776       </td><td>0              </td><td>0.8518270      </td><td>0.5246397      </td><td>1243.9519      </td><td>V2508          </td><td>Control        </td><td>1.0170109      </td><td>0.7681348      </td></tr>\n",
       "\t<tr><th scope=row>7</th><td>Trimmed_2509_S7</td><td>347.4602       </td><td>217.7420       </td><td>27.27930       </td><td> 65.13272      </td><td> 68.63991      </td><td>37.77995       </td><td>0              </td><td>0.8579870      </td><td>0.5164089      </td><td> 764.0341      </td><td>V2509          </td><td>Control        </td><td>0.9712424      </td><td>0.8443785      </td></tr>\n",
       "\t<tr><th scope=row>8</th><td>Trimmed_2510_S8</td><td>314.8530       </td><td>204.0644       </td><td>44.52279       </td><td> 58.24048      </td><td> 62.22223      </td><td>33.48388       </td><td>0              </td><td>0.8447885      </td><td>0.5371849      </td><td> 717.3868      </td><td>V2510          </td><td>Control        </td><td>0.6792275      </td><td>1.0274589      </td></tr>\n",
       "\t<tr><th scope=row>9</th><td>Trimmed_2521_S9</td><td>384.5597       </td><td>175.9966       </td><td>28.03115       </td><td>106.78729      </td><td> 71.00160      </td><td>45.49224       </td><td>0              </td><td>0.8677850      </td><td>0.5015445      </td><td> 811.8686      </td><td>V2521          </td><td>HFpEF-Veh      </td><td>1.6620137      </td><td>1.8744840      </td></tr>\n",
       "</tbody>\n",
       "</table>\n"
      ],
      "text/latex": [
       "\\begin{tabular}{r|lllllllllllllll}\n",
       "  & Mixture & CM & EC & PC.SMC & FB & Epi & BC & P.value & Correlation & RMSE & Absolute.score..sig.score. & ID & exp.assay & Nppb & Col3a1\\\\\n",
       "\\hline\n",
       "\t4 & Trimmed\\_2504\\_S4 & 452.7622            & 121.1442            & 22.84093            &  48.68887           &  69.33015           & 38.58329            & 0                   & 0.8691461           & 0.4955567           &  753.3496           & V2504               & Control             & 0.7107017           & 1.1455777          \\\\\n",
       "\t5 & Trimmed\\_2507\\_S5 & 300.9424            & 188.0735            & 25.28128            &  58.73485           &  66.03680           & 38.39605            & 0                   & 0.8569723           & 0.5185446           &  677.4649           & V2507               & Control             & 1.3474831           & 0.8229885          \\\\\n",
       "\t6 & Trimmed\\_2508\\_S6 & 729.0330            & 201.0742            & 38.22115            & 120.52627           & 101.53954           & 53.55776            & 0                   & 0.8518270           & 0.5246397           & 1243.9519           & V2508               & Control             & 1.0170109           & 0.7681348          \\\\\n",
       "\t7 & Trimmed\\_2509\\_S7 & 347.4602            & 217.7420            & 27.27930            &  65.13272           &  68.63991           & 37.77995            & 0                   & 0.8579870           & 0.5164089           &  764.0341           & V2509               & Control             & 0.9712424           & 0.8443785          \\\\\n",
       "\t8 & Trimmed\\_2510\\_S8 & 314.8530            & 204.0644            & 44.52279            &  58.24048           &  62.22223           & 33.48388            & 0                   & 0.8447885           & 0.5371849           &  717.3868           & V2510               & Control             & 0.6792275           & 1.0274589          \\\\\n",
       "\t9 & Trimmed\\_2521\\_S9 & 384.5597            & 175.9966            & 28.03115            & 106.78729           &  71.00160           & 45.49224            & 0                   & 0.8677850           & 0.5015445           &  811.8686           & V2521               & HFpEF-Veh           & 1.6620137           & 1.8744840          \\\\\n",
       "\\end{tabular}\n"
      ],
      "text/markdown": [
       "\n",
       "| <!--/--> | Mixture | CM | EC | PC.SMC | FB | Epi | BC | P.value | Correlation | RMSE | Absolute.score..sig.score. | ID | exp.assay | Nppb | Col3a1 |\n",
       "|---|---|---|---|---|---|---|---|---|---|---|---|---|---|---|---|\n",
       "| 4 | Trimmed_2504_S4 | 452.7622        | 121.1442        | 22.84093        |  48.68887       |  69.33015       | 38.58329        | 0               | 0.8691461       | 0.4955567       |  753.3496       | V2504           | Control         | 0.7107017       | 1.1455777       |\n",
       "| 5 | Trimmed_2507_S5 | 300.9424        | 188.0735        | 25.28128        |  58.73485       |  66.03680       | 38.39605        | 0               | 0.8569723       | 0.5185446       |  677.4649       | V2507           | Control         | 1.3474831       | 0.8229885       |\n",
       "| 6 | Trimmed_2508_S6 | 729.0330        | 201.0742        | 38.22115        | 120.52627       | 101.53954       | 53.55776        | 0               | 0.8518270       | 0.5246397       | 1243.9519       | V2508           | Control         | 1.0170109       | 0.7681348       |\n",
       "| 7 | Trimmed_2509_S7 | 347.4602        | 217.7420        | 27.27930        |  65.13272       |  68.63991       | 37.77995        | 0               | 0.8579870       | 0.5164089       |  764.0341       | V2509           | Control         | 0.9712424       | 0.8443785       |\n",
       "| 8 | Trimmed_2510_S8 | 314.8530        | 204.0644        | 44.52279        |  58.24048       |  62.22223       | 33.48388        | 0               | 0.8447885       | 0.5371849       |  717.3868       | V2510           | Control         | 0.6792275       | 1.0274589       |\n",
       "| 9 | Trimmed_2521_S9 | 384.5597        | 175.9966        | 28.03115        | 106.78729       |  71.00160       | 45.49224        | 0               | 0.8677850       | 0.5015445       |  811.8686       | V2521           | HFpEF-Veh       | 1.6620137       | 1.8744840       |\n",
       "\n"
      ],
      "text/plain": [
       "  Mixture         CM       EC       PC.SMC   FB        Epi       BC      \n",
       "4 Trimmed_2504_S4 452.7622 121.1442 22.84093  48.68887  69.33015 38.58329\n",
       "5 Trimmed_2507_S5 300.9424 188.0735 25.28128  58.73485  66.03680 38.39605\n",
       "6 Trimmed_2508_S6 729.0330 201.0742 38.22115 120.52627 101.53954 53.55776\n",
       "7 Trimmed_2509_S7 347.4602 217.7420 27.27930  65.13272  68.63991 37.77995\n",
       "8 Trimmed_2510_S8 314.8530 204.0644 44.52279  58.24048  62.22223 33.48388\n",
       "9 Trimmed_2521_S9 384.5597 175.9966 28.03115 106.78729  71.00160 45.49224\n",
       "  P.value Correlation RMSE      Absolute.score..sig.score. ID    exp.assay\n",
       "4 0       0.8691461   0.4955567  753.3496                  V2504 Control  \n",
       "5 0       0.8569723   0.5185446  677.4649                  V2507 Control  \n",
       "6 0       0.8518270   0.5246397 1243.9519                  V2508 Control  \n",
       "7 0       0.8579870   0.5164089  764.0341                  V2509 Control  \n",
       "8 0       0.8447885   0.5371849  717.3868                  V2510 Control  \n",
       "9 0       0.8677850   0.5015445  811.8686                  V2521 HFpEF-Veh\n",
       "  Nppb      Col3a1   \n",
       "4 0.7107017 1.1455777\n",
       "5 1.3474831 0.8229885\n",
       "6 1.0170109 0.7681348\n",
       "7 0.9712424 0.8443785\n",
       "8 0.6792275 1.0274589\n",
       "9 1.6620137 1.8744840"
      ]
     },
     "metadata": {},
     "output_type": "display_data"
    }
   ],
   "source": [
    "# We have two columns called ID that match in my two\n",
    "# dataframes. Lets use that to merge the two into one.\n",
    "# This is the block of code that will help us do thatbulk.meta[match(csx[,'ID'], bulk.meta[,\"ID\"]),]\n",
    "\n",
    "# Final cibersort object with meta data attached.\n",
    "csx <- cbind(csx, bulk.meta[match(csx[,'ID'], bulk.meta[,\"ID\"]),c('exp.assay', \"Nppb\", \"Col3a1\")])\n",
    "head(csx)"
   ]
  },
  {
   "cell_type": "markdown",
   "id": "dd5f118b-fc9e-427e-afdc-2e7a9fff05c4",
   "metadata": {},
   "source": [
    "We have read in the data and polished our data. We now have 1 dataframe\n",
    "with the shape of </br>```experiment x categories```\n",
    "\n",
    "### Plotting the data\n",
    "My data currently has 3 categorical pieces of information. First it has an experimental name denoting what mouse this is coming from. Additionally each mouse was assigned to a condition/group **HFpEF-veh, Control-veh, HFpEF-TYA018, and HFpEF-SGLT2i**. Lastly for each experiment (mouse), we have broken up the sample into celltypes.\n",
    "\n",
    "Thus the values we will be comparing are the proportions of celltypes between conditions, and each experimental mouse is a replicate---a sample from a population."
   ]
  },
  {
   "cell_type": "code",
   "execution_count": 35,
   "id": "50a02b5f-b1ab-48b9-81ff-8d1fc79ed431",
   "metadata": {
    "tags": []
   },
   "outputs": [
    {
     "name": "stdout",
     "output_type": "stream",
     "text": [
      "[1] \"ID column is the 'name' of the mouse. Exp.assay column is the experimental\\ncondition the mouse is subject to. The cell.type column contains what celltype \\nwe are refering to coming from this particular mouse, and abundance is the amount\\nof that celltype measured.\"\n",
      "[1] \"\"\n",
      "     ID exp.assay cell.type    abund\n",
      "1 V2504   Control        CM 452.7622\n",
      "2 V2507   Control        CM 300.9424\n",
      "3 V2508   Control        CM 729.0330\n",
      "4 V2509   Control        CM 347.4602\n",
      "5 V2510   Control        CM 314.8530\n",
      "6 V2521 HFpEF-Veh        CM 384.5597\n"
     ]
    }
   ],
   "source": [
    "# Currently the data is in \"wide\" format. We need to gather it into\n",
    "# \"long\" format, which R makes easy for us. https://www.statology.org/long-vs-wide-data/#:~:text=A%20dataset%20can%20be%20written,repeat%20in%20the%20first%20column.&text=Notice%20that%20in%20the%20wide,the%20first%20column%20is%20unique.\n",
    "# This piece of code smooshes the columns CM, EC, PC.SMC, FB, Epi, and BC into one\n",
    "# column named cell.type, and puts the values into a column called abund.\n",
    "data.ciber <- gather(csx, cell.type, abund, CM:BC, factor_key=TRUE)\n",
    "print(\"ID column is the 'name' of the mouse. Exp.assay column is the experimental\n",
    "condition the mouse is subject to. The cell.type column contains what celltype \n",
    "we are refering to coming from this particular mouse, and abundance is the amount\n",
    "of that celltype measured.\")\n",
    "print(\"\")\n",
    "print(head(data.ciber[,c(\"ID\", \"exp.assay\", \"cell.type\", \"abund\")]))"
   ]
  },
  {
   "cell_type": "code",
   "execution_count": 38,
   "id": "47175f8a-0d36-481a-a51f-5d8fe3dad494",
   "metadata": {},
   "outputs": [
    {
     "name": "stdout",
     "output_type": "stream",
     "text": [
      "[1] \"Colors are in hexadecimal\"\n",
      "#0000FF #FF0000 #00FF00 #000033 #FF00B6 #005300 \n",
      "     CM      EC  PC.SMC      FB     Epi      BC \n",
      "Levels: CM EC PC.SMC FB Epi BC\n"
     ]
    }
   ],
   "source": [
    "# We define a color palette, in this case\n",
    "# I like glasbey.\n",
    "palette.ciber <- unique(data.ciber$cell.type)\n",
    "names(palette.ciber) <- glasbey(length(unique(data.ciber$cell.type)))\n",
    "\n",
    "print(\"Colors are in hexadecimal\")\n",
    "print(palette.ciber)"
   ]
  },
  {
   "cell_type": "code",
   "execution_count": 42,
   "id": "081ed3df-aa15-49e4-b595-60076666bdba",
   "metadata": {},
   "outputs": [
    {
     "name": "stdout",
     "output_type": "stream",
     "text": [
      "[1] \"As we can see, a new percent column is added.\"\n"
     ]
    },
    {
     "data": {
      "text/html": [
       "<table>\n",
       "<thead><tr><th scope=col>ID</th><th scope=col>exp.assay</th><th scope=col>cell.type</th><th scope=col>abund</th><th scope=col>percent</th></tr></thead>\n",
       "<tbody>\n",
       "\t<tr><td>V2504    </td><td>Control  </td><td>CM       </td><td>452.7622 </td><td>60.09988 </td></tr>\n",
       "\t<tr><td>V2507    </td><td>Control  </td><td>CM       </td><td>300.9424 </td><td>44.42185 </td></tr>\n",
       "\t<tr><td>V2508    </td><td>Control  </td><td>CM       </td><td>729.0330 </td><td>58.60620 </td></tr>\n",
       "\t<tr><td>V2509    </td><td>Control  </td><td>CM       </td><td>347.4602 </td><td>45.47705 </td></tr>\n",
       "\t<tr><td>V2510    </td><td>Control  </td><td>CM       </td><td>314.8530 </td><td>43.88887 </td></tr>\n",
       "\t<tr><td>V2521    </td><td>HFpEF-Veh</td><td>CM       </td><td>384.5597 </td><td>47.36724 </td></tr>\n",
       "</tbody>\n",
       "</table>\n"
      ],
      "text/latex": [
       "\\begin{tabular}{r|lllll}\n",
       " ID & exp.assay & cell.type & abund & percent\\\\\n",
       "\\hline\n",
       "\t V2504     & Control   & CM        & 452.7622  & 60.09988 \\\\\n",
       "\t V2507     & Control   & CM        & 300.9424  & 44.42185 \\\\\n",
       "\t V2508     & Control   & CM        & 729.0330  & 58.60620 \\\\\n",
       "\t V2509     & Control   & CM        & 347.4602  & 45.47705 \\\\\n",
       "\t V2510     & Control   & CM        & 314.8530  & 43.88887 \\\\\n",
       "\t V2521     & HFpEF-Veh & CM        & 384.5597  & 47.36724 \\\\\n",
       "\\end{tabular}\n"
      ],
      "text/markdown": [
       "\n",
       "| ID | exp.assay | cell.type | abund | percent |\n",
       "|---|---|---|---|---|\n",
       "| V2504     | Control   | CM        | 452.7622  | 60.09988  |\n",
       "| V2507     | Control   | CM        | 300.9424  | 44.42185  |\n",
       "| V2508     | Control   | CM        | 729.0330  | 58.60620  |\n",
       "| V2509     | Control   | CM        | 347.4602  | 45.47705  |\n",
       "| V2510     | Control   | CM        | 314.8530  | 43.88887  |\n",
       "| V2521     | HFpEF-Veh | CM        | 384.5597  | 47.36724  |\n",
       "\n"
      ],
      "text/plain": [
       "  ID    exp.assay cell.type abund    percent \n",
       "1 V2504 Control   CM        452.7622 60.09988\n",
       "2 V2507 Control   CM        300.9424 44.42185\n",
       "3 V2508 Control   CM        729.0330 58.60620\n",
       "4 V2509 Control   CM        347.4602 45.47705\n",
       "5 V2510 Control   CM        314.8530 43.88887\n",
       "6 V2521 HFpEF-Veh CM        384.5597 47.36724"
      ]
     },
     "metadata": {},
     "output_type": "display_data"
    }
   ],
   "source": [
    "# We need one last bit of data formatting. The absolute number \n",
    "# Cibersortx by default gives us isn't super useful. A percentage\n",
    "# would be much more useful. Here we calculate it, and add it to \n",
    "# our dataframe.\n",
    "data.ciber <- data.ciber %>% dplyr::group_by(Mixture) %>% dplyr::mutate(percent = prop.table(abund) * 100) %>% ungroup() \n",
    "\n",
    "print(\"As we can see, a new percent column is added.\")\n",
    "head(data.ciber[,c(\"ID\", \"exp.assay\", \"cell.type\", \"abund\", \"percent\")])"
   ]
  },
  {
   "cell_type": "code",
   "execution_count": 56,
   "id": "445bbba2-ff33-401b-b864-f892b5bc9c4c",
   "metadata": {},
   "outputs": [
    {
     "data": {
      "image/png": "[encoded data removed]",
      "text/plain": [
       "plot without title"
      ]
     },
     "metadata": {},
     "output_type": "display_data"
    }
   ],
   "source": [
    "# Finally lets plot the data.\n",
    "# X-axis = experiment\n",
    "# y-axis = cell.type\n",
    "# values = percents\n",
    "# stat=\"identity\" lets this be a stacked proportion barchart\n",
    "# facet_grid lets us group an additional time by condtion/group\n",
    "options(repr.plot.width=12, repr.plot.height=3)\n",
    "plot.cibersort <- ggplot(data.ciber, aes(fill=cell.type, x=ID, y=percent)) + \n",
    "  geom_bar(position=\"fill\",stat='identity') + theme_bw() +\n",
    "  scale_fill_manual(values = names(palette.ciber)) + \n",
    "  #geom_text(aes(label = round(percent, 3)),\n",
    "   #         colour='#FFFFFF', size = 4, angle = 90,\n",
    "    #        position = position_fill(vjust = 0.5)) +\n",
    "  facet_grid(~exp.assay, scales=\"free_x\") +\n",
    "  theme(axis.text.x = element_text(angle = 40, vjust = 1, hjust=1, lineheight = 0.75, size = 11),\n",
    "        axis.text.y = element_text(family = \"Arial\", size = 10, face = \"plain\", color = \"black\"),\n",
    "        plot.title = element_text(hjust = 0.5),\n",
    "        legend.text = element_text(family = \"Arial\", size = 12, face = \"plain\", color = \"black\"),\n",
    "        panel.grid.major = element_blank(), panel.grid.minor = element_blank());plot.cibersort\n",
    "\n",
    "ggsave(\"Peng_bulk_deconv_meta.png\",plot = plot.cibersort,\n",
    "       path = path.peng.cibersort, width = 13, height = 9, \n",
    "       units = 'in', )"
   ]
  },
  {
   "cell_type": "markdown",
   "id": "1809e01b-e8cc-472f-8820-39d2d5d4d35c",
   "metadata": {},
   "source": [
    "As we can see, the cell population \"CM\" seems to be the highest proportion, but now we can start answering interesting questions\n",
    "* Do the proportions of **CMs** significantly differ between HFpEF and Control groups?\n",
    "and more generally\n",
    "* Do the proportions of **celltypes** significantly differ between HFpEF and Control groups?\n",
    "\n",
    "To help us solve this, we will need to perform a **Two sample t-Test** or a **Two sample wilcoxon test**.\n",
    "Lets start by doing it one time by hand\n",
    "\n",
    "# Performing a Two sample t-Test by hand on CMs"
   ]
  },
  {
   "cell_type": "code",
   "execution_count": 45,
   "id": "6dccde67-9e91-43aa-8560-6f68c52cf538",
   "metadata": {},
   "outputs": [
    {
     "data": {
      "text/html": [
       "<table>\n",
       "<thead><tr><th scope=col>ID</th><th scope=col>cell.type</th><th scope=col>abund</th><th scope=col>percent</th><th scope=col>exp.assay</th></tr></thead>\n",
       "<tbody>\n",
       "\t<tr><td>V2504    </td><td>CM       </td><td>452.7622 </td><td>60.09988 </td><td>Control  </td></tr>\n",
       "\t<tr><td>V2507    </td><td>CM       </td><td>300.9424 </td><td>44.42185 </td><td>Control  </td></tr>\n",
       "\t<tr><td>V2508    </td><td>CM       </td><td>729.0330 </td><td>58.60620 </td><td>Control  </td></tr>\n",
       "\t<tr><td>V2509    </td><td>CM       </td><td>347.4602 </td><td>45.47705 </td><td>Control  </td></tr>\n",
       "\t<tr><td>V2510    </td><td>CM       </td><td>314.8530 </td><td>43.88887 </td><td>Control  </td></tr>\n",
       "\t<tr><td>V2521    </td><td>CM       </td><td>384.5597 </td><td>47.36724 </td><td>HFpEF-Veh</td></tr>\n",
       "</tbody>\n",
       "</table>\n"
      ],
      "text/latex": [
       "\\begin{tabular}{r|lllll}\n",
       " ID & cell.type & abund & percent & exp.assay\\\\\n",
       "\\hline\n",
       "\t V2504     & CM        & 452.7622  & 60.09988  & Control  \\\\\n",
       "\t V2507     & CM        & 300.9424  & 44.42185  & Control  \\\\\n",
       "\t V2508     & CM        & 729.0330  & 58.60620  & Control  \\\\\n",
       "\t V2509     & CM        & 347.4602  & 45.47705  & Control  \\\\\n",
       "\t V2510     & CM        & 314.8530  & 43.88887  & Control  \\\\\n",
       "\t V2521     & CM        & 384.5597  & 47.36724  & HFpEF-Veh\\\\\n",
       "\\end{tabular}\n"
      ],
      "text/markdown": [
       "\n",
       "| ID | cell.type | abund | percent | exp.assay |\n",
       "|---|---|---|---|---|\n",
       "| V2504     | CM        | 452.7622  | 60.09988  | Control   |\n",
       "| V2507     | CM        | 300.9424  | 44.42185  | Control   |\n",
       "| V2508     | CM        | 729.0330  | 58.60620  | Control   |\n",
       "| V2509     | CM        | 347.4602  | 45.47705  | Control   |\n",
       "| V2510     | CM        | 314.8530  | 43.88887  | Control   |\n",
       "| V2521     | CM        | 384.5597  | 47.36724  | HFpEF-Veh |\n",
       "\n"
      ],
      "text/plain": [
       "  ID    cell.type abund    percent  exp.assay\n",
       "1 V2504 CM        452.7622 60.09988 Control  \n",
       "2 V2507 CM        300.9424 44.42185 Control  \n",
       "3 V2508 CM        729.0330 58.60620 Control  \n",
       "4 V2509 CM        347.4602 45.47705 Control  \n",
       "5 V2510 CM        314.8530 43.88887 Control  \n",
       "6 V2521 CM        384.5597 47.36724 HFpEF-Veh"
      ]
     },
     "metadata": {},
     "output_type": "display_data"
    }
   ],
   "source": [
    "# Formula for a t.test https://www.youtube.com/watch?v=ZQv7C6g2uXQ\n",
    "# (mu1 - mu2) / sqrt(S1/n1 + S2/n2)\n",
    "# Question: Is HFpEF CM proportion different from Control?\n",
    "\n",
    "# Lets read in just the data we need, without the junk columns\n",
    "data.stats <- data.ciber[,c(\"ID\", \"cell.type\",\"abund\", \"percent\",\"exp.assay\")]\n",
    "head(data.stats)"
   ]
  },
  {
   "cell_type": "code",
   "execution_count": 47,
   "id": "832e1d6a-4603-4a72-975e-a502744cc2bc",
   "metadata": {},
   "outputs": [
    {
     "name": "stderr",
     "output_type": "stream",
     "text": [
      "`summarise()` has grouped output by 'cell.type'. You can override using the `.groups` argument.\n"
     ]
    },
    {
     "data": {
      "text/html": [
       "<table>\n",
       "<thead><tr><th scope=col>cell.type</th><th scope=col>exp.assay</th><th scope=col>mean</th><th scope=col>SD</th></tr></thead>\n",
       "<tbody>\n",
       "\t<tr><td>CM          </td><td>Control     </td><td>53.02583    </td><td> 8.417756   </td></tr>\n",
       "\t<tr><td>CM          </td><td>HFpEF-SGLT2 </td><td>53.80059    </td><td>11.033652   </td></tr>\n",
       "\t<tr><td>CM          </td><td>HFpEF-TYA018</td><td>55.40377    </td><td> 5.554454   </td></tr>\n",
       "\t<tr><td>CM          </td><td>HFpEF-Veh   </td><td>48.10395    </td><td> 6.630888   </td></tr>\n",
       "</tbody>\n",
       "</table>\n"
      ],
      "text/latex": [
       "\\begin{tabular}{r|llll}\n",
       " cell.type & exp.assay & mean & SD\\\\\n",
       "\\hline\n",
       "\t CM           & Control      & 53.02583     &  8.417756   \\\\\n",
       "\t CM           & HFpEF-SGLT2  & 53.80059     & 11.033652   \\\\\n",
       "\t CM           & HFpEF-TYA018 & 55.40377     &  5.554454   \\\\\n",
       "\t CM           & HFpEF-Veh    & 48.10395     &  6.630888   \\\\\n",
       "\\end{tabular}\n"
      ],
      "text/markdown": [
       "\n",
       "| cell.type | exp.assay | mean | SD |\n",
       "|---|---|---|---|\n",
       "| CM           | Control      | 53.02583     |  8.417756    |\n",
       "| CM           | HFpEF-SGLT2  | 53.80059     | 11.033652    |\n",
       "| CM           | HFpEF-TYA018 | 55.40377     |  5.554454    |\n",
       "| CM           | HFpEF-Veh    | 48.10395     |  6.630888    |\n",
       "\n"
      ],
      "text/plain": [
       "  cell.type exp.assay    mean     SD       \n",
       "1 CM        Control      53.02583  8.417756\n",
       "2 CM        HFpEF-SGLT2  53.80059 11.033652\n",
       "3 CM        HFpEF-TYA018 55.40377  5.554454\n",
       "4 CM        HFpEF-Veh    48.10395  6.630888"
      ]
     },
     "metadata": {},
     "output_type": "display_data"
    }
   ],
   "source": [
    "# We have our data, so lets calculate the mean\n",
    "# and standard deviation for all celltypes, but\n",
    "# look only at Control CMs and HFpEF CMs\n",
    "data.stats %>%\n",
    "  group_by(cell.type, exp.assay) %>% \n",
    "  dplyr::summarise(mean = mean(percent), SD = sd(percent)) %>% head(4)"
   ]
  },
  {
   "cell_type": "code",
   "execution_count": 48,
   "id": "37b04c86-3535-4fe3-9cd1-ece6113b9673",
   "metadata": {},
   "outputs": [
    {
     "data": {
      "text/html": [
       "1.29321083468334"
      ],
      "text/latex": [
       "1.29321083468334"
      ],
      "text/markdown": [
       "1.29321083468334"
      ],
      "text/plain": [
       "[1] 1.293211"
      ]
     },
     "metadata": {},
     "output_type": "display_data"
    },
    {
     "name": "stdout",
     "output_type": "stream",
     "text": [
      "[1] \"Probability we observed difference between HFpEF and Control by chance: 0.236977743310933\"\n"
     ]
    }
   ],
   "source": [
    "# Manually calculating the t.statistic (which is\n",
    "# like the z.score or z.statistic), it is a meaure\n",
    "# of how many standard deviations away our observed\n",
    "# values are from each other. I don't fully remember why\n",
    "# the denominators add the way they do, but it has to do\n",
    "# with the fact that variances add even when means are\n",
    "# subtracted.\n",
    "t.score <- (53 - 48.1) / sqrt(8.42^2/8 + 6.63^2/8); t.score\n",
    "# [1] 1.293211\n",
    "\n",
    "# Need around 2.4 to be considered significant\n",
    "# We essentially have a Z-score of 1.29, so lets calculate\n",
    "# the probability we got this by chance. 7 is the degrees \n",
    "# of freedom, which is how many samples we have -1. Now, we\n",
    "# have two tests with equal numbers of samples, but I assume\n",
    "# we would chose the lower sample for our degree of freedom \n",
    "# here.\n",
    "\n",
    "# We also multiply by 2 because this is a two tailed test.\n",
    "# We had around a 25% chance of getting the result we did\n",
    "# just by random chance (this isn't even corrected). Pretty\n",
    "# insignificant result.\n",
    "print(paste0(\"Probability we observed difference between HFpEF and Control by chance: \", 2*pt(t.score, 7, lower.tail=F)))\n",
    "# [1] 0.2347678"
   ]
  },
  {
   "cell_type": "markdown",
   "id": "7d6d85aa-3e5e-4ca3-aab7-2a077f70ef2c",
   "metadata": {},
   "source": [
    "<br><br>Well we calculated the difference between Control and HFpEF CMs by hand, but we have 5 more celltypes to go through, and that would be a pain to calculate by hand. I would also like to create a visual to go along with these results. So lets do it!\n",
    "\n",
    "# Calculating significance of differences between all celltypes"
   ]
  },
  {
   "cell_type": "code",
   "execution_count": 51,
   "id": "98ff5fd7-cab3-4455-ba81-fb7273dc0bc0",
   "metadata": {},
   "outputs": [
    {
     "name": "stdout",
     "output_type": "stream",
     "text": [
      "[1] \"This is the generated comparisons in my data. The important columns are 'statistic'\\nwhich is the t-statistic. P column is the p-value, and we can notice that it is similar to\\nthe value we calculated for CMs, but not exactly the same! I don't actually know why!\"\n"
     ]
    },
    {
     "data": {
      "text/html": [
       "<table>\n",
       "<thead><tr><th scope=col>cell.type</th><th scope=col>.y.</th><th scope=col>group1</th><th scope=col>group2</th><th scope=col>n1</th><th scope=col>n2</th><th scope=col>statistic</th><th scope=col>df</th><th scope=col>p</th><th scope=col>p.adj</th><th scope=col>p.adj.signif</th></tr></thead>\n",
       "<tbody>\n",
       "\t<tr><td>CM        </td><td>percent   </td><td>Control   </td><td>HFpEF-Veh </td><td>8         </td><td>8         </td><td> 1.2991321</td><td>13.272168 </td><td>0.216     </td><td>0.216     </td><td>ns        </td></tr>\n",
       "\t<tr><td>EC        </td><td>percent   </td><td>Control   </td><td>HFpEF-Veh </td><td>8         </td><td>8         </td><td>-1.1993756</td><td>12.298347 </td><td>0.253     </td><td>0.253     </td><td>ns        </td></tr>\n",
       "\t<tr><td>PC.SMC    </td><td>percent   </td><td>Control   </td><td>HFpEF-Veh </td><td>8         </td><td>8         </td><td> 1.8423323</td><td>13.743741 </td><td>0.087     </td><td>0.087     </td><td>ns        </td></tr>\n",
       "\t<tr><td>FB        </td><td>percent   </td><td>Control   </td><td>HFpEF-Veh </td><td>8         </td><td>8         </td><td>-0.8618958</td><td> 9.605017 </td><td>0.410     </td><td>0.410     </td><td>ns        </td></tr>\n",
       "\t<tr><td>Epi       </td><td>percent   </td><td>Control   </td><td>HFpEF-Veh </td><td>8         </td><td>8         </td><td>-1.3494162</td><td> 9.439647 </td><td>0.209     </td><td>0.209     </td><td>ns        </td></tr>\n",
       "\t<tr><td>BC        </td><td>percent   </td><td>Control   </td><td>HFpEF-Veh </td><td>8         </td><td>8         </td><td>-1.4188476</td><td>12.166772 </td><td>0.181     </td><td>0.181     </td><td>ns        </td></tr>\n",
       "</tbody>\n",
       "</table>\n"
      ],
      "text/latex": [
       "\\begin{tabular}{r|lllllllllll}\n",
       " cell.type & .y. & group1 & group2 & n1 & n2 & statistic & df & p & p.adj & p.adj.signif\\\\\n",
       "\\hline\n",
       "\t CM         & percent    & Control    & HFpEF-Veh  & 8          & 8          &  1.2991321 & 13.272168  & 0.216      & 0.216      & ns        \\\\\n",
       "\t EC         & percent    & Control    & HFpEF-Veh  & 8          & 8          & -1.1993756 & 12.298347  & 0.253      & 0.253      & ns        \\\\\n",
       "\t PC.SMC     & percent    & Control    & HFpEF-Veh  & 8          & 8          &  1.8423323 & 13.743741  & 0.087      & 0.087      & ns        \\\\\n",
       "\t FB         & percent    & Control    & HFpEF-Veh  & 8          & 8          & -0.8618958 &  9.605017  & 0.410      & 0.410      & ns        \\\\\n",
       "\t Epi        & percent    & Control    & HFpEF-Veh  & 8          & 8          & -1.3494162 &  9.439647  & 0.209      & 0.209      & ns        \\\\\n",
       "\t BC         & percent    & Control    & HFpEF-Veh  & 8          & 8          & -1.4188476 & 12.166772  & 0.181      & 0.181      & ns        \\\\\n",
       "\\end{tabular}\n"
      ],
      "text/markdown": [
       "\n",
       "| cell.type | .y. | group1 | group2 | n1 | n2 | statistic | df | p | p.adj | p.adj.signif |\n",
       "|---|---|---|---|---|---|---|---|---|---|---|\n",
       "| CM         | percent    | Control    | HFpEF-Veh  | 8          | 8          |  1.2991321 | 13.272168  | 0.216      | 0.216      | ns         |\n",
       "| EC         | percent    | Control    | HFpEF-Veh  | 8          | 8          | -1.1993756 | 12.298347  | 0.253      | 0.253      | ns         |\n",
       "| PC.SMC     | percent    | Control    | HFpEF-Veh  | 8          | 8          |  1.8423323 | 13.743741  | 0.087      | 0.087      | ns         |\n",
       "| FB         | percent    | Control    | HFpEF-Veh  | 8          | 8          | -0.8618958 |  9.605017  | 0.410      | 0.410      | ns         |\n",
       "| Epi        | percent    | Control    | HFpEF-Veh  | 8          | 8          | -1.3494162 |  9.439647  | 0.209      | 0.209      | ns         |\n",
       "| BC         | percent    | Control    | HFpEF-Veh  | 8          | 8          | -1.4188476 | 12.166772  | 0.181      | 0.181      | ns         |\n",
       "\n"
      ],
      "text/plain": [
       "  cell.type .y.     group1  group2    n1 n2 statistic  df        p     p.adj\n",
       "1 CM        percent Control HFpEF-Veh 8  8   1.2991321 13.272168 0.216 0.216\n",
       "2 EC        percent Control HFpEF-Veh 8  8  -1.1993756 12.298347 0.253 0.253\n",
       "3 PC.SMC    percent Control HFpEF-Veh 8  8   1.8423323 13.743741 0.087 0.087\n",
       "4 FB        percent Control HFpEF-Veh 8  8  -0.8618958  9.605017 0.410 0.410\n",
       "5 Epi       percent Control HFpEF-Veh 8  8  -1.3494162  9.439647 0.209 0.209\n",
       "6 BC        percent Control HFpEF-Veh 8  8  -1.4188476 12.166772 0.181 0.181\n",
       "  p.adj.signif\n",
       "1 ns          \n",
       "2 ns          \n",
       "3 ns          \n",
       "4 ns          \n",
       "5 ns          \n",
       "6 ns          "
      ]
     },
     "metadata": {},
     "output_type": "display_data"
    }
   ],
   "source": [
    "# Lets once again subset our original data to only the columns we care about\n",
    "data.stats <- data.ciber[,c(\"ID\", \"cell.type\",\"abund\", \"percent\",\"exp.assay\")]\n",
    "\n",
    "# We can calculate the t.statistic programatically here. We cluster by celltype, then \n",
    "# hand R the formula percent depends on exp.assay column, and ask it to compare the \n",
    "# HFpEF and Control categories.\n",
    "\n",
    "# The important columns here are cell.type and p.adj, and it looks like none of my \n",
    "# comparisons are significant!!!\n",
    "print(\"This is the generated comparisons in my data. The important columns are 'statistic'\n",
    "which is the t-statistic. P column is the p-value, and we can notice that it is similar to\n",
    "the value we calculated for CMs, but not exactly the same! I don't actually know why!\")\n",
    "stat.test <- data.stats %>%\n",
    "  group_by(cell.type) %>%\n",
    "  t_test(formula =percent ~ exp.assay, comparisons = list(c('HFpEF-Veh', \"Control\"))); stat.test"
   ]
  },
  {
   "cell_type": "code",
   "execution_count": 62,
   "id": "72444931-d99d-49ec-9301-1d70fed7ce3d",
   "metadata": {},
   "outputs": [
    {
     "data": {
      "image/png": "[encoded data removed]",
      "text/plain": [
       "plot without title"
      ]
     },
     "metadata": {},
     "output_type": "display_data"
    }
   ],
   "source": [
    "# This just adds a couple of columns to be used\n",
    "# with the stat_pvalue_manual ggplot2 function\n",
    "# below\n",
    "stat.test <- stat.test %>% add_xy_position(x = \"exp.assay\")\n",
    "stat.test$xmax <- rep(2, dim(stat.test)[1])\n",
    "\n",
    "# Plotting it from https://www.datanovia.com/en/blog/how-to-perform-multiple-t-test-in-r-for-different-variables/\n",
    "options(repr.plot.width=12, repr.plot.height=6)\n",
    "plot.bulk.diff <- ggboxplot(\n",
    "  data.stats, x = \"exp.assay\", y = \"percent\",\n",
    "  fill = \"exp.assay\", palette = \"npg\", legend = \"none\",\n",
    "  ggtheme = theme_pubr(border = TRUE)\n",
    ") +\n",
    "  stat_pvalue_manual(stat.test, label = \"p.adj.signif\") +\n",
    "  facet_wrap(~cell.type, scale='free') + \n",
    "  theme(axis.text.x = element_text(angle = 40, vjust = 1, hjust=1, lineheight = 0.75, size = 11)); print(plot.bulk.diff)\n",
    "\n",
    "ggsave(\"Peng_boxplot_celltypes_sig.png\",plot = plot.bulk.diff,\n",
    "       path = path.peng.cibersort, width = 13, height = 9, \n",
    "       units = 'in', )"
   ]
  },
  {
   "cell_type": "markdown",
   "id": "6aebb01b-35b9-4db8-a471-a9a5e7a874dc",
   "metadata": {},
   "source": [
    "# Conclusions\n",
    "We can see that none of the celltypes differ significantly between HFpEF and Control. We do however see mildly insignificant trends in the data, for instance there seem to be fewer CMs but more FBs in HFpEF than control, but we cannot say that with certainty."
   ]
  }
 ],
 "metadata": {
  "kernelspec": {
   "display_name": "R",
   "language": "R",
   "name": "ir"
  },
  "language_info": {
   "codemirror_mode": "r",
   "file_extension": ".r",
   "mimetype": "text/x-r-source",
   "name": "R",
   "pygments_lexer": "r",
   "version": "3.6.3"
  }
 },
 "nbformat": 4,
 "nbformat_minor": 5
}
