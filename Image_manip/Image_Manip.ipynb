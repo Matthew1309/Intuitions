{
 "cells": [
  {
   "cell_type": "code",
   "execution_count": 2,
   "id": "657ee5be-c37e-45c6-a5f8-c1532f3316bf",
   "metadata": {},
   "outputs": [],
   "source": [
    "from PIL import Image\n",
    "im = Image.open(\"Tenaya_ReichartwTenayaLabels_Reichart.png\")\n",
    "nx, ny = im.size\n",
    "im2 = im.resize((int(nx//10), int(ny//10)), Image.BICUBIC)\n",
    "im2.save(\"Tenaya_ReichartwTenayaLabels_Reichart_small.png\")"
   ]
  }
 ],
 "metadata": {
  "kernelspec": {
   "display_name": "Python 3.8.12 (tensorflow)",
   "language": "python",
   "name": "tensorflow"
  },
  "language_info": {
   "codemirror_mode": {
    "name": "ipython",
    "version": 3
   },
   "file_extension": ".py",
   "mimetype": "text/x-python",
   "name": "python",
   "nbconvert_exporter": "python",
   "pygments_lexer": "ipython3",
   "version": "3.8.12"
  }
 },
 "nbformat": 4,
 "nbformat_minor": 5
}
