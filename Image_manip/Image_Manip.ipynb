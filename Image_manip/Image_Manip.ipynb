{
 "cells": [
  {
   "cell_type": "code",
   "execution_count": 2,
   "id": "657ee5be-c37e-45c6-a5f8-c1532f3316bf",
   "metadata": {},
   "outputs": [],
   "source": [
    "from PIL import Image\n",
    "im = Image.open(\"Tenaya_ReichartwTenayaLabels_Reichart.png\")\n",
    "nx, ny = im.size\n",
    "im2 = im.resize((int(nx//10), int(ny//10)), Image.BICUBIC)\n",
    "im2.save(\"Tenaya_ReichartwTenayaLabels_Reichart_small.png\")"
   ]
  },
  {
   "cell_type": "markdown",
   "id": "42738e1f-885c-4e2d-917d-6ea057120f5e",
   "metadata": {},
   "source": [
    "# Full python workflow"
   ]
  },
  {
   "cell_type": "code",
   "execution_count": null,
   "id": "3dabf094-572c-400a-9995-171588a74a99",
   "metadata": {},
   "outputs": [],
   "source": [
    "file_name = \"Laplace_Transform_table.png\"\n",
    "\n",
    "import matplotlib.image as mpimg\n",
    "img=mpimg.imread(file_name)\n",
    "plt.minorticks_on()\n",
    "imgplot = plt.imshow(img)"
   ]
  },
  {
   "cell_type": "code",
   "execution_count": null,
   "id": "5e6362ee-e0d6-4971-abf2-bdd42028bae7",
   "metadata": {},
   "outputs": [],
   "source": [
    "from PIL import Image\n",
    "im = Image.open(file_name)"
   ]
  },
  {
   "cell_type": "code",
   "execution_count": null,
   "id": "dc29cd66-fcc4-4fce-b305-71f266154a3a",
   "metadata": {},
   "outputs": [],
   "source": [
    "top = 50\n",
    "bottom = 840\n",
    "left = 0\n",
    "right = 300"
   ]
  },
  {
   "cell_type": "code",
   "execution_count": null,
   "id": "b821941f-0c7f-4e20-a6b9-4d99ffb38913",
   "metadata": {},
   "outputs": [],
   "source": [
    "im1 = im.crop((left, top, right, bottom))\n",
    "nx, ny = im1.size; print(nx, ny)\n",
    "# Shows the image in image viewer\n",
    "im1"
   ]
  },
  {
   "cell_type": "code",
   "execution_count": null,
   "id": "664cea76-d17c-4bb8-8e78-02d6e19469e8",
   "metadata": {},
   "outputs": [],
   "source": [
    "im2 = im1.resize((int(nx*0.85), int(ny*0.85)), Image.BICUBIC)"
   ]
  },
  {
   "cell_type": "code",
   "execution_count": null,
   "id": "c269a4ef-b3d2-464a-9edd-ebd5170266d6",
   "metadata": {},
   "outputs": [],
   "source": [
    "im2.save(\"Lap_table_small.png\")"
   ]
  }
 ],
 "metadata": {
  "kernelspec": {
   "display_name": "Python 3 (ipykernel)",
   "language": "python",
   "name": "python3"
  },
  "language_info": {
   "codemirror_mode": {
    "name": "ipython",
    "version": 3
   },
   "file_extension": ".py",
   "mimetype": "text/x-python",
   "name": "python",
   "nbconvert_exporter": "python",
   "pygments_lexer": "ipython3",
   "version": "3.8.15"
  }
 },
 "nbformat": 4,
 "nbformat_minor": 5
}
