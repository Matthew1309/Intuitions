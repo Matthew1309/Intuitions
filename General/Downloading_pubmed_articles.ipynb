{
 "cells": [
  {
   "cell_type": "markdown",
   "id": "126af4c3-f067-4d0b-b843-80fb05277711",
   "metadata": {},
   "source": [
    "# Getting pubmed ids\n",
    "Thank you this chat https://www.biostars.org/p/299930/ for the python side of getting pubmed ids. Thank you to the authors of https://pypi.org/project/pubmed2pdf/ for publishing this commandline tool.\n",
    "\n",
    "Necessary packages\n",
    "* python = 3.9.16\n",
    "* mamba = 1.4.2\n",
    "* conda = 23.3.1\n",
    "* biopython = 1.81\n",
    "* jupyterlab = 3.6.3\n",
    "* python3 -m pip install pubmed2pdf"
   ]
  },
  {
   "cell_type": "code",
   "execution_count": 27,
   "id": "a07a59f4-dda6-4ae2-aced-8cbf9b87842e",
   "metadata": {
    "tags": []
   },
   "outputs": [
    {
     "data": {
      "text/plain": [
       "'2023-04-21'"
      ]
     },
     "execution_count": 27,
     "metadata": {},
     "output_type": "execute_result"
    }
   ],
   "source": [
    "import datetime\n",
    "import pandas as pd\n",
    "import numpy as np\n",
    "import os\n",
    "date = str(datetime.datetime.today()).split()[0]\n",
    "date"
   ]
  },
  {
   "cell_type": "code",
   "execution_count": 44,
   "id": "91d35126-8ae6-4985-aa8e-b722e21838ce",
   "metadata": {
    "tags": []
   },
   "outputs": [
    {
     "name": "stdout",
     "output_type": "stream",
     "text": [
      "endothelial damage AND heart AND (nitrite OR nitrogen OR nitric oxide) AND (\"2005/04/21\"[PDAT] : \"2023/04/21\"[PDAT]) AND review[ptyp] AND Free full text[Filter]\n",
      "['36875897', '36873982', '36289733', '35783193']\n",
      "46\n"
     ]
    }
   ],
   "source": [
    "from Bio import Entrez\n",
    "Entrez.email = \"mkozubov@ucsc.com\"\n",
    "\n",
    "# Define the search term and filters\n",
    "keywords = [\"endothelial damage\", \"heart\", \"(nitrite OR nitrogen OR nitric oxide)\"]; keywords = \" AND \".join(keywords)\n",
    "author = ''\n",
    "dates = '(\"2005/04/21\"[PDAT] : \"2023/04/21\"[PDAT])'\n",
    "papertype = \"review[ptyp]\"\n",
    "\n",
    "# Build the search query\n",
    "search_query = f'{keywords} AND {dates} AND {papertype} AND Free full text[Filter]'\n",
    "\n",
    "# Use the Entrez.esearch() function to search for articles matching the query\n",
    "search_results = Entrez.read(Entrez.esearch(db='pubmed', term=search_query, retmax=1000000))\n",
    "article_ids = search_results[\"IdList\"]\n",
    "download_str = \", \".join(article_ids)\n",
    "download_str = f'\"{download_str}\"'\n",
    "print(search_query)\n",
    "print(article_ids[1:5])\n",
    "print(len(article_ids))"
   ]
  },
  {
   "cell_type": "code",
   "execution_count": 45,
   "id": "ecc14389-6e04-4c09-929b-ed9793372d0d",
   "metadata": {
    "tags": []
   },
   "outputs": [
    {
     "name": "stdout",
     "output_type": "stream",
     "text": [
      "Making ./PDFs/heart-nitric-oxide\n",
      "./PDFs/heart-nitric-oxide\n",
      "./PDFs/heart-nitric-oxide/failed_pubmeds_2023-04-21.tsv\n",
      "./PDFs/heart-nitric-oxide/downloaded_pubmeds_2023-04-21.tsv\n"
     ]
    }
   ],
   "source": [
    "out_dir = \"./PDFs/heart-nitric-oxide\"\n",
    "error_out_file = f\"{out_dir}/failed_pubmeds_{date}.tsv\"\n",
    "success_out_file = f\"{out_dir}/downloaded_pubmeds_{date}.tsv\"\n",
    "if(not os.path.exists(out_dir)):\n",
    "    print(f\"Making {out_dir}\")\n",
    "    os.makedirs(out_dir)\n",
    "print(f\"{out_dir}\\n{error_out_file}\\n{success_out_file}\")"
   ]
  },
  {
   "cell_type": "code",
   "execution_count": 46,
   "id": "4b71f142-fedd-4592-9567-c3b000bcf754",
   "metadata": {},
   "outputs": [
    {
     "name": "stdout",
     "output_type": "stream",
     "text": [
      "2023-04-21 12:12:54,380 - INFO - pubmed2pdf.cli - Trying to fetch pmid 36989721\n",
      "2023-04-21 12:12:56,198 - INFO - pubmed2pdf.cli - Trying to fetch pmid 36875897\n",
      "2023-04-21 12:12:58,037 - INFO - pubmed2pdf.cli - Trying to fetch pmid 36873982\n",
      "2023-04-21 12:13:01,895 - INFO - pubmed2pdf.cli - Trying to fetch pmid 36289733\n",
      "2023-04-21 12:13:12,003 - INFO - pubmed2pdf.cli - Trying to fetch pmid 35783193\n",
      "2023-04-21 12:13:17,784 - INFO - pubmed2pdf.cli - Trying to fetch pmid 35744848\n",
      "2023-04-21 12:13:28,686 - INFO - pubmed2pdf.cli - Trying to fetch pmid 35557517\n",
      "2023-04-21 12:13:33,243 - INFO - pubmed2pdf.cli - Trying to fetch pmid 35464057\n",
      "2023-04-21 12:13:37,166 - INFO - pubmed2pdf.cli - Trying to fetch pmid 34746831\n",
      "2023-04-21 12:13:38,901 - INFO - pubmed2pdf.cli - Trying to fetch pmid 34571964\n",
      "2023-04-21 12:13:54,593 - INFO - pubmed2pdf.cli - Trying to fetch pmid 34201562\n",
      "2023-04-21 12:14:07,550 - INFO - pubmed2pdf.cli - Trying to fetch pmid 33633590\n",
      "2023-04-21 12:14:10,658 - INFO - pubmed2pdf.cli - Trying to fetch pmid 33477837\n",
      "2023-04-21 12:14:21,959 - INFO - pubmed2pdf.cli - Trying to fetch pmid 33126450\n",
      "2023-04-21 12:14:36,111 - INFO - pubmed2pdf.cli - Trying to fetch pmid 32737921\n",
      "2023-04-21 12:14:36,889 - INFO - pubmed2pdf.cli - Trying to fetch pmid 31922930\n",
      "2023-04-21 12:14:37,734 - INFO - pubmed2pdf.cli - Trying to fetch pmid 31903788\n",
      "2023-04-21 12:14:41,135 - INFO - pubmed2pdf.cli - Trying to fetch pmid 30745502\n",
      "2023-04-21 12:14:56,902 - INFO - pubmed2pdf.cli - Trying to fetch pmid 30623145\n",
      "2023-04-21 12:14:59,306 - INFO - pubmed2pdf.cli - Trying to fetch pmid 29518493\n",
      "2023-04-21 12:15:00,980 - INFO - pubmed2pdf.cli - Trying to fetch pmid 29420965\n",
      "2023-04-21 12:15:02,989 - INFO - pubmed2pdf.cli - Trying to fetch pmid 29333213\n",
      "2023-04-21 12:15:13,444 - INFO - pubmed2pdf.cli - Trying to fetch pmid 27994597\n",
      "2023-04-21 12:15:18,846 - INFO - pubmed2pdf.cli - Trying to fetch pmid 27432868\n",
      "2023-04-21 12:15:19,562 - INFO - pubmed2pdf.cli - Trying to fetch pmid 26763895\n",
      "2023-04-21 12:15:21,259 - INFO - pubmed2pdf.cli - Trying to fetch pmid 26112889\n",
      "2023-04-21 12:15:24,948 - INFO - pubmed2pdf.cli - Trying to fetch pmid 25743766\n",
      "2023-04-21 12:15:52,620 - INFO - pubmed2pdf.cli - Trying to fetch pmid 25446556\n",
      "2023-04-21 12:15:55,355 - INFO - pubmed2pdf.cli - Trying to fetch pmid 25398989\n",
      "2023-04-21 12:15:56,026 - INFO - pubmed2pdf.cli - Trying to fetch pmid 23830845\n",
      "2023-04-21 12:15:59,905 - INFO - pubmed2pdf.cli - Trying to fetch pmid 23792680\n",
      "2023-04-21 12:16:00,527 - INFO - pubmed2pdf.cli - Trying to fetch pmid 23585139\n",
      "2023-04-21 12:16:01,135 - INFO - pubmed2pdf.cli - Trying to fetch pmid 23214308\n",
      "2023-04-21 12:16:04,037 - INFO - pubmed2pdf.cli - Trying to fetch pmid 22525440\n",
      "2023-04-21 12:16:08,886 - INFO - pubmed2pdf.cli - Trying to fetch pmid 23737209\n",
      "2023-04-21 12:16:15,024 - INFO - pubmed2pdf.cli - Trying to fetch pmid 19586943\n",
      "2023-04-21 12:16:18,310 - INFO - pubmed2pdf.cli - Trying to fetch pmid 19273197\n",
      "2023-04-21 12:16:20,317 - INFO - pubmed2pdf.cli - Trying to fetch pmid 18535182\n",
      "2023-04-21 12:16:34,529 - INFO - pubmed2pdf.cli - Trying to fetch pmid 18182064\n",
      "2023-04-21 12:16:38,658 - INFO - pubmed2pdf.cli - Trying to fetch pmid 17965142\n",
      "2023-04-21 12:16:40,312 - INFO - pubmed2pdf.cli - Trying to fetch pmid 17919258\n",
      "2023-04-21 12:16:44,510 - INFO - pubmed2pdf.cli - Trying to fetch pmid 17434294\n",
      "2023-04-21 12:16:46,148 - INFO - pubmed2pdf.cli - Trying to fetch pmid 17237348\n",
      "2023-04-21 12:16:47,832 - INFO - pubmed2pdf.cli - Trying to fetch pmid 29861688\n",
      "2023-04-21 12:16:55,638 - INFO - pubmed2pdf.cli - Trying to fetch pmid 16723985\n",
      "2023-04-21 12:16:57,062 - INFO - pubmed2pdf.cli - Trying to fetch pmid 15830093\n",
      "Done downloading. All downloaded can be found in ./PDFs/heart-nitric-oxide\n"
     ]
    }
   ],
   "source": [
    "!python3 -m pubmed2pdf pdf --pmids=$download_str --out $out_dir --errors $error_out_file --exported $success_out_file"
   ]
  },
  {
   "cell_type": "code",
   "execution_count": null,
   "id": "3e109419-0159-4467-a287-fe298ded1d8e",
   "metadata": {},
   "outputs": [],
   "source": []
  }
 ],
 "metadata": {
  "kernelspec": {
   "display_name": "Python 3.9.16 (pdfpub)",
   "language": "python",
   "name": "pdfpub"
  },
  "language_info": {
   "codemirror_mode": {
    "name": "ipython",
    "version": 3
   },
   "file_extension": ".py",
   "mimetype": "text/x-python",
   "name": "python",
   "nbconvert_exporter": "python",
   "pygments_lexer": "ipython3",
   "version": "3.9.16"
  }
 },
 "nbformat": 4,
 "nbformat_minor": 5
}
