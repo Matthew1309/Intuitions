{
 "cells": [
  {
   "cell_type": "markdown",
   "id": "fc292474-f541-4ad1-a651-0e927d17da74",
   "metadata": {},
   "source": [
    "# First lets read in the data from t-Test"
   ]
  },
  {
   "cell_type": "code",
   "execution_count": 1,
   "id": "dd9209a3-aaa0-417b-9b58-62a07b452c42",
   "metadata": {},
   "outputs": [],
   "source": [
    "# Number manips\n",
    "import pandas as pd\n",
    "import numpy as np\n",
    "import math\n",
    "import random as rand\n",
    "\n",
    "# Visualizations\n",
    "import matplotlib.pyplot as plt\n",
    "import matplotlib.patches as patches"
   ]
  },
  {
   "cell_type": "code",
   "execution_count": null,
   "id": "bca69ca1-4d65-4d99-9f67-dbe2d9e79ac4",
   "metadata": {},
   "outputs": [],
   "source": [
    "df = pd.read_csv"
   ]
  }
 ],
 "metadata": {
  "kernelspec": {
   "display_name": "Python 3.8.12 (tensorflow)",
   "language": "python",
   "name": "tensorflow"
  },
  "language_info": {
   "codemirror_mode": {
    "name": "ipython",
    "version": 3
   },
   "file_extension": ".py",
   "mimetype": "text/x-python",
   "name": "python",
   "nbconvert_exporter": "python",
   "pygments_lexer": "ipython3",
   "version": "3.8.12"
  }
 },
 "nbformat": 4,
 "nbformat_minor": 5
}
