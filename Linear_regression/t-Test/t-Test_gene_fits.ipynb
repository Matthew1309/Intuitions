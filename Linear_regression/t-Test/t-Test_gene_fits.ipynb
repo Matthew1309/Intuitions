{
 "cells": [
  {
   "cell_type": "markdown",
   "id": "fc292474-f541-4ad1-a651-0e927d17da74",
   "metadata": {},
   "source": [
    "I will be following along with the StatQuest video: \n",
    "# First lets read in the data from t-Test"
   ]
  },
  {
   "cell_type": "code",
   "execution_count": 89,
   "id": "dd9209a3-aaa0-417b-9b58-62a07b452c42",
   "metadata": {},
   "outputs": [],
   "source": [
    "# Stats\n",
    "from scipy.stats import chi2_contingency\n",
    "from scipy.stats import norm\n",
    "import scipy.stats as stats\n",
    "\n",
    "# Number manips\n",
    "import pandas as pd\n",
    "import numpy as np\n",
    "import math\n",
    "import random as rand\n",
    "\n",
    "# Visualizations\n",
    "import matplotlib.pyplot as plt\n",
    "import matplotlib.patches as patches\n",
    "import seaborn as sns"
   ]
  },
  {
   "cell_type": "code",
   "execution_count": 8,
   "id": "bca69ca1-4d65-4d99-9f67-dbe2d9e79ac4",
   "metadata": {},
   "outputs": [
    {
     "name": "stdout",
     "output_type": "stream",
     "text": [
      "(201, 1341)\n"
     ]
    },
    {
     "data": {
      "text/html": [
       "<div>\n",
       "<style scoped>\n",
       "    .dataframe tbody tr th:only-of-type {\n",
       "        vertical-align: middle;\n",
       "    }\n",
       "\n",
       "    .dataframe tbody tr th {\n",
       "        vertical-align: top;\n",
       "    }\n",
       "\n",
       "    .dataframe thead th {\n",
       "        text-align: right;\n",
       "    }\n",
       "</style>\n",
       "<table border=\"1\" class=\"dataframe\">\n",
       "  <thead>\n",
       "    <tr style=\"text-align: right;\">\n",
       "      <th></th>\n",
       "      <th>sham_rep1_AAACGGGAGAGTTGGC-1</th>\n",
       "      <th>sham_rep1_AAACGGGCATCTGGTA-1</th>\n",
       "      <th>sham_rep1_AAAGATGTCACCGTAA-1</th>\n",
       "      <th>sham_rep1_AAAGATGTCGGTGTCG-1</th>\n",
       "      <th>sham_rep1_AAAGATGTCTTGTCAT-1</th>\n",
       "      <th>sham_rep1_AAAGCAACAGACGCTC-1</th>\n",
       "      <th>sham_rep1_AAAGTAGGTTACGTCA-1</th>\n",
       "      <th>sham_rep1_AAATGCCTCGAGCCCA-1</th>\n",
       "      <th>sham_rep1_AACACGTTCTCAAACG-1</th>\n",
       "      <th>sham_rep1_AACTCCCTCTCAAACG-1</th>\n",
       "      <th>...</th>\n",
       "      <th>TAC_rep2_TTGACTTTCAGATAAG-1</th>\n",
       "      <th>TAC_rep2_TTGCCGTTCGACGGAA-1</th>\n",
       "      <th>TAC_rep2_TTGGCAAAGCCAGAAC-1</th>\n",
       "      <th>TAC_rep2_TTGGCAACATCGTCGG-1</th>\n",
       "      <th>TAC_rep2_TTGGCAAGTAGCGCTC-1</th>\n",
       "      <th>TAC_rep2_TTGGCAAGTATGCTTG-1</th>\n",
       "      <th>TAC_rep2_TTGTAGGGTGATGTGG-1</th>\n",
       "      <th>TAC_rep2_TTTACTGCAAGTTAAG-1</th>\n",
       "      <th>TAC_rep2_TTTACTGGTACTTCTT-1</th>\n",
       "      <th>TAC_rep2_TTTGGTTAGGGATGGG-1</th>\n",
       "    </tr>\n",
       "  </thead>\n",
       "  <tbody>\n",
       "    <tr>\n",
       "      <th>Ccl21a</th>\n",
       "      <td>0.0</td>\n",
       "      <td>0.0</td>\n",
       "      <td>0.000000</td>\n",
       "      <td>0.0</td>\n",
       "      <td>0.0</td>\n",
       "      <td>0.000000</td>\n",
       "      <td>0.0</td>\n",
       "      <td>0.0</td>\n",
       "      <td>0.0</td>\n",
       "      <td>0.0</td>\n",
       "      <td>...</td>\n",
       "      <td>0.000000</td>\n",
       "      <td>0.0</td>\n",
       "      <td>0.000000</td>\n",
       "      <td>0.0</td>\n",
       "      <td>0.0</td>\n",
       "      <td>0.0</td>\n",
       "      <td>0.000000</td>\n",
       "      <td>0.0</td>\n",
       "      <td>0.000000</td>\n",
       "      <td>6.058526</td>\n",
       "    </tr>\n",
       "    <tr>\n",
       "      <th>Retnla</th>\n",
       "      <td>0.0</td>\n",
       "      <td>0.0</td>\n",
       "      <td>0.000000</td>\n",
       "      <td>0.0</td>\n",
       "      <td>0.0</td>\n",
       "      <td>0.000000</td>\n",
       "      <td>0.0</td>\n",
       "      <td>0.0</td>\n",
       "      <td>0.0</td>\n",
       "      <td>0.0</td>\n",
       "      <td>...</td>\n",
       "      <td>0.000000</td>\n",
       "      <td>0.0</td>\n",
       "      <td>0.000000</td>\n",
       "      <td>0.0</td>\n",
       "      <td>0.0</td>\n",
       "      <td>0.0</td>\n",
       "      <td>0.000000</td>\n",
       "      <td>0.0</td>\n",
       "      <td>0.000000</td>\n",
       "      <td>0.000000</td>\n",
       "    </tr>\n",
       "    <tr>\n",
       "      <th>Igfbp5</th>\n",
       "      <td>0.0</td>\n",
       "      <td>0.0</td>\n",
       "      <td>0.000000</td>\n",
       "      <td>0.0</td>\n",
       "      <td>0.0</td>\n",
       "      <td>3.178835</td>\n",
       "      <td>0.0</td>\n",
       "      <td>0.0</td>\n",
       "      <td>0.0</td>\n",
       "      <td>0.0</td>\n",
       "      <td>...</td>\n",
       "      <td>2.161078</td>\n",
       "      <td>0.0</td>\n",
       "      <td>3.379476</td>\n",
       "      <td>0.0</td>\n",
       "      <td>0.0</td>\n",
       "      <td>0.0</td>\n",
       "      <td>1.699328</td>\n",
       "      <td>0.0</td>\n",
       "      <td>2.907867</td>\n",
       "      <td>1.642900</td>\n",
       "    </tr>\n",
       "    <tr>\n",
       "      <th>Ccl5</th>\n",
       "      <td>0.0</td>\n",
       "      <td>0.0</td>\n",
       "      <td>4.273254</td>\n",
       "      <td>0.0</td>\n",
       "      <td>0.0</td>\n",
       "      <td>0.000000</td>\n",
       "      <td>0.0</td>\n",
       "      <td>0.0</td>\n",
       "      <td>0.0</td>\n",
       "      <td>0.0</td>\n",
       "      <td>...</td>\n",
       "      <td>0.000000</td>\n",
       "      <td>0.0</td>\n",
       "      <td>0.000000</td>\n",
       "      <td>0.0</td>\n",
       "      <td>0.0</td>\n",
       "      <td>0.0</td>\n",
       "      <td>0.000000</td>\n",
       "      <td>0.0</td>\n",
       "      <td>0.000000</td>\n",
       "      <td>0.000000</td>\n",
       "    </tr>\n",
       "    <tr>\n",
       "      <th>Ccl7</th>\n",
       "      <td>0.0</td>\n",
       "      <td>0.0</td>\n",
       "      <td>0.000000</td>\n",
       "      <td>0.0</td>\n",
       "      <td>0.0</td>\n",
       "      <td>0.000000</td>\n",
       "      <td>0.0</td>\n",
       "      <td>0.0</td>\n",
       "      <td>0.0</td>\n",
       "      <td>0.0</td>\n",
       "      <td>...</td>\n",
       "      <td>0.000000</td>\n",
       "      <td>0.0</td>\n",
       "      <td>0.000000</td>\n",
       "      <td>0.0</td>\n",
       "      <td>0.0</td>\n",
       "      <td>0.0</td>\n",
       "      <td>0.000000</td>\n",
       "      <td>0.0</td>\n",
       "      <td>1.073017</td>\n",
       "      <td>0.000000</td>\n",
       "    </tr>\n",
       "  </tbody>\n",
       "</table>\n",
       "<p>5 rows × 1341 columns</p>\n",
       "</div>"
      ],
      "text/plain": [
       "        sham_rep1_AAACGGGAGAGTTGGC-1  sham_rep1_AAACGGGCATCTGGTA-1  \\\n",
       "Ccl21a                           0.0                           0.0   \n",
       "Retnla                           0.0                           0.0   \n",
       "Igfbp5                           0.0                           0.0   \n",
       "Ccl5                             0.0                           0.0   \n",
       "Ccl7                             0.0                           0.0   \n",
       "\n",
       "        sham_rep1_AAAGATGTCACCGTAA-1  sham_rep1_AAAGATGTCGGTGTCG-1  \\\n",
       "Ccl21a                      0.000000                           0.0   \n",
       "Retnla                      0.000000                           0.0   \n",
       "Igfbp5                      0.000000                           0.0   \n",
       "Ccl5                        4.273254                           0.0   \n",
       "Ccl7                        0.000000                           0.0   \n",
       "\n",
       "        sham_rep1_AAAGATGTCTTGTCAT-1  sham_rep1_AAAGCAACAGACGCTC-1  \\\n",
       "Ccl21a                           0.0                      0.000000   \n",
       "Retnla                           0.0                      0.000000   \n",
       "Igfbp5                           0.0                      3.178835   \n",
       "Ccl5                             0.0                      0.000000   \n",
       "Ccl7                             0.0                      0.000000   \n",
       "\n",
       "        sham_rep1_AAAGTAGGTTACGTCA-1  sham_rep1_AAATGCCTCGAGCCCA-1  \\\n",
       "Ccl21a                           0.0                           0.0   \n",
       "Retnla                           0.0                           0.0   \n",
       "Igfbp5                           0.0                           0.0   \n",
       "Ccl5                             0.0                           0.0   \n",
       "Ccl7                             0.0                           0.0   \n",
       "\n",
       "        sham_rep1_AACACGTTCTCAAACG-1  sham_rep1_AACTCCCTCTCAAACG-1  ...  \\\n",
       "Ccl21a                           0.0                           0.0  ...   \n",
       "Retnla                           0.0                           0.0  ...   \n",
       "Igfbp5                           0.0                           0.0  ...   \n",
       "Ccl5                             0.0                           0.0  ...   \n",
       "Ccl7                             0.0                           0.0  ...   \n",
       "\n",
       "        TAC_rep2_TTGACTTTCAGATAAG-1  TAC_rep2_TTGCCGTTCGACGGAA-1  \\\n",
       "Ccl21a                     0.000000                          0.0   \n",
       "Retnla                     0.000000                          0.0   \n",
       "Igfbp5                     2.161078                          0.0   \n",
       "Ccl5                       0.000000                          0.0   \n",
       "Ccl7                       0.000000                          0.0   \n",
       "\n",
       "        TAC_rep2_TTGGCAAAGCCAGAAC-1  TAC_rep2_TTGGCAACATCGTCGG-1  \\\n",
       "Ccl21a                     0.000000                          0.0   \n",
       "Retnla                     0.000000                          0.0   \n",
       "Igfbp5                     3.379476                          0.0   \n",
       "Ccl5                       0.000000                          0.0   \n",
       "Ccl7                       0.000000                          0.0   \n",
       "\n",
       "        TAC_rep2_TTGGCAAGTAGCGCTC-1  TAC_rep2_TTGGCAAGTATGCTTG-1  \\\n",
       "Ccl21a                          0.0                          0.0   \n",
       "Retnla                          0.0                          0.0   \n",
       "Igfbp5                          0.0                          0.0   \n",
       "Ccl5                            0.0                          0.0   \n",
       "Ccl7                            0.0                          0.0   \n",
       "\n",
       "        TAC_rep2_TTGTAGGGTGATGTGG-1  TAC_rep2_TTTACTGCAAGTTAAG-1  \\\n",
       "Ccl21a                     0.000000                          0.0   \n",
       "Retnla                     0.000000                          0.0   \n",
       "Igfbp5                     1.699328                          0.0   \n",
       "Ccl5                       0.000000                          0.0   \n",
       "Ccl7                       0.000000                          0.0   \n",
       "\n",
       "        TAC_rep2_TTTACTGGTACTTCTT-1  TAC_rep2_TTTGGTTAGGGATGGG-1  \n",
       "Ccl21a                     0.000000                     6.058526  \n",
       "Retnla                     0.000000                     0.000000  \n",
       "Igfbp5                     2.907867                     1.642900  \n",
       "Ccl5                       0.000000                     0.000000  \n",
       "Ccl7                       1.073017                     0.000000  \n",
       "\n",
       "[5 rows x 1341 columns]"
      ]
     },
     "execution_count": 8,
     "metadata": {},
     "output_type": "execute_result"
    }
   ],
   "source": [
    "df = pd.read_csv(\"./t-Test/sc_toy_data/fibrosis_toy_data.csv\")\n",
    "print(df.shape)\n",
    "df.head()"
   ]
  },
  {
   "cell_type": "markdown",
   "id": "a877e3bf-57ca-4cdc-8f47-69441237dd56",
   "metadata": {},
   "source": [
    "I'm going to define a function like in R that gives me a nice summary of data"
   ]
  },
  {
   "cell_type": "code",
   "execution_count": 15,
   "id": "76e202a0-6530-415b-afab-4bf67f24350a",
   "metadata": {},
   "outputs": [
    {
     "name": "stdout",
     "output_type": "stream",
     "text": [
      "{'min': 0.0, 'q25': 0.0, 'median': 0.0, 'average': 0.5691428843851365, 'q75': 0.0, 'max': 5.66956038590428}\n"
     ]
    },
    {
     "data": {
      "image/png": "[encoded data removed]",
      "text/plain": [
       "<Figure size 432x288 with 1 Axes>"
      ]
     },
     "metadata": {
      "needs_background": "light"
     },
     "output_type": "display_data"
    }
   ],
   "source": [
    "def summary(someList):\n",
    "    someList = np.array(someList)\n",
    "    \n",
    "    minimum = someList.min()\n",
    "    quantile25 = np.quantile(someList, 0.25)\n",
    "    average = np.average(someList)\n",
    "    median = np.median(someList)\n",
    "    quantile75 = np.quantile(someList, 0.75)\n",
    "    maximum = someList.max()\n",
    "    \n",
    "    return({'min':minimum,\n",
    "            'q25':quantile25, \n",
    "            'median':median, \n",
    "            'average':average, \n",
    "            'q75':quantile75, \n",
    "            'max':maximum})\n",
    "    \n",
    "igfbp5 = df.loc['Igfbp5',]\n",
    "print(summary(igfbp5))\n",
    "plt.hist(igfbp5)\n",
    "plt.show()"
   ]
  },
  {
   "cell_type": "markdown",
   "id": "2adff317-ae4a-4760-bc59-55fcad956ee2",
   "metadata": {},
   "source": [
    "Looking at the top first 5 genes, we have tonssss of zeros (I wonder how R gets around that!)"
   ]
  },
  {
   "cell_type": "code",
   "execution_count": 86,
   "id": "9845b1a7-1026-4166-aa6d-d12f894ad0af",
   "metadata": {},
   "outputs": [
    {
     "data": {
      "text/plain": [
       "<matplotlib.collections.LineCollection at 0x7f47dbc5d4f0>"
      ]
     },
     "execution_count": 86,
     "metadata": {},
     "output_type": "execute_result"
    },
    {
     "data": {
      "image/png": "[encoded data removed]",
      "text/plain": [
       "<Figure size 432x288 with 1 Axes>"
      ]
     },
     "metadata": {
      "needs_background": "light"
     },
     "output_type": "display_data"
    }
   ],
   "source": [
    "data = df.iloc[0:5,].T\n",
    "sns.stripplot(palette='Set3', data = data)\n",
    "ax = sns.violinplot(pallet='Set3', data = data, inner=None)\n",
    "ax.hlines(y=data.apply(lambda x: summary(x)['average'], axis=0), xmin=[-0.2+x for x in range(5)], xmax=[0.2+x for x in range(5)], colors='black')"
   ]
  },
  {
   "cell_type": "code",
   "execution_count": 87,
   "id": "b8351ee9-ea87-4e22-b7d5-17dca0ac943a",
   "metadata": {},
   "outputs": [
    {
     "data": {
      "text/plain": [
       "Ccl21a    0.489111\n",
       "Retnla    0.078761\n",
       "Igfbp5    0.569143\n",
       "Ccl5      0.154523\n",
       "Ccl7      0.288328\n",
       "dtype: float64"
      ]
     },
     "execution_count": 87,
     "metadata": {},
     "output_type": "execute_result"
    }
   ],
   "source": [
    "# I can get the values of the averages of each gene like so\n",
    "data.apply(lambda x: summary(x)['average'], axis=0)"
   ]
  },
  {
   "cell_type": "markdown",
   "id": "d38a5782-269f-4811-8f9c-6792802c6c80",
   "metadata": {},
   "source": [
    "---\n",
    "# Tangent!!!\n",
    "I kind of want to see what distribution best fits that first gene ```igfbp5```, so lets sample from several different distributions and then do a qqplot!"
   ]
  },
  {
   "cell_type": "code",
   "execution_count": 170,
   "id": "7124f38f-a133-4999-bd3e-80a0d14d33a2",
   "metadata": {},
   "outputs": [
    {
     "data": {
      "image/png": "[encoded data removed]",
      "text/plain": [
       "<Figure size 432x288 with 1 Axes>"
      ]
     },
     "metadata": {
      "needs_background": "light"
     },
     "output_type": "display_data"
    }
   ],
   "source": [
    "#                                     number of successes,probability of success,samples\n",
    "nb_dist = np.random.negative_binomial(1, 0.06, 2000)\n",
    "plt.hist(nb_dist)\n",
    "plt.show()"
   ]
  },
  {
   "cell_type": "code",
   "execution_count": 171,
   "id": "ed131096-a6d1-45b6-8724-d96721cb19d4",
   "metadata": {},
   "outputs": [
    {
     "data": {
      "image/png": "[encoded data removed]",
      "text/plain": [
       "<Figure size 432x288 with 1 Axes>"
      ]
     },
     "metadata": {
      "needs_background": "light"
     },
     "output_type": "display_data"
    }
   ],
   "source": [
    "def my_qqplot(data1, data2, xlab = 'first', ylab= 'second', n_quantiles = 50):\n",
    "    quantiles1 = [np.quantile(data1, x) for x in np.linspace(0,1,n_quantiles)]\n",
    "    quantiles2 = [np.quantile(data2, x) for x in np.linspace(0,1,n_quantiles)]\n",
    "    thing = plt.plot(np.array(quantiles1)/max(quantiles1), np.array(quantiles2)/max(quantiles2))\n",
    "    plt.xlabel(xlab)\n",
    "    plt.ylabel(ylab)\n",
    "    return thing\n",
    "\n",
    "my_qqplot(nb_dist, igfbp5, xlab='nb_dist', ylab='igfbp5 exp')\n",
    "plt.plot((0,1), (0,1))\n",
    "plt.show()"
   ]
  },
  {
   "cell_type": "markdown",
   "id": "00ea1075-d6a6-4277-ad8a-cb1863cc3b6c",
   "metadata": {},
   "source": [
    "# Problem for neural net >:)\n",
    "---\n",
    "Anywho, whenever I pick this up, I need to look up t-Test comparison tests, or even ANOVA. I think what I should do is pick one gene, and then split it up based on sham or TAC!"
   ]
  },
  {
   "cell_type": "code",
   "execution_count": 172,
   "id": "0579f549-552a-4af8-bc61-e79e2ed35dfb",
   "metadata": {},
   "outputs": [
    {
     "data": {
      "text/plain": [
       "sham_rep1_AAACGGGAGAGTTGGC-1    0.000000\n",
       "sham_rep1_AAACGGGCATCTGGTA-1    0.000000\n",
       "sham_rep1_AAAGATGTCACCGTAA-1    0.000000\n",
       "sham_rep1_AAAGATGTCGGTGTCG-1    0.000000\n",
       "sham_rep1_AAAGATGTCTTGTCAT-1    0.000000\n",
       "                                  ...   \n",
       "TAC_rep2_TTGGCAAGTATGCTTG-1     0.000000\n",
       "TAC_rep2_TTGTAGGGTGATGTGG-1     1.699328\n",
       "TAC_rep2_TTTACTGCAAGTTAAG-1     0.000000\n",
       "TAC_rep2_TTTACTGGTACTTCTT-1     2.907867\n",
       "TAC_rep2_TTTGGTTAGGGATGGG-1     1.642900\n",
       "Name: Igfbp5, Length: 1341, dtype: float64"
      ]
     },
     "execution_count": 172,
     "metadata": {},
     "output_type": "execute_result"
    }
   ],
   "source": [
    "igfbp5"
   ]
  },
  {
   "cell_type": "code",
   "execution_count": null,
   "id": "2d34a48c-0a67-412e-bfa4-8942967ca664",
   "metadata": {},
   "outputs": [],
   "source": []
  }
 ],
 "metadata": {
  "kernelspec": {
   "display_name": "Python 3.8.12 (tensorflow)",
   "language": "python",
   "name": "tensorflow"
  },
  "language_info": {
   "codemirror_mode": {
    "name": "ipython",
    "version": 3
   },
   "file_extension": ".py",
   "mimetype": "text/x-python",
   "name": "python",
   "nbconvert_exporter": "python",
   "pygments_lexer": "ipython3",
   "version": "3.8.12"
  }
 },
 "nbformat": 4,
 "nbformat_minor": 5
}
